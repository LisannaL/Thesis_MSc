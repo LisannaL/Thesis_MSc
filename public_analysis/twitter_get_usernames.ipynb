{
 "cells": [
  {
   "cell_type": "code",
   "execution_count": null,
   "id": "e3437c05",
   "metadata": {
    "id": "e3437c05",
    "outputId": "c88d3681-214d-4ea7-deab-962017f99e95",
    "scrolled": false
   },
   "outputs": [
    {
     "name": "stdout",
     "output_type": "stream",
     "text": [
      "Requirement already satisfied: gensim in c:\\users\\lisannal\\anaconda3\\lib\\site-packages (4.2.0)\n",
      "Requirement already satisfied: scipy>=0.18.1 in c:\\users\\lisannal\\anaconda3\\lib\\site-packages (from gensim) (1.9.3)\n",
      "Requirement already satisfied: Cython==0.29.28 in c:\\users\\lisannal\\anaconda3\\lib\\site-packages (from gensim) (0.29.28)\n",
      "Requirement already satisfied: numpy>=1.17.0 in c:\\users\\lisannal\\anaconda3\\lib\\site-packages (from gensim) (1.23.4)\n",
      "Requirement already satisfied: smart-open>=1.8.1 in c:\\users\\lisannal\\anaconda3\\lib\\site-packages (from gensim) (6.0.0)\n"
     ]
    }
   ],
   "source": [
    "#!pip install tweepy\n",
    "#!pip install configparser\n",
    "#!pip install wordcloud\n",
    "#!pip install nltk\n",
    "#!pip install textblob\n",
    "#!pip install estnltk==1.7.1\n",
    "#!pip install gensim "
   ]
  },
  {
   "cell_type": "code",
   "execution_count": 1,
   "id": "30752b93",
   "metadata": {
    "id": "30752b93"
   },
   "outputs": [],
   "source": [
    "import configparser\n",
    "import tweepy\n",
    "import pandas as pd\n",
    "import re\n",
    "import csv\n",
    "from collections import Counter\n",
    "import numpy as np\n",
    "import matplotlib.pyplot as plt\n",
    "import time\n",
    "import math\n",
    "import datetime"
   ]
  },
  {
   "cell_type": "markdown",
   "id": "681b5bb4",
   "metadata": {
    "id": "681b5bb4"
   },
   "source": [
    "## Authentication"
   ]
  },
  {
   "cell_type": "code",
   "execution_count": null,
   "id": "79da951d",
   "metadata": {
    "id": "3b875b14"
   },
   "outputs": [],
   "source": [
    "import configparser\n",
    "config = configparser.RawConfigParser()\n",
    "config.read('tweet.ini')\n",
    "api_key = config['twitter']['api_key']\n",
    "api_key_secret = config['twitter']['api_key_secret']\n",
    "bearer_token =  config['twitter']['bearer_token']"
   ]
  },
  {
   "cell_type": "markdown",
   "id": "5e63938e",
   "metadata": {
    "id": "5e63938e"
   },
   "source": [
    "## Tweepy setup"
   ]
  },
  {
   "cell_type": "markdown",
   "id": "0784c0d5",
   "metadata": {
    "id": "0784c0d5"
   },
   "source": [
    "- API guide: https://dev.to/twitterdev/a-comprehensive-guide-for-using-the-twitter-api-v2-using-tweepy-in-python-15d9  \n",
    "- Tweepy Documentation: https://docs.tweepy.org/en/stable/index.html   \n",
    "- Twitter API v2 data dictionary: https://developer.twitter.com/en/docs/twitter-api/data-dictionary/object-model/tweet"
   ]
  },
  {
   "cell_type": "code",
   "execution_count": null,
   "id": "4d929d9c",
   "metadata": {
    "id": "4d929d9c"
   },
   "outputs": [],
   "source": [
    "import tweepy\n",
    "client = tweepy.Client(bearer_token, wait_on_rate_limit = True)\n",
    "\n",
    "auth = tweepy.OAuth2BearerHandler(bearer_token)\n",
    "api = tweepy.API(auth, wait_on_rate_limit= True, retry_count=12, retry_delay=5, retry_errors=set([503, 500]))"
   ]
  },
  {
   "cell_type": "markdown",
   "id": "4ec71b54",
   "metadata": {
    "id": "4ec71b54"
   },
   "source": [
    "## Collect usernames based on 'leaders' names"
   ]
  },
  {
   "cell_type": "code",
   "execution_count": 2,
   "id": "456beb0c",
   "metadata": {
    "id": "456beb0c"
   },
   "outputs": [],
   "source": [
    "users = pd.read_excel('./leaders_names/final.xlsx', 'clean')"
   ]
  },
  {
   "cell_type": "code",
   "execution_count": 3,
   "id": "8a236701",
   "metadata": {
    "id": "8a236701"
   },
   "outputs": [
    {
     "name": "stdout",
     "output_type": "stream",
     "text": [
      "1865\n"
     ]
    },
    {
     "data": {
      "text/html": [
       "<div>\n",
       "<style scoped>\n",
       "    .dataframe tbody tr th:only-of-type {\n",
       "        vertical-align: middle;\n",
       "    }\n",
       "\n",
       "    .dataframe tbody tr th {\n",
       "        vertical-align: top;\n",
       "    }\n",
       "\n",
       "    .dataframe thead th {\n",
       "        text-align: right;\n",
       "    }\n",
       "</style>\n",
       "<table border=\"1\" class=\"dataframe\">\n",
       "  <thead>\n",
       "    <tr style=\"text-align: right;\">\n",
       "      <th></th>\n",
       "      <th>nimi</th>\n",
       "      <th>erakond</th>\n",
       "      <th>from</th>\n",
       "      <th>timeframe</th>\n",
       "      <th>media</th>\n",
       "      <th>clean_time</th>\n",
       "    </tr>\n",
       "  </thead>\n",
       "  <tbody>\n",
       "    <tr>\n",
       "      <th>0</th>\n",
       "      <td>Toomas Hendrik Ilves</td>\n",
       "      <td>NaN</td>\n",
       "      <td>presidents</td>\n",
       "      <td>2006-2016</td>\n",
       "      <td>NaN</td>\n",
       "      <td>2016</td>\n",
       "    </tr>\n",
       "    <tr>\n",
       "      <th>1</th>\n",
       "      <td>Kersti Kaljulaid</td>\n",
       "      <td>NaN</td>\n",
       "      <td>presidents</td>\n",
       "      <td>2016-2021</td>\n",
       "      <td>NaN</td>\n",
       "      <td>2021</td>\n",
       "    </tr>\n",
       "    <tr>\n",
       "      <th>2</th>\n",
       "      <td>Alar Karis</td>\n",
       "      <td>NaN</td>\n",
       "      <td>presidents</td>\n",
       "      <td>2021_ongoing</td>\n",
       "      <td>NaN</td>\n",
       "      <td>2023</td>\n",
       "    </tr>\n",
       "    <tr>\n",
       "      <th>3</th>\n",
       "      <td>Arto Aas</td>\n",
       "      <td>REF</td>\n",
       "      <td>parliament_13_comp</td>\n",
       "      <td>24.03.2015-29.03.2019</td>\n",
       "      <td>NaN</td>\n",
       "      <td>2019</td>\n",
       "    </tr>\n",
       "    <tr>\n",
       "      <th>4</th>\n",
       "      <td>Yoko Alender</td>\n",
       "      <td>REF</td>\n",
       "      <td>parliament_13_comp</td>\n",
       "      <td>24.03.2015-29.03.2019</td>\n",
       "      <td>NaN</td>\n",
       "      <td>2019</td>\n",
       "    </tr>\n",
       "  </tbody>\n",
       "</table>\n",
       "</div>"
      ],
      "text/plain": [
       "                   nimi erakond                from              timeframe  \\\n",
       "0  Toomas Hendrik Ilves     NaN          presidents              2006-2016   \n",
       "1      Kersti Kaljulaid     NaN          presidents              2016-2021   \n",
       "2            Alar Karis     NaN          presidents           2021_ongoing   \n",
       "3              Arto Aas     REF  parliament_13_comp  24.03.2015-29.03.2019   \n",
       "4          Yoko Alender     REF  parliament_13_comp  24.03.2015-29.03.2019   \n",
       "\n",
       "  media  clean_time  \n",
       "0   NaN        2016  \n",
       "1   NaN        2021  \n",
       "2   NaN        2023  \n",
       "3   NaN        2019  \n",
       "4   NaN        2019  "
      ]
     },
     "execution_count": 3,
     "metadata": {},
     "output_type": "execute_result"
    }
   ],
   "source": [
    "print(len(users))\n",
    "users.head() # with duplicates"
   ]
  },
  {
   "cell_type": "code",
   "execution_count": 4,
   "id": "f0d9d698",
   "metadata": {
    "id": "f0d9d698",
    "scrolled": false
   },
   "outputs": [],
   "source": [
    "latest = {}\n",
    "\n",
    "for i, row in users.iterrows():\n",
    "    name = row['nimi']\n",
    "    \n",
    "    if name in latest:\n",
    "        last_value = latest[name]['clean_time']\n",
    "        curr_value = row['clean_time']\n",
    "        last_media = latest[name]['media']\n",
    "        curr_media = row['media']\n",
    "        \n",
    "        if curr_value > last_value:\n",
    "            latest[name] = row\n",
    "        \n",
    "        if last_media == 'EAL' and curr_media != 'EAL':\n",
    "            latest[name] = row\n",
    "            \n",
    "    else:\n",
    "        latest[name] = row"
   ]
  },
  {
   "cell_type": "code",
   "execution_count": 5,
   "id": "cf130b24",
   "metadata": {
    "id": "cf130b24"
   },
   "outputs": [],
   "source": [
    "cleaned_users = pd.DataFrame.from_dict(latest, orient='index')\n",
    "cleaned_users = cleaned_users.reset_index()"
   ]
  },
  {
   "cell_type": "code",
   "execution_count": null,
   "id": "cb2aeb8e",
   "metadata": {
    "id": "cb2aeb8e",
    "outputId": "ad3dc525-01d3-4f19-97c1-a6085788b071"
   },
   "outputs": [
    {
     "name": "stdout",
     "output_type": "stream",
     "text": [
      "2016-05-04 12:02:58+00:00\n"
     ]
    }
   ],
   "source": [
    "for users in tweepy.Cursor(api.search_users, q='politician name').items(1):\n",
    "    print(users.status.created_at)"
   ]
  },
  {
   "cell_type": "code",
   "execution_count": 6,
   "id": "4c963097",
   "metadata": {
    "id": "4c963097",
    "outputId": "fdd10703-9bd4-412b-85b0-995587fed014"
   },
   "outputs": [
    {
     "name": "stdout",
     "output_type": "stream",
     "text": [
      "Total rows 1671\n"
     ]
    },
    {
     "data": {
      "text/html": [
       "<div>\n",
       "<style scoped>\n",
       "    .dataframe tbody tr th:only-of-type {\n",
       "        vertical-align: middle;\n",
       "    }\n",
       "\n",
       "    .dataframe tbody tr th {\n",
       "        vertical-align: top;\n",
       "    }\n",
       "\n",
       "    .dataframe thead th {\n",
       "        text-align: right;\n",
       "    }\n",
       "</style>\n",
       "<table border=\"1\" class=\"dataframe\">\n",
       "  <thead>\n",
       "    <tr style=\"text-align: right;\">\n",
       "      <th></th>\n",
       "      <th>index</th>\n",
       "      <th>nimi</th>\n",
       "      <th>erakond</th>\n",
       "      <th>from</th>\n",
       "      <th>timeframe</th>\n",
       "      <th>media</th>\n",
       "      <th>clean_time</th>\n",
       "    </tr>\n",
       "  </thead>\n",
       "  <tbody>\n",
       "    <tr>\n",
       "      <th>0</th>\n",
       "      <td>Toomas Hendrik Ilves</td>\n",
       "      <td>Toomas Hendrik Ilves</td>\n",
       "      <td>NaN</td>\n",
       "      <td>presidents</td>\n",
       "      <td>2006-2016</td>\n",
       "      <td>NaN</td>\n",
       "      <td>2016</td>\n",
       "    </tr>\n",
       "    <tr>\n",
       "      <th>1</th>\n",
       "      <td>Kersti Kaljulaid</td>\n",
       "      <td>Kersti Kaljulaid</td>\n",
       "      <td>NaN</td>\n",
       "      <td>presidents</td>\n",
       "      <td>2016-2021</td>\n",
       "      <td>NaN</td>\n",
       "      <td>2021</td>\n",
       "    </tr>\n",
       "    <tr>\n",
       "      <th>2</th>\n",
       "      <td>Alar Karis</td>\n",
       "      <td>Alar Karis</td>\n",
       "      <td>NaN</td>\n",
       "      <td>presidents</td>\n",
       "      <td>2021_ongoing</td>\n",
       "      <td>NaN</td>\n",
       "      <td>2023</td>\n",
       "    </tr>\n",
       "    <tr>\n",
       "      <th>3</th>\n",
       "      <td>Arto Aas</td>\n",
       "      <td>Arto Aas</td>\n",
       "      <td>REF</td>\n",
       "      <td>parliament_13_comp</td>\n",
       "      <td>24.03.2015-29.03.2019</td>\n",
       "      <td>NaN</td>\n",
       "      <td>2019</td>\n",
       "    </tr>\n",
       "    <tr>\n",
       "      <th>4</th>\n",
       "      <td>Yoko Alender</td>\n",
       "      <td>Yoko Alender</td>\n",
       "      <td>REF</td>\n",
       "      <td>parliament_14_comp</td>\n",
       "      <td>20.03.2019_ongoing</td>\n",
       "      <td>NaN</td>\n",
       "      <td>2023</td>\n",
       "    </tr>\n",
       "  </tbody>\n",
       "</table>\n",
       "</div>"
      ],
      "text/plain": [
       "                  index                  nimi erakond                from  \\\n",
       "0  Toomas Hendrik Ilves  Toomas Hendrik Ilves     NaN          presidents   \n",
       "1      Kersti Kaljulaid      Kersti Kaljulaid     NaN          presidents   \n",
       "2            Alar Karis            Alar Karis     NaN          presidents   \n",
       "3              Arto Aas              Arto Aas     REF  parliament_13_comp   \n",
       "4          Yoko Alender          Yoko Alender     REF  parliament_14_comp   \n",
       "\n",
       "               timeframe media  clean_time  \n",
       "0              2006-2016   NaN        2016  \n",
       "1              2016-2021   NaN        2021  \n",
       "2           2021_ongoing   NaN        2023  \n",
       "3  24.03.2015-29.03.2019   NaN        2019  \n",
       "4     20.03.2019_ongoing   NaN        2023  "
      ]
     },
     "execution_count": 6,
     "metadata": {},
     "output_type": "execute_result"
    }
   ],
   "source": [
    "print('Total rows',len(cleaned_users))\n",
    "cleaned_users.head()"
   ]
  },
  {
   "cell_type": "code",
   "execution_count": null,
   "id": "d88d415e",
   "metadata": {
    "id": "d88d415e",
    "outputId": "8ddbe942-0241-4771-e4cd-33f69b462098"
   },
   "outputs": [
    {
     "name": "stdout",
     "output_type": "stream",
     "text": [
      "Total rows 1671\n",
      "Currently done rows count 0\n",
      "Currently done rows count 20\n",
      "Currently done rows count 40\n",
      "Currently done rows count 60\n",
      "Currently done rows count 80\n",
      "Currently done rows count 100\n",
      "Currently done rows count 120\n",
      "Currently done rows count 140\n",
      "Currently done rows count 160\n",
      "Currently done rows count 180\n",
      "Currently done rows count 200\n",
      "Currently done rows count 220\n",
      "Currently done rows count 240\n",
      "Currently done rows count 260\n",
      "Currently done rows count 280\n",
      "Currently done rows count 300\n",
      "Currently done rows count 320\n",
      "Currently done rows count 340\n",
      "Currently done rows count 360\n",
      "Currently done rows count 380\n",
      "Currently done rows count 400\n",
      "Currently done rows count 420\n",
      "Currently done rows count 440\n",
      "Currently done rows count 460\n",
      "Currently done rows count 480\n",
      "Currently done rows count 500\n",
      "Currently done rows count 520\n",
      "Currently done rows count 540\n",
      "Currently done rows count 560\n",
      "Currently done rows count 580\n",
      "Currently done rows count 600\n",
      "Currently done rows count 620\n",
      "Currently done rows count 640\n",
      "Currently done rows count 660\n",
      "Currently done rows count 680\n",
      "Currently done rows count 700\n",
      "Currently done rows count 720\n",
      "Currently done rows count 740\n",
      "Currently done rows count 760\n",
      "Currently done rows count 780\n",
      "Currently done rows count 800\n",
      "Currently done rows count 820\n",
      "Currently done rows count 840\n",
      "Currently done rows count 860\n",
      "Currently done rows count 880\n",
      "Currently done rows count 900\n",
      "Currently done rows count 920\n",
      "Currently done rows count 940\n",
      "Currently done rows count 960\n",
      "Currently done rows count 980\n",
      "Currently done rows count 1000\n",
      "Currently done rows count 1020\n",
      "Currently done rows count 1040\n"
     ]
    },
    {
     "name": "stderr",
     "output_type": "stream",
     "text": [
      "Rate limit reached. Sleeping for: 619\n"
     ]
    },
    {
     "name": "stdout",
     "output_type": "stream",
     "text": [
      "Currently done rows count 1060\n",
      "Currently done rows count 1080\n",
      "Currently done rows count 1100\n",
      "Currently done rows count 1120\n",
      "Currently done rows count 1140\n",
      "Currently done rows count 1160\n",
      "Currently done rows count 1180\n",
      "Currently done rows count 1200\n",
      "Currently done rows count 1220\n",
      "Currently done rows count 1240\n",
      "Currently done rows count 1260\n",
      "Currently done rows count 1280\n",
      "Currently done rows count 1300\n",
      "Currently done rows count 1320\n",
      "Currently done rows count 1340\n",
      "Currently done rows count 1360\n",
      "Currently done rows count 1380\n",
      "Currently done rows count 1400\n",
      "Currently done rows count 1420\n",
      "Currently done rows count 1440\n",
      "Currently done rows count 1460\n",
      "Currently done rows count 1480\n",
      "Currently done rows count 1500\n",
      "Currently done rows count 1520\n",
      "Currently done rows count 1540\n",
      "Currently done rows count 1560\n",
      "Currently done rows count 1580\n",
      "Currently done rows count 1600\n",
      "Currently done rows count 1620\n",
      "Currently done rows count 1640\n",
      "Currently done rows count 1660\n",
      "--- 1145.6946663856506 seconds ---\n"
     ]
    }
   ],
   "source": [
    "twitter_names = []\n",
    "follower_count = []\n",
    "tweet_count = []\n",
    "last_tweet_times = []\n",
    "\n",
    "# start counting time\n",
    "start_time = time.time()\n",
    "print(\"Total rows\", len(cleaned_users))\n",
    "for i,row in cleaned_users.iterrows():\n",
    "    current_name = ''\n",
    "    current_follower_count = None\n",
    "    current_tweet_count = None\n",
    "    current_last_tweet_time = None\n",
    "    \n",
    "    if (i % 20 == 0):\n",
    "        print(\"Currently done rows count\", str(i))\n",
    "\n",
    "    # This .items(1) takes the first match\n",
    "    for users in tweepy.Cursor(api.search_users, q=row['nimi']).items(1):\n",
    "        current_name = users.screen_name\n",
    "        current_follower_count = users.followers_count\n",
    "        current_tweet_count = users.statuses_count\n",
    "        if hasattr(users, 'status'):\n",
    "            current_last_tweet_time = users.status.created_at\n",
    "    \n",
    "    twitter_names.append(current_name)\n",
    "    follower_count.append(current_follower_count)\n",
    "    tweet_count.append(current_tweet_count)\n",
    "    last_tweet_times.append(current_last_tweet_time)\n",
    "\n",
    "# end counting time\n",
    "end_time = time.time()                   \n",
    "print(\"--- %s seconds ---\" % (end_time - start_time))"
   ]
  },
  {
   "cell_type": "code",
   "execution_count": null,
   "id": "64faafcb",
   "metadata": {
    "id": "64faafcb"
   },
   "outputs": [],
   "source": [
    "df_users = cleaned_users\n",
    "df_users['twitter_usernames'] = twitter_names\n",
    "df_users['twitter_followers'] = follower_count\n",
    "df_users['twitter_tweet_count'] = tweet_count\n",
    "df_users['last_tweet_time'] = last_tweet_times"
   ]
  },
  {
   "cell_type": "code",
   "execution_count": null,
   "id": "542cee8c",
   "metadata": {
    "id": "542cee8c",
    "outputId": "3d6b827d-4900-43f6-8335-09ae63ac8c3b"
   },
   "outputs": [
    {
     "name": "stdout",
     "output_type": "stream",
     "text": [
      "From 1671 we are left with 878 users\n"
     ]
    }
   ],
   "source": [
    "count = 0\n",
    "for name in twitter_names:\n",
    "    if len(name) != 0:\n",
    "        count += 1\n",
    "        \n",
    "print('From', str(len(cleaned_users)), 'we are left with', str(count), 'users')"
   ]
  },
  {
   "cell_type": "code",
   "execution_count": null,
   "id": "b4fb9ede",
   "metadata": {
    "id": "b4fb9ede",
    "outputId": "cba90f0f-1c72-4869-9082-097558adc137"
   },
   "outputs": [
    {
     "data": {
      "text/html": [
       "<div>\n",
       "<style scoped>\n",
       "    .dataframe tbody tr th:only-of-type {\n",
       "        vertical-align: middle;\n",
       "    }\n",
       "\n",
       "    .dataframe tbody tr th {\n",
       "        vertical-align: top;\n",
       "    }\n",
       "\n",
       "    .dataframe thead th {\n",
       "        text-align: right;\n",
       "    }\n",
       "</style>\n",
       "<table border=\"1\" class=\"dataframe\">\n",
       "  <thead>\n",
       "    <tr style=\"text-align: right;\">\n",
       "      <th></th>\n",
       "      <th>index</th>\n",
       "      <th>nimi</th>\n",
       "      <th>erakond</th>\n",
       "      <th>from</th>\n",
       "      <th>timeframe</th>\n",
       "      <th>media</th>\n",
       "      <th>clean_time</th>\n",
       "      <th>twitter_usernames</th>\n",
       "      <th>twitter_followers</th>\n",
       "      <th>twitter_tweet_count</th>\n",
       "      <th>last_tweet_time</th>\n",
       "    </tr>\n",
       "  </thead>\n",
       "  <tbody>\n",
       "    <tr>\n",
       "      <th>0</th>\n",
       "      <td>Toomas Hendrik Ilves</td>\n",
       "      <td>Toomas Hendrik Ilves</td>\n",
       "      <td>NaN</td>\n",
       "      <td>presidents</td>\n",
       "      <td>2006-2016</td>\n",
       "      <td>NaN</td>\n",
       "      <td>2016</td>\n",
       "      <td>IlvesToomas</td>\n",
       "      <td>190468.0</td>\n",
       "      <td>181887.0</td>\n",
       "      <td>2023-01-07 09:30:10+00:00</td>\n",
       "    </tr>\n",
       "    <tr>\n",
       "      <th>1</th>\n",
       "      <td>Kersti Kaljulaid</td>\n",
       "      <td>Kersti Kaljulaid</td>\n",
       "      <td>NaN</td>\n",
       "      <td>presidents</td>\n",
       "      <td>2016-2021</td>\n",
       "      <td>NaN</td>\n",
       "      <td>2021</td>\n",
       "      <td>KerstiKaljulaid</td>\n",
       "      <td>62168.0</td>\n",
       "      <td>1781.0</td>\n",
       "      <td>2022-12-15 13:34:11+00:00</td>\n",
       "    </tr>\n",
       "    <tr>\n",
       "      <th>2</th>\n",
       "      <td>Alar Karis</td>\n",
       "      <td>Alar Karis</td>\n",
       "      <td>NaN</td>\n",
       "      <td>presidents</td>\n",
       "      <td>2021_ongoing</td>\n",
       "      <td>NaN</td>\n",
       "      <td>2023</td>\n",
       "      <td>AlarKaris</td>\n",
       "      <td>49265.0</td>\n",
       "      <td>552.0</td>\n",
       "      <td>2023-01-01 14:25:24+00:00</td>\n",
       "    </tr>\n",
       "    <tr>\n",
       "      <th>3</th>\n",
       "      <td>Arto Aas</td>\n",
       "      <td>Arto Aas</td>\n",
       "      <td>REF</td>\n",
       "      <td>parliament_13_comp</td>\n",
       "      <td>24.03.2015-29.03.2019</td>\n",
       "      <td>NaN</td>\n",
       "      <td>2019</td>\n",
       "      <td>ArtoAas</td>\n",
       "      <td>2977.0</td>\n",
       "      <td>5622.0</td>\n",
       "      <td>2023-01-05 08:07:05+00:00</td>\n",
       "    </tr>\n",
       "    <tr>\n",
       "      <th>4</th>\n",
       "      <td>Yoko Alender</td>\n",
       "      <td>Yoko Alender</td>\n",
       "      <td>REF</td>\n",
       "      <td>parliament_14_comp</td>\n",
       "      <td>20.03.2019_ongoing</td>\n",
       "      <td>NaN</td>\n",
       "      <td>2023</td>\n",
       "      <td>YokoAlender</td>\n",
       "      <td>1636.0</td>\n",
       "      <td>3345.0</td>\n",
       "      <td>2022-12-13 13:17:38+00:00</td>\n",
       "    </tr>\n",
       "  </tbody>\n",
       "</table>\n",
       "</div>"
      ],
      "text/plain": [
       "                  index                  nimi erakond                from  \\\n",
       "0  Toomas Hendrik Ilves  Toomas Hendrik Ilves     NaN          presidents   \n",
       "1      Kersti Kaljulaid      Kersti Kaljulaid     NaN          presidents   \n",
       "2            Alar Karis            Alar Karis     NaN          presidents   \n",
       "3              Arto Aas              Arto Aas     REF  parliament_13_comp   \n",
       "4          Yoko Alender          Yoko Alender     REF  parliament_14_comp   \n",
       "\n",
       "               timeframe media  clean_time twitter_usernames  \\\n",
       "0              2006-2016   NaN        2016       IlvesToomas   \n",
       "1              2016-2021   NaN        2021   KerstiKaljulaid   \n",
       "2           2021_ongoing   NaN        2023         AlarKaris   \n",
       "3  24.03.2015-29.03.2019   NaN        2019           ArtoAas   \n",
       "4     20.03.2019_ongoing   NaN        2023       YokoAlender   \n",
       "\n",
       "   twitter_followers  twitter_tweet_count           last_tweet_time  \n",
       "0           190468.0             181887.0 2023-01-07 09:30:10+00:00  \n",
       "1            62168.0               1781.0 2022-12-15 13:34:11+00:00  \n",
       "2            49265.0                552.0 2023-01-01 14:25:24+00:00  \n",
       "3             2977.0               5622.0 2023-01-05 08:07:05+00:00  \n",
       "4             1636.0               3345.0 2022-12-13 13:17:38+00:00  "
      ]
     },
     "execution_count": 31,
     "metadata": {},
     "output_type": "execute_result"
    }
   ],
   "source": [
    "df_users.head()"
   ]
  },
  {
   "cell_type": "code",
   "execution_count": null,
   "id": "eec07cdc",
   "metadata": {
    "id": "eec07cdc"
   },
   "outputs": [],
   "source": [
    "df_users.to_csv('twitter_users_new.csv', encoding=\"utf-8\")"
   ]
  },
  {
   "cell_type": "markdown",
   "id": "c24e4c3e",
   "metadata": {
    "id": "c24e4c3e"
   },
   "source": [
    "Manually deleted the rows where name and twitter account didn't match."
   ]
  },
  {
   "cell_type": "code",
   "execution_count": 208,
   "id": "04796bb1",
   "metadata": {
    "id": "04796bb1"
   },
   "outputs": [],
   "source": [
    "cleaned_twitter_users = pd.read_excel('twitter_users_clean.xlsx', 'Sheet1')"
   ]
  },
  {
   "cell_type": "code",
   "execution_count": null,
   "id": "cee8fb12",
   "metadata": {},
   "outputs": [],
   "source": []
  },
  {
   "cell_type": "markdown",
   "id": "b134623f",
   "metadata": {
    "id": "b134623f"
   },
   "source": [
    "## Merge new users with cleaned\n",
    "Since I manually removed fake usernames in cleaned twitter users, but have regenereated the twitter_users with some new columns, we will merge to the cleaned users the new data, to avoid having to manually clean fake usernames again"
   ]
  },
  {
   "cell_type": "code",
   "execution_count": 209,
   "id": "ea9ef643",
   "metadata": {
    "id": "ea9ef643",
    "outputId": "6d68fa54-18a5-439c-f0f1-991273b95c05",
    "scrolled": true
   },
   "outputs": [
    {
     "data": {
      "text/html": [
       "<div>\n",
       "<style scoped>\n",
       "    .dataframe tbody tr th:only-of-type {\n",
       "        vertical-align: middle;\n",
       "    }\n",
       "\n",
       "    .dataframe tbody tr th {\n",
       "        vertical-align: top;\n",
       "    }\n",
       "\n",
       "    .dataframe thead th {\n",
       "        text-align: right;\n",
       "    }\n",
       "</style>\n",
       "<table border=\"1\" class=\"dataframe\">\n",
       "  <thead>\n",
       "    <tr style=\"text-align: right;\">\n",
       "      <th></th>\n",
       "      <th>index</th>\n",
       "      <th>nimi</th>\n",
       "      <th>erakond</th>\n",
       "      <th>from</th>\n",
       "      <th>timeframe</th>\n",
       "      <th>media</th>\n",
       "      <th>clean_time</th>\n",
       "      <th>twitter_usernames</th>\n",
       "      <th>twitter_followers</th>\n",
       "      <th>twitter_tweet_count</th>\n",
       "    </tr>\n",
       "  </thead>\n",
       "  <tbody>\n",
       "    <tr>\n",
       "      <th>0</th>\n",
       "      <td>Urmas Reinsalu</td>\n",
       "      <td>Urmas Reinsalu</td>\n",
       "      <td>I</td>\n",
       "      <td>Gov_52_comp</td>\n",
       "      <td>18.07.2022_ongoing</td>\n",
       "      <td>NaN</td>\n",
       "      <td>2023</td>\n",
       "      <td>UrmasReinsalu</td>\n",
       "      <td>11332.0</td>\n",
       "      <td>1057.0</td>\n",
       "    </tr>\n",
       "    <tr>\n",
       "      <th>1</th>\n",
       "      <td>Hendrik Johannes Terras</td>\n",
       "      <td>Hendrik Johannes Terras</td>\n",
       "      <td>E200</td>\n",
       "      <td>additional</td>\n",
       "      <td>NaN</td>\n",
       "      <td>NaN</td>\n",
       "      <td>2023</td>\n",
       "      <td>terrashendrikj</td>\n",
       "      <td>72.0</td>\n",
       "      <td>1.0</td>\n",
       "    </tr>\n",
       "    <tr>\n",
       "      <th>2</th>\n",
       "      <td>Toomas Hendrik Ilves</td>\n",
       "      <td>Toomas Hendrik Ilves</td>\n",
       "      <td>NaN</td>\n",
       "      <td>presidents</td>\n",
       "      <td>2006-2016</td>\n",
       "      <td>NaN</td>\n",
       "      <td>2016</td>\n",
       "      <td>IlvesToomas</td>\n",
       "      <td>190451.0</td>\n",
       "      <td>181851.0</td>\n",
       "    </tr>\n",
       "    <tr>\n",
       "      <th>3</th>\n",
       "      <td>Kersti Kaljulaid</td>\n",
       "      <td>Kersti Kaljulaid</td>\n",
       "      <td>NaN</td>\n",
       "      <td>presidents</td>\n",
       "      <td>2016-2021</td>\n",
       "      <td>NaN</td>\n",
       "      <td>2021</td>\n",
       "      <td>KerstiKaljulaid</td>\n",
       "      <td>62189.0</td>\n",
       "      <td>1781.0</td>\n",
       "    </tr>\n",
       "    <tr>\n",
       "      <th>4</th>\n",
       "      <td>Alar Karis</td>\n",
       "      <td>Alar Karis</td>\n",
       "      <td>NaN</td>\n",
       "      <td>presidents</td>\n",
       "      <td>2021_ongoing</td>\n",
       "      <td>NaN</td>\n",
       "      <td>2023</td>\n",
       "      <td>AlarKaris</td>\n",
       "      <td>49262.0</td>\n",
       "      <td>552.0</td>\n",
       "    </tr>\n",
       "  </tbody>\n",
       "</table>\n",
       "</div>"
      ],
      "text/plain": [
       "                     index                     nimi erakond         from  \\\n",
       "0           Urmas Reinsalu           Urmas Reinsalu       I  Gov_52_comp   \n",
       "1  Hendrik Johannes Terras  Hendrik Johannes Terras    E200   additional   \n",
       "2     Toomas Hendrik Ilves     Toomas Hendrik Ilves     NaN   presidents   \n",
       "3         Kersti Kaljulaid         Kersti Kaljulaid     NaN   presidents   \n",
       "4               Alar Karis               Alar Karis     NaN   presidents   \n",
       "\n",
       "            timeframe media  clean_time twitter_usernames  twitter_followers  \\\n",
       "0  18.07.2022_ongoing   NaN        2023     UrmasReinsalu            11332.0   \n",
       "1                 NaN   NaN        2023    terrashendrikj               72.0   \n",
       "2           2006-2016   NaN        2016       IlvesToomas           190451.0   \n",
       "3           2016-2021   NaN        2021   KerstiKaljulaid            62189.0   \n",
       "4        2021_ongoing   NaN        2023         AlarKaris            49262.0   \n",
       "\n",
       "   twitter_tweet_count  \n",
       "0               1057.0  \n",
       "1                  1.0  \n",
       "2             181851.0  \n",
       "3               1781.0  \n",
       "4                552.0  "
      ]
     },
     "execution_count": 209,
     "metadata": {},
     "output_type": "execute_result"
    }
   ],
   "source": [
    "df_users = pd.read_csv('twitter_users_new.csv')\n",
    "cleaned_twitter_users.head()"
   ]
  },
  {
   "cell_type": "code",
   "execution_count": 210,
   "id": "032bb750",
   "metadata": {
    "id": "032bb750",
    "outputId": "0f0fae05-5bb6-4186-834f-112444046255"
   },
   "outputs": [
    {
     "data": {
      "text/html": [
       "<div>\n",
       "<style scoped>\n",
       "    .dataframe tbody tr th:only-of-type {\n",
       "        vertical-align: middle;\n",
       "    }\n",
       "\n",
       "    .dataframe tbody tr th {\n",
       "        vertical-align: top;\n",
       "    }\n",
       "\n",
       "    .dataframe thead th {\n",
       "        text-align: right;\n",
       "    }\n",
       "</style>\n",
       "<table border=\"1\" class=\"dataframe\">\n",
       "  <thead>\n",
       "    <tr style=\"text-align: right;\">\n",
       "      <th></th>\n",
       "      <th>Unnamed: 0</th>\n",
       "      <th>index</th>\n",
       "      <th>nimi</th>\n",
       "      <th>erakond</th>\n",
       "      <th>from</th>\n",
       "      <th>timeframe</th>\n",
       "      <th>media</th>\n",
       "      <th>clean_time</th>\n",
       "      <th>twitter_usernames</th>\n",
       "      <th>twitter_followers</th>\n",
       "      <th>twitter_tweet_count</th>\n",
       "      <th>last_tweet_time</th>\n",
       "    </tr>\n",
       "  </thead>\n",
       "  <tbody>\n",
       "    <tr>\n",
       "      <th>0</th>\n",
       "      <td>0</td>\n",
       "      <td>Toomas Hendrik Ilves</td>\n",
       "      <td>Toomas Hendrik Ilves</td>\n",
       "      <td>NaN</td>\n",
       "      <td>presidents</td>\n",
       "      <td>2006-2016</td>\n",
       "      <td>NaN</td>\n",
       "      <td>2016</td>\n",
       "      <td>IlvesToomas</td>\n",
       "      <td>190468.0</td>\n",
       "      <td>181887.0</td>\n",
       "      <td>2023-01-07 09:30:10+00:00</td>\n",
       "    </tr>\n",
       "    <tr>\n",
       "      <th>1</th>\n",
       "      <td>1</td>\n",
       "      <td>Kersti Kaljulaid</td>\n",
       "      <td>Kersti Kaljulaid</td>\n",
       "      <td>NaN</td>\n",
       "      <td>presidents</td>\n",
       "      <td>2016-2021</td>\n",
       "      <td>NaN</td>\n",
       "      <td>2021</td>\n",
       "      <td>KerstiKaljulaid</td>\n",
       "      <td>62168.0</td>\n",
       "      <td>1781.0</td>\n",
       "      <td>2022-12-15 13:34:11+00:00</td>\n",
       "    </tr>\n",
       "    <tr>\n",
       "      <th>2</th>\n",
       "      <td>2</td>\n",
       "      <td>Alar Karis</td>\n",
       "      <td>Alar Karis</td>\n",
       "      <td>NaN</td>\n",
       "      <td>presidents</td>\n",
       "      <td>2021_ongoing</td>\n",
       "      <td>NaN</td>\n",
       "      <td>2023</td>\n",
       "      <td>AlarKaris</td>\n",
       "      <td>49265.0</td>\n",
       "      <td>552.0</td>\n",
       "      <td>2023-01-01 14:25:24+00:00</td>\n",
       "    </tr>\n",
       "    <tr>\n",
       "      <th>3</th>\n",
       "      <td>3</td>\n",
       "      <td>Arto Aas</td>\n",
       "      <td>Arto Aas</td>\n",
       "      <td>REF</td>\n",
       "      <td>parliament_13_comp</td>\n",
       "      <td>24.03.2015-29.03.2019</td>\n",
       "      <td>NaN</td>\n",
       "      <td>2019</td>\n",
       "      <td>ArtoAas</td>\n",
       "      <td>2977.0</td>\n",
       "      <td>5622.0</td>\n",
       "      <td>2023-01-05 08:07:05+00:00</td>\n",
       "    </tr>\n",
       "    <tr>\n",
       "      <th>4</th>\n",
       "      <td>4</td>\n",
       "      <td>Yoko Alender</td>\n",
       "      <td>Yoko Alender</td>\n",
       "      <td>REF</td>\n",
       "      <td>parliament_14_comp</td>\n",
       "      <td>20.03.2019_ongoing</td>\n",
       "      <td>NaN</td>\n",
       "      <td>2023</td>\n",
       "      <td>YokoAlender</td>\n",
       "      <td>1636.0</td>\n",
       "      <td>3345.0</td>\n",
       "      <td>2022-12-13 13:17:38+00:00</td>\n",
       "    </tr>\n",
       "  </tbody>\n",
       "</table>\n",
       "</div>"
      ],
      "text/plain": [
       "   Unnamed: 0                 index                  nimi erakond  \\\n",
       "0           0  Toomas Hendrik Ilves  Toomas Hendrik Ilves     NaN   \n",
       "1           1      Kersti Kaljulaid      Kersti Kaljulaid     NaN   \n",
       "2           2            Alar Karis            Alar Karis     NaN   \n",
       "3           3              Arto Aas              Arto Aas     REF   \n",
       "4           4          Yoko Alender          Yoko Alender     REF   \n",
       "\n",
       "                 from              timeframe media  clean_time  \\\n",
       "0          presidents              2006-2016   NaN        2016   \n",
       "1          presidents              2016-2021   NaN        2021   \n",
       "2          presidents           2021_ongoing   NaN        2023   \n",
       "3  parliament_13_comp  24.03.2015-29.03.2019   NaN        2019   \n",
       "4  parliament_14_comp     20.03.2019_ongoing   NaN        2023   \n",
       "\n",
       "  twitter_usernames  twitter_followers  twitter_tweet_count  \\\n",
       "0       IlvesToomas           190468.0             181887.0   \n",
       "1   KerstiKaljulaid            62168.0               1781.0   \n",
       "2         AlarKaris            49265.0                552.0   \n",
       "3           ArtoAas             2977.0               5622.0   \n",
       "4       YokoAlender             1636.0               3345.0   \n",
       "\n",
       "             last_tweet_time  \n",
       "0  2023-01-07 09:30:10+00:00  \n",
       "1  2022-12-15 13:34:11+00:00  \n",
       "2  2023-01-01 14:25:24+00:00  \n",
       "3  2023-01-05 08:07:05+00:00  \n",
       "4  2022-12-13 13:17:38+00:00  "
      ]
     },
     "execution_count": 210,
     "metadata": {},
     "output_type": "execute_result"
    }
   ],
   "source": [
    "df_users.head()"
   ]
  },
  {
   "cell_type": "code",
   "execution_count": 211,
   "id": "c855e5f0",
   "metadata": {
    "id": "c855e5f0",
    "outputId": "45668488-3b4b-43d4-daea-bb73a2bd70ef",
    "scrolled": true
   },
   "outputs": [
    {
     "name": "stdout",
     "output_type": "stream",
     "text": [
      "1540\n",
      "1671\n"
     ]
    }
   ],
   "source": [
    "print(len(cleaned_twitter_users))\n",
    "print(len(df_users))"
   ]
  },
  {
   "cell_type": "code",
   "execution_count": 212,
   "id": "9bb65895",
   "metadata": {
    "id": "9bb65895",
    "outputId": "a6c75e6c-030e-4368-b8ae-6e4fde020840"
   },
   "outputs": [
    {
     "data": {
      "text/html": [
       "<div>\n",
       "<style scoped>\n",
       "    .dataframe tbody tr th:only-of-type {\n",
       "        vertical-align: middle;\n",
       "    }\n",
       "\n",
       "    .dataframe tbody tr th {\n",
       "        vertical-align: top;\n",
       "    }\n",
       "\n",
       "    .dataframe thead th {\n",
       "        text-align: right;\n",
       "    }\n",
       "</style>\n",
       "<table border=\"1\" class=\"dataframe\">\n",
       "  <thead>\n",
       "    <tr style=\"text-align: right;\">\n",
       "      <th></th>\n",
       "      <th>nimi</th>\n",
       "      <th>last_tweet_time</th>\n",
       "    </tr>\n",
       "  </thead>\n",
       "  <tbody>\n",
       "    <tr>\n",
       "      <th>0</th>\n",
       "      <td>Toomas Hendrik Ilves</td>\n",
       "      <td>2023-01-07 09:30:10+00:00</td>\n",
       "    </tr>\n",
       "    <tr>\n",
       "      <th>1</th>\n",
       "      <td>Kersti Kaljulaid</td>\n",
       "      <td>2022-12-15 13:34:11+00:00</td>\n",
       "    </tr>\n",
       "    <tr>\n",
       "      <th>2</th>\n",
       "      <td>Alar Karis</td>\n",
       "      <td>2023-01-01 14:25:24+00:00</td>\n",
       "    </tr>\n",
       "    <tr>\n",
       "      <th>3</th>\n",
       "      <td>Arto Aas</td>\n",
       "      <td>2023-01-05 08:07:05+00:00</td>\n",
       "    </tr>\n",
       "    <tr>\n",
       "      <th>4</th>\n",
       "      <td>Yoko Alender</td>\n",
       "      <td>2022-12-13 13:17:38+00:00</td>\n",
       "    </tr>\n",
       "  </tbody>\n",
       "</table>\n",
       "</div>"
      ],
      "text/plain": [
       "                   nimi            last_tweet_time\n",
       "0  Toomas Hendrik Ilves  2023-01-07 09:30:10+00:00\n",
       "1      Kersti Kaljulaid  2022-12-15 13:34:11+00:00\n",
       "2            Alar Karis  2023-01-01 14:25:24+00:00\n",
       "3              Arto Aas  2023-01-05 08:07:05+00:00\n",
       "4          Yoko Alender  2022-12-13 13:17:38+00:00"
      ]
     },
     "execution_count": 212,
     "metadata": {},
     "output_type": "execute_result"
    }
   ],
   "source": [
    "subset_df = df_users[['nimi', 'last_tweet_time']]\n",
    "subset_df.head()"
   ]
  },
  {
   "cell_type": "code",
   "execution_count": 213,
   "id": "780411c2",
   "metadata": {
    "id": "780411c2",
    "outputId": "193d386b-be73-4da4-93e4-24ec85d2c945"
   },
   "outputs": [
    {
     "data": {
      "text/html": [
       "<div>\n",
       "<style scoped>\n",
       "    .dataframe tbody tr th:only-of-type {\n",
       "        vertical-align: middle;\n",
       "    }\n",
       "\n",
       "    .dataframe tbody tr th {\n",
       "        vertical-align: top;\n",
       "    }\n",
       "\n",
       "    .dataframe thead th {\n",
       "        text-align: right;\n",
       "    }\n",
       "</style>\n",
       "<table border=\"1\" class=\"dataframe\">\n",
       "  <thead>\n",
       "    <tr style=\"text-align: right;\">\n",
       "      <th></th>\n",
       "      <th>index</th>\n",
       "      <th>nimi</th>\n",
       "      <th>erakond</th>\n",
       "      <th>from</th>\n",
       "      <th>timeframe</th>\n",
       "      <th>media</th>\n",
       "      <th>clean_time</th>\n",
       "      <th>twitter_usernames</th>\n",
       "      <th>twitter_followers</th>\n",
       "      <th>twitter_tweet_count</th>\n",
       "      <th>last_tweet_time</th>\n",
       "    </tr>\n",
       "  </thead>\n",
       "  <tbody>\n",
       "    <tr>\n",
       "      <th>0</th>\n",
       "      <td>Urmas Reinsalu</td>\n",
       "      <td>Urmas Reinsalu</td>\n",
       "      <td>I</td>\n",
       "      <td>Gov_52_comp</td>\n",
       "      <td>18.07.2022_ongoing</td>\n",
       "      <td>NaN</td>\n",
       "      <td>2023</td>\n",
       "      <td>UrmasReinsalu</td>\n",
       "      <td>11332.0</td>\n",
       "      <td>1057.0</td>\n",
       "      <td>2023-01-06 13:15:19+00:00</td>\n",
       "    </tr>\n",
       "    <tr>\n",
       "      <th>1</th>\n",
       "      <td>Hendrik Johannes Terras</td>\n",
       "      <td>Hendrik Johannes Terras</td>\n",
       "      <td>E200</td>\n",
       "      <td>additional</td>\n",
       "      <td>NaN</td>\n",
       "      <td>NaN</td>\n",
       "      <td>2023</td>\n",
       "      <td>terrashendrikj</td>\n",
       "      <td>72.0</td>\n",
       "      <td>1.0</td>\n",
       "      <td>2022-08-26 09:03:06+00:00</td>\n",
       "    </tr>\n",
       "    <tr>\n",
       "      <th>2</th>\n",
       "      <td>Toomas Hendrik Ilves</td>\n",
       "      <td>Toomas Hendrik Ilves</td>\n",
       "      <td>NaN</td>\n",
       "      <td>presidents</td>\n",
       "      <td>2006-2016</td>\n",
       "      <td>NaN</td>\n",
       "      <td>2016</td>\n",
       "      <td>IlvesToomas</td>\n",
       "      <td>190451.0</td>\n",
       "      <td>181851.0</td>\n",
       "      <td>2023-01-07 09:30:10+00:00</td>\n",
       "    </tr>\n",
       "    <tr>\n",
       "      <th>3</th>\n",
       "      <td>Kersti Kaljulaid</td>\n",
       "      <td>Kersti Kaljulaid</td>\n",
       "      <td>NaN</td>\n",
       "      <td>presidents</td>\n",
       "      <td>2016-2021</td>\n",
       "      <td>NaN</td>\n",
       "      <td>2021</td>\n",
       "      <td>KerstiKaljulaid</td>\n",
       "      <td>62189.0</td>\n",
       "      <td>1781.0</td>\n",
       "      <td>2022-12-15 13:34:11+00:00</td>\n",
       "    </tr>\n",
       "    <tr>\n",
       "      <th>4</th>\n",
       "      <td>Alar Karis</td>\n",
       "      <td>Alar Karis</td>\n",
       "      <td>NaN</td>\n",
       "      <td>presidents</td>\n",
       "      <td>2021_ongoing</td>\n",
       "      <td>NaN</td>\n",
       "      <td>2023</td>\n",
       "      <td>AlarKaris</td>\n",
       "      <td>49262.0</td>\n",
       "      <td>552.0</td>\n",
       "      <td>2023-01-01 14:25:24+00:00</td>\n",
       "    </tr>\n",
       "  </tbody>\n",
       "</table>\n",
       "</div>"
      ],
      "text/plain": [
       "                     index                     nimi erakond         from  \\\n",
       "0           Urmas Reinsalu           Urmas Reinsalu       I  Gov_52_comp   \n",
       "1  Hendrik Johannes Terras  Hendrik Johannes Terras    E200   additional   \n",
       "2     Toomas Hendrik Ilves     Toomas Hendrik Ilves     NaN   presidents   \n",
       "3         Kersti Kaljulaid         Kersti Kaljulaid     NaN   presidents   \n",
       "4               Alar Karis               Alar Karis     NaN   presidents   \n",
       "\n",
       "            timeframe media  clean_time twitter_usernames  twitter_followers  \\\n",
       "0  18.07.2022_ongoing   NaN        2023     UrmasReinsalu            11332.0   \n",
       "1                 NaN   NaN        2023    terrashendrikj               72.0   \n",
       "2           2006-2016   NaN        2016       IlvesToomas           190451.0   \n",
       "3           2016-2021   NaN        2021   KerstiKaljulaid            62189.0   \n",
       "4        2021_ongoing   NaN        2023         AlarKaris            49262.0   \n",
       "\n",
       "   twitter_tweet_count            last_tweet_time  \n",
       "0               1057.0  2023-01-06 13:15:19+00:00  \n",
       "1                  1.0  2022-08-26 09:03:06+00:00  \n",
       "2             181851.0  2023-01-07 09:30:10+00:00  \n",
       "3               1781.0  2022-12-15 13:34:11+00:00  \n",
       "4                552.0  2023-01-01 14:25:24+00:00  "
      ]
     },
     "execution_count": 213,
     "metadata": {},
     "output_type": "execute_result"
    }
   ],
   "source": [
    "clean_merged_users = pd.merge(cleaned_twitter_users, subset_df, on=['nimi','nimi'])\n",
    "clean_merged_users.head()"
   ]
  },
  {
   "cell_type": "markdown",
   "id": "595420aa",
   "metadata": {
    "id": "595420aa"
   },
   "source": [
    "### Correct year column in data"
   ]
  },
  {
   "cell_type": "code",
   "execution_count": 214,
   "id": "ff224b7e",
   "metadata": {
    "id": "ff224b7e"
   },
   "outputs": [],
   "source": [
    "years = []\n",
    "\n",
    "for i, row in clean_merged_users.iterrows():\n",
    "    if pd.isna(row['last_tweet_time']):\n",
    "        years.append(row['last_tweet_time'])\n",
    "        continue\n",
    "    element = datetime.datetime.strptime(row['last_tweet_time'],\"%Y-%m-%d %H:%M:%S%z\")\n",
    "    years.append(element.year)"
   ]
  },
  {
   "cell_type": "code",
   "execution_count": 215,
   "id": "9d4af9e2",
   "metadata": {
    "id": "9d4af9e2",
    "outputId": "0ddfb5e7-8533-487f-a9fa-a04a2812cfe8",
    "scrolled": true
   },
   "outputs": [
    {
     "data": {
      "text/html": [
       "<div>\n",
       "<style scoped>\n",
       "    .dataframe tbody tr th:only-of-type {\n",
       "        vertical-align: middle;\n",
       "    }\n",
       "\n",
       "    .dataframe tbody tr th {\n",
       "        vertical-align: top;\n",
       "    }\n",
       "\n",
       "    .dataframe thead th {\n",
       "        text-align: right;\n",
       "    }\n",
       "</style>\n",
       "<table border=\"1\" class=\"dataframe\">\n",
       "  <thead>\n",
       "    <tr style=\"text-align: right;\">\n",
       "      <th></th>\n",
       "      <th>index</th>\n",
       "      <th>nimi</th>\n",
       "      <th>erakond</th>\n",
       "      <th>from</th>\n",
       "      <th>timeframe</th>\n",
       "      <th>media</th>\n",
       "      <th>clean_time</th>\n",
       "      <th>twitter_usernames</th>\n",
       "      <th>twitter_followers</th>\n",
       "      <th>twitter_tweet_count</th>\n",
       "      <th>last_tweet_time</th>\n",
       "      <th>last_tweet_year</th>\n",
       "    </tr>\n",
       "  </thead>\n",
       "  <tbody>\n",
       "    <tr>\n",
       "      <th>0</th>\n",
       "      <td>Urmas Reinsalu</td>\n",
       "      <td>Urmas Reinsalu</td>\n",
       "      <td>I</td>\n",
       "      <td>Gov_52_comp</td>\n",
       "      <td>18.07.2022_ongoing</td>\n",
       "      <td>NaN</td>\n",
       "      <td>2023</td>\n",
       "      <td>UrmasReinsalu</td>\n",
       "      <td>11332.0</td>\n",
       "      <td>1057.0</td>\n",
       "      <td>2023-01-06 13:15:19+00:00</td>\n",
       "      <td>2023.0</td>\n",
       "    </tr>\n",
       "    <tr>\n",
       "      <th>1</th>\n",
       "      <td>Hendrik Johannes Terras</td>\n",
       "      <td>Hendrik Johannes Terras</td>\n",
       "      <td>E200</td>\n",
       "      <td>additional</td>\n",
       "      <td>NaN</td>\n",
       "      <td>NaN</td>\n",
       "      <td>2023</td>\n",
       "      <td>terrashendrikj</td>\n",
       "      <td>72.0</td>\n",
       "      <td>1.0</td>\n",
       "      <td>2022-08-26 09:03:06+00:00</td>\n",
       "      <td>2022.0</td>\n",
       "    </tr>\n",
       "    <tr>\n",
       "      <th>2</th>\n",
       "      <td>Toomas Hendrik Ilves</td>\n",
       "      <td>Toomas Hendrik Ilves</td>\n",
       "      <td>NaN</td>\n",
       "      <td>presidents</td>\n",
       "      <td>2006-2016</td>\n",
       "      <td>NaN</td>\n",
       "      <td>2016</td>\n",
       "      <td>IlvesToomas</td>\n",
       "      <td>190451.0</td>\n",
       "      <td>181851.0</td>\n",
       "      <td>2023-01-07 09:30:10+00:00</td>\n",
       "      <td>2023.0</td>\n",
       "    </tr>\n",
       "    <tr>\n",
       "      <th>3</th>\n",
       "      <td>Kersti Kaljulaid</td>\n",
       "      <td>Kersti Kaljulaid</td>\n",
       "      <td>NaN</td>\n",
       "      <td>presidents</td>\n",
       "      <td>2016-2021</td>\n",
       "      <td>NaN</td>\n",
       "      <td>2021</td>\n",
       "      <td>KerstiKaljulaid</td>\n",
       "      <td>62189.0</td>\n",
       "      <td>1781.0</td>\n",
       "      <td>2022-12-15 13:34:11+00:00</td>\n",
       "      <td>2022.0</td>\n",
       "    </tr>\n",
       "    <tr>\n",
       "      <th>4</th>\n",
       "      <td>Alar Karis</td>\n",
       "      <td>Alar Karis</td>\n",
       "      <td>NaN</td>\n",
       "      <td>presidents</td>\n",
       "      <td>2021_ongoing</td>\n",
       "      <td>NaN</td>\n",
       "      <td>2023</td>\n",
       "      <td>AlarKaris</td>\n",
       "      <td>49262.0</td>\n",
       "      <td>552.0</td>\n",
       "      <td>2023-01-01 14:25:24+00:00</td>\n",
       "      <td>2023.0</td>\n",
       "    </tr>\n",
       "  </tbody>\n",
       "</table>\n",
       "</div>"
      ],
      "text/plain": [
       "                     index                     nimi erakond         from  \\\n",
       "0           Urmas Reinsalu           Urmas Reinsalu       I  Gov_52_comp   \n",
       "1  Hendrik Johannes Terras  Hendrik Johannes Terras    E200   additional   \n",
       "2     Toomas Hendrik Ilves     Toomas Hendrik Ilves     NaN   presidents   \n",
       "3         Kersti Kaljulaid         Kersti Kaljulaid     NaN   presidents   \n",
       "4               Alar Karis               Alar Karis     NaN   presidents   \n",
       "\n",
       "            timeframe media  clean_time twitter_usernames  twitter_followers  \\\n",
       "0  18.07.2022_ongoing   NaN        2023     UrmasReinsalu            11332.0   \n",
       "1                 NaN   NaN        2023    terrashendrikj               72.0   \n",
       "2           2006-2016   NaN        2016       IlvesToomas           190451.0   \n",
       "3           2016-2021   NaN        2021   KerstiKaljulaid            62189.0   \n",
       "4        2021_ongoing   NaN        2023         AlarKaris            49262.0   \n",
       "\n",
       "   twitter_tweet_count            last_tweet_time  last_tweet_year  \n",
       "0               1057.0  2023-01-06 13:15:19+00:00           2023.0  \n",
       "1                  1.0  2022-08-26 09:03:06+00:00           2022.0  \n",
       "2             181851.0  2023-01-07 09:30:10+00:00           2023.0  \n",
       "3               1781.0  2022-12-15 13:34:11+00:00           2022.0  \n",
       "4                552.0  2023-01-01 14:25:24+00:00           2023.0  "
      ]
     },
     "execution_count": 215,
     "metadata": {},
     "output_type": "execute_result"
    }
   ],
   "source": [
    "clean_merged_users['last_tweet_year'] = years\n",
    "clean_merged_users.head()"
   ]
  },
  {
   "cell_type": "markdown",
   "id": "1010259d",
   "metadata": {
    "id": "1010259d"
   },
   "source": [
    "### Create list of valid usernames"
   ]
  },
  {
   "cell_type": "code",
   "execution_count": 216,
   "id": "09024a1d",
   "metadata": {
    "id": "09024a1d"
   },
   "outputs": [],
   "source": [
    "valid_usernames = []\n",
    "\n",
    "for idx, user in clean_merged_users.iterrows():\n",
    "    username = user['twitter_usernames']\n",
    "    tweet_count = user['twitter_tweet_count']\n",
    "    last_tweet_year = user['last_tweet_year']\n",
    "\n",
    "\n",
    "    user_has_no_username = username == '' or pd.isna(username) # check if twitter username exists for a certain person\n",
    "    user_has_no_tweets = tweet_count == 0 # check if user has tweets\n",
    "    user_has_not_tweeted_lately = pd.isna(last_tweet_year) or int(last_tweet_year) < 2022 # check if last tweet made in 2022\n",
    "    if user_has_no_username or user_has_no_tweets or user_has_not_tweeted_lately:\n",
    "        continue\n",
    "        \n",
    "    valid_usernames.append(username)"
   ]
  },
  {
   "cell_type": "code",
   "execution_count": 217,
   "id": "659ad03e",
   "metadata": {
    "id": "659ad03e",
    "outputId": "7984d6ee-d5a4-452e-d0c9-b657a0b8c08d",
    "scrolled": true
   },
   "outputs": [
    {
     "data": {
      "text/plain": [
       "232"
      ]
     },
     "execution_count": 217,
     "metadata": {},
     "output_type": "execute_result"
    }
   ],
   "source": [
    "len(valid_usernames)"
   ]
  },
  {
   "cell_type": "markdown",
   "id": "05ce6928",
   "metadata": {
    "id": "05ce6928"
   },
   "source": [
    "### Remove those usernames whose data we already have\n",
    "I ran the search for about a day, but it was taking too long. To speed it up I added more filtering to avoid doing\n",
    "unneccesary queries, that are not needed. Every query increase the chance of getting 15 minute cooldown. The filtering\n",
    "removed those users that do not have any tweets, or that have not tweeted since 2021.\n",
    "Since I have some data collected in 24hrs I do not want to wait for it to be fetched again, so here we are removing those users \n",
    "from who we already have data."
   ]
  },
  {
   "cell_type": "code",
   "execution_count": 218,
   "id": "9a5bfa82",
   "metadata": {
    "id": "9a5bfa82",
    "outputId": "b4197e82-2f13-41b1-ab48-451dd3607c89"
   },
   "outputs": [
    {
     "name": "stdout",
     "output_type": "stream",
     "text": [
      "232\n"
     ]
    }
   ],
   "source": [
    "print(len(valid_usernames))"
   ]
  },
  {
   "cell_type": "code",
   "execution_count": 219,
   "id": "31293d79",
   "metadata": {
    "id": "31293d79",
    "outputId": "dd74df5f-b0a9-4320-94c5-8b0a887b8eb5"
   },
   "outputs": [
    {
     "name": "stdout",
     "output_type": "stream",
     "text": [
      "19\n"
     ]
    }
   ],
   "source": [
    "data_found = pd.read_csv('until_politicianx.csv')\n",
    "usernames_from_file = list(set(data_found['user']))\n",
    "print(len(usernames_from_file))"
   ]
  },
  {
   "cell_type": "code",
   "execution_count": 220,
   "id": "6faff38e",
   "metadata": {
    "id": "6faff38e",
    "outputId": "a1bc08c1-5dc9-4226-8260-31d286c389db"
   },
   "outputs": [
    {
     "name": "stdout",
     "output_type": "stream",
     "text": [
      "Usernames left to query 213\n"
     ]
    }
   ],
   "source": [
    "filtered_usernames = [username for username in valid_usernames if username not in usernames_from_file]\n",
    "print(\"Usernames left to query\", str(len(filtered_usernames)))"
   ]
  }
 ],
 "metadata": {
  "colab": {
   "provenance": []
  },
  "kernelspec": {
   "display_name": "Python 3 (ipykernel)",
   "language": "python",
   "name": "python3"
  },
  "language_info": {
   "codemirror_mode": {
    "name": "ipython",
    "version": 3
   },
   "file_extension": ".py",
   "mimetype": "text/x-python",
   "name": "python",
   "nbconvert_exporter": "python",
   "pygments_lexer": "ipython3",
   "version": "3.8.8"
  }
 },
 "nbformat": 4,
 "nbformat_minor": 5
}
