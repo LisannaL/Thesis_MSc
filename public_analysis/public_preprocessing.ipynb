{
 "cells": [
  {
   "cell_type": "code",
   "execution_count": 193,
   "id": "ae95258b",
   "metadata": {},
   "outputs": [],
   "source": [
    "import pandas as pd\n",
    "import numpy as np\n",
    "import os\n",
    "import glob\n",
    "import re\n",
    "\n",
    "import matplotlib.pyplot as plt\n",
    "import seaborn as sns\n",
    "\n",
    "import nltk\n",
    "from nltk.stem import WordNetLemmatizer\n",
    "from nltk import pos_tag, word_tokenize\n",
    "from estnltk import Text\n",
    "\n",
    "sns.set_theme(style=\"whitegrid\")"
   ]
  },
  {
   "cell_type": "code",
   "execution_count": null,
   "id": "aaade0b7",
   "metadata": {},
   "outputs": [],
   "source": [
    "pd.options.display.max_colwidth = 1000"
   ]
  },
  {
   "cell_type": "markdown",
   "id": "23955c03",
   "metadata": {},
   "source": [
    "# 1. Leaders"
   ]
  },
  {
   "cell_type": "markdown",
   "id": "324e31c2",
   "metadata": {},
   "source": [
    "Leaders' tweets are in 13 time intervals starting from 01.01.2022 and ending in 31.01.2023.  \n",
    "Reading in leaders' data to remove them from the public."
   ]
  },
  {
   "cell_type": "code",
   "execution_count": null,
   "id": "39edf102",
   "metadata": {},
   "outputs": [],
   "source": [
    "# import politicians' data\n",
    "df_politicians = pd.concat(map(pd.read_csv, glob.glob('../leaders_data/*.csv')))\n",
    "df_politicians = df_politicians.reset_index(drop = True)\n",
    "df_politicians"
   ]
  },
  {
   "cell_type": "code",
   "execution_count": 26,
   "id": "fac7b23f",
   "metadata": {},
   "outputs": [
    {
     "name": "stdout",
     "output_type": "stream",
     "text": [
      "<class 'pandas.core.frame.DataFrame'>\n",
      "Int64Index: 58 entries, 13 to 689\n",
      "Data columns (total 12 columns):\n",
      " #   Column            Non-Null Count  Dtype \n",
      "---  ------            --------------  ----- \n",
      " 0   user              58 non-null     object\n",
      " 1   tweet_id          58 non-null     int64 \n",
      " 2   tweet_text        58 non-null     object\n",
      " 3   tweet_lang        58 non-null     object\n",
      " 4   start             58 non-null     object\n",
      " 5   end               58 non-null     object\n",
      " 6   retweet_count     58 non-null     int64 \n",
      " 7   reply_count       58 non-null     int64 \n",
      " 8   like_count        58 non-null     int64 \n",
      " 9   quote_count       58 non-null     int64 \n",
      " 10  impression_count  58 non-null     int64 \n",
      " 11  created_at        58 non-null     object\n",
      "dtypes: int64(6), object(6)\n",
      "memory usage: 5.9+ KB\n"
     ]
    }
   ],
   "source": [
    "# import municipality leaders data (were left out from the previous leaders' Twitter script run)\n",
    "df_municipality = pd.concat(map(pd.read_csv, glob.glob('../new_data_24_02_kov/*.csv')))\n",
    "df_municipality = df_municipality.reset_index(drop = True)\n",
    "\n",
    "# after manual checking of twitter accounts, these 5 will remain\n",
    "options = open(\"options.txt\", \"r\")\n",
    "df_municipality = df_municipality[df_municipality['user'].isin(options)]\n",
    "df_municipality.info()"
   ]
  },
  {
   "cell_type": "code",
   "execution_count": 27,
   "id": "404dcc32",
   "metadata": {},
   "outputs": [
    {
     "name": "stdout",
     "output_type": "stream",
     "text": [
      "<class 'pandas.core.frame.DataFrame'>\n",
      "Int64Index: 128445 entries, 0 to 689\n",
      "Data columns (total 12 columns):\n",
      " #   Column            Non-Null Count   Dtype \n",
      "---  ------            --------------   ----- \n",
      " 0   user              128445 non-null  object\n",
      " 1   tweet_id          128445 non-null  int64 \n",
      " 2   tweet_text        128443 non-null  object\n",
      " 3   tweet_lang        128445 non-null  object\n",
      " 4   start             128445 non-null  object\n",
      " 5   end               128445 non-null  object\n",
      " 6   retweet_count     128445 non-null  int64 \n",
      " 7   reply_count       128445 non-null  int64 \n",
      " 8   like_count        128445 non-null  int64 \n",
      " 9   quote_count       128445 non-null  int64 \n",
      " 10  impression_count  128445 non-null  int64 \n",
      " 11  created_at        58 non-null      object\n",
      "dtypes: int64(6), object(6)\n",
      "memory usage: 12.7+ MB\n",
      "None\n"
     ]
    }
   ],
   "source": [
    "# merge politicians + municipality leaders\n",
    "df_leaders = pd.concat([df_politicians, df_municipality])\n",
    "print(df_leaders.info())"
   ]
  },
  {
   "cell_type": "code",
   "execution_count": 28,
   "id": "534ccffc",
   "metadata": {},
   "outputs": [
    {
     "name": "stdout",
     "output_type": "stream",
     "text": [
      "<class 'pandas.core.frame.DataFrame'>\n",
      "RangeIndex: 4977 entries, 0 to 4976\n",
      "Data columns (total 12 columns):\n",
      " #   Column            Non-Null Count  Dtype \n",
      "---  ------            --------------  ----- \n",
      " 0   user              4977 non-null   object\n",
      " 1   tweet_id          4977 non-null   int64 \n",
      " 2   tweet_text        4977 non-null   object\n",
      " 3   tweet_lang        4977 non-null   object\n",
      " 4   start             4977 non-null   object\n",
      " 5   end               4977 non-null   object\n",
      " 6   retweet_count     4977 non-null   int64 \n",
      " 7   reply_count       4977 non-null   int64 \n",
      " 8   like_count        4977 non-null   int64 \n",
      " 9   quote_count       4977 non-null   int64 \n",
      " 10  impression_count  4977 non-null   int64 \n",
      " 11  created_at        4977 non-null   object\n",
      "dtypes: int64(6), object(6)\n",
      "memory usage: 466.7+ KB\n"
     ]
    }
   ],
   "source": [
    "# import data from parties official accounts\n",
    "df_parties = pd.concat(map(pd.read_csv, glob.glob('../new_data_24_02_erakonnad/*.csv')))\n",
    "df_parties = df_parties.reset_index(drop = True)\n",
    "df_parties.info()"
   ]
  },
  {
   "cell_type": "code",
   "execution_count": 29,
   "id": "e0fc1e5b",
   "metadata": {},
   "outputs": [
    {
     "name": "stdout",
     "output_type": "stream",
     "text": [
      "<class 'pandas.core.frame.DataFrame'>\n",
      "Int64Index: 133422 entries, 0 to 4976\n",
      "Data columns (total 12 columns):\n",
      " #   Column            Non-Null Count   Dtype \n",
      "---  ------            --------------   ----- \n",
      " 0   user              133422 non-null  object\n",
      " 1   tweet_id          133422 non-null  int64 \n",
      " 2   tweet_text        133420 non-null  object\n",
      " 3   tweet_lang        133422 non-null  object\n",
      " 4   start             133422 non-null  object\n",
      " 5   end               133422 non-null  object\n",
      " 6   retweet_count     133422 non-null  int64 \n",
      " 7   reply_count       133422 non-null  int64 \n",
      " 8   like_count        133422 non-null  int64 \n",
      " 9   quote_count       133422 non-null  int64 \n",
      " 10  impression_count  133422 non-null  int64 \n",
      " 11  created_at        5035 non-null    object\n",
      "dtypes: int64(6), object(6)\n",
      "memory usage: 13.2+ MB\n"
     ]
    }
   ],
   "source": [
    "# merge parties with df_leaders to get the final df of all LEADERS\n",
    "df_leaders = pd.concat([df_leaders, df_parties])\n",
    "df_leaders.info()"
   ]
  },
  {
   "cell_type": "markdown",
   "id": "b4e9de9c",
   "metadata": {},
   "source": [
    "...133 662 rows of tweets from given time intervals"
   ]
  },
  {
   "cell_type": "code",
   "execution_count": 33,
   "id": "0033c26c",
   "metadata": {
    "scrolled": true
   },
   "outputs": [
    {
     "name": "stdout",
     "output_type": "stream",
     "text": [
      "<class 'pandas.core.frame.DataFrame'>\n",
      "Int64Index: 133422 entries, 0 to 133421\n",
      "Data columns (total 20 columns):\n",
      " #   Column               Non-Null Count   Dtype  \n",
      "---  ------               --------------   -----  \n",
      " 0   user                 133422 non-null  object \n",
      " 1   tweet_id             133422 non-null  int64  \n",
      " 2   tweet_text           133420 non-null  object \n",
      " 3   tweet_lang           133422 non-null  object \n",
      " 4   start                133422 non-null  object \n",
      " 5   end                  133422 non-null  object \n",
      " 6   retweet_count        133422 non-null  int64  \n",
      " 7   reply_count          133422 non-null  int64  \n",
      " 8   like_count           133422 non-null  int64  \n",
      " 9   quote_count          133422 non-null  int64  \n",
      " 10  impression_count     133422 non-null  int64  \n",
      " 11  created_at           5035 non-null    object \n",
      " 12  nimi                 133422 non-null  object \n",
      " 13  erakond              51835 non-null   object \n",
      " 14  from                 133316 non-null  object \n",
      " 15  media                24771 non-null   object \n",
      " 16  clean_time           128445 non-null  float64\n",
      " 17  twitter_usernames    133422 non-null  object \n",
      " 18  twitter_followers    133422 non-null  float64\n",
      " 19  twitter_tweet_count  133422 non-null  float64\n",
      "dtypes: float64(3), int64(6), object(11)\n",
      "memory usage: 21.4+ MB\n"
     ]
    }
   ],
   "source": [
    "# drop duplicates\n",
    "df_leaders = df_leaders.drop_duplicates()\n",
    "df_leaders.info()"
   ]
  },
  {
   "cell_type": "code",
   "execution_count": 35,
   "id": "6dcfa297",
   "metadata": {},
   "outputs": [],
   "source": [
    "# save final df of LEADERS\n",
    "df_leaders.to_csv('../FINALS/leaders_tweets_final.csv', index=False)"
   ]
  },
  {
   "cell_type": "markdown",
   "id": "4dae55f6",
   "metadata": {},
   "source": [
    "# 2. Public"
   ]
  },
  {
   "cell_type": "code",
   "execution_count": 36,
   "id": "3640c571",
   "metadata": {},
   "outputs": [],
   "source": [
    "def is_non_zero_file(fpath):  \n",
    "    return os.path.isfile(fpath) and os.path.getsize(fpath) > 0\n"
   ]
  },
  {
   "cell_type": "code",
   "execution_count": 37,
   "id": "5eaadd18",
   "metadata": {},
   "outputs": [
    {
     "name": "stdout",
     "output_type": "stream",
     "text": [
      "../keywords_data\\tweet_keyword_agressioon.csv\n",
      "../keywords_data\\tweet_keyword_eesti putin.csv\n",
      "../keywords_data\\tweet_keyword_eesti ukraina.csv\n",
      "../keywords_data\\tweet_keyword_eesti venemaa.csv\n",
      "../keywords_data\\tweet_keyword_immigratsioon ukraina.csv\n",
      "../keywords_data\\tweet_keyword_lääneriigid.csv\n",
      "../keywords_data\\tweet_keyword_lääs ukraina.csv\n",
      "../keywords_data\\tweet_keyword_lääs.csv\n",
      "../keywords_data\\tweet_keyword_pagulane ukraina.csv\n",
      "../keywords_data\\tweet_keyword_putini sõda.csv\n",
      "../keywords_data\\tweet_keyword_põgenik.csv\n"
     ]
    },
    {
     "name": "stderr",
     "output_type": "stream",
     "text": [
      "C:\\Users\\lisannal\\AppData\\Local\\Temp\\ipykernel_22468\\3599747134.py:13: FutureWarning: The frame.append method is deprecated and will be removed from pandas in a future version. Use pandas.concat instead.\n",
      "  df_keywords = df_keywords.append(chunk[chunk['lang'] == 'et'],ignore_index=True)\n",
      "C:\\Users\\lisannal\\AppData\\Local\\Temp\\ipykernel_22468\\3599747134.py:13: FutureWarning: The frame.append method is deprecated and will be removed from pandas in a future version. Use pandas.concat instead.\n",
      "  df_keywords = df_keywords.append(chunk[chunk['lang'] == 'et'],ignore_index=True)\n",
      "C:\\Users\\lisannal\\AppData\\Local\\Temp\\ipykernel_22468\\3599747134.py:13: FutureWarning: In a future version, object-dtype columns with all-bool values will not be included in reductions with bool_only=True. Explicitly cast to bool dtype instead.\n",
      "  df_keywords = df_keywords.append(chunk[chunk['lang'] == 'et'],ignore_index=True)\n",
      "C:\\Users\\lisannal\\AppData\\Local\\Temp\\ipykernel_22468\\3599747134.py:13: FutureWarning: The frame.append method is deprecated and will be removed from pandas in a future version. Use pandas.concat instead.\n",
      "  df_keywords = df_keywords.append(chunk[chunk['lang'] == 'et'],ignore_index=True)\n",
      "C:\\Users\\lisannal\\AppData\\Local\\Temp\\ipykernel_22468\\3599747134.py:13: FutureWarning: In a future version, object-dtype columns with all-bool values will not be included in reductions with bool_only=True. Explicitly cast to bool dtype instead.\n",
      "  df_keywords = df_keywords.append(chunk[chunk['lang'] == 'et'],ignore_index=True)\n",
      "C:\\Users\\lisannal\\AppData\\Local\\Temp\\ipykernel_22468\\3599747134.py:13: FutureWarning: The frame.append method is deprecated and will be removed from pandas in a future version. Use pandas.concat instead.\n",
      "  df_keywords = df_keywords.append(chunk[chunk['lang'] == 'et'],ignore_index=True)\n",
      "C:\\Users\\lisannal\\AppData\\Local\\Temp\\ipykernel_22468\\3599747134.py:13: FutureWarning: In a future version, object-dtype columns with all-bool values will not be included in reductions with bool_only=True. Explicitly cast to bool dtype instead.\n",
      "  df_keywords = df_keywords.append(chunk[chunk['lang'] == 'et'],ignore_index=True)\n",
      "C:\\Users\\lisannal\\AppData\\Local\\Temp\\ipykernel_22468\\3599747134.py:13: FutureWarning: The frame.append method is deprecated and will be removed from pandas in a future version. Use pandas.concat instead.\n",
      "  df_keywords = df_keywords.append(chunk[chunk['lang'] == 'et'],ignore_index=True)\n",
      "C:\\Users\\lisannal\\AppData\\Local\\Temp\\ipykernel_22468\\3599747134.py:13: FutureWarning: In a future version, object-dtype columns with all-bool values will not be included in reductions with bool_only=True. Explicitly cast to bool dtype instead.\n",
      "  df_keywords = df_keywords.append(chunk[chunk['lang'] == 'et'],ignore_index=True)\n",
      "C:\\Users\\lisannal\\AppData\\Local\\Temp\\ipykernel_22468\\3599747134.py:13: FutureWarning: The frame.append method is deprecated and will be removed from pandas in a future version. Use pandas.concat instead.\n",
      "  df_keywords = df_keywords.append(chunk[chunk['lang'] == 'et'],ignore_index=True)\n",
      "C:\\Users\\lisannal\\AppData\\Local\\Temp\\ipykernel_22468\\3599747134.py:13: FutureWarning: In a future version, object-dtype columns with all-bool values will not be included in reductions with bool_only=True. Explicitly cast to bool dtype instead.\n",
      "  df_keywords = df_keywords.append(chunk[chunk['lang'] == 'et'],ignore_index=True)\n",
      "C:\\Users\\lisannal\\AppData\\Local\\Temp\\ipykernel_22468\\3599747134.py:13: FutureWarning: The frame.append method is deprecated and will be removed from pandas in a future version. Use pandas.concat instead.\n",
      "  df_keywords = df_keywords.append(chunk[chunk['lang'] == 'et'],ignore_index=True)\n",
      "C:\\Users\\lisannal\\AppData\\Local\\Temp\\ipykernel_22468\\3599747134.py:13: FutureWarning: In a future version, object-dtype columns with all-bool values will not be included in reductions with bool_only=True. Explicitly cast to bool dtype instead.\n",
      "  df_keywords = df_keywords.append(chunk[chunk['lang'] == 'et'],ignore_index=True)\n",
      "C:\\Users\\lisannal\\AppData\\Local\\Temp\\ipykernel_22468\\3599747134.py:13: FutureWarning: The frame.append method is deprecated and will be removed from pandas in a future version. Use pandas.concat instead.\n",
      "  df_keywords = df_keywords.append(chunk[chunk['lang'] == 'et'],ignore_index=True)\n",
      "C:\\Users\\lisannal\\AppData\\Local\\Temp\\ipykernel_22468\\3599747134.py:13: FutureWarning: In a future version, object-dtype columns with all-bool values will not be included in reductions with bool_only=True. Explicitly cast to bool dtype instead.\n",
      "  df_keywords = df_keywords.append(chunk[chunk['lang'] == 'et'],ignore_index=True)\n",
      "C:\\Users\\lisannal\\AppData\\Local\\Temp\\ipykernel_22468\\3599747134.py:13: FutureWarning: The frame.append method is deprecated and will be removed from pandas in a future version. Use pandas.concat instead.\n",
      "  df_keywords = df_keywords.append(chunk[chunk['lang'] == 'et'],ignore_index=True)\n",
      "C:\\Users\\lisannal\\AppData\\Local\\Temp\\ipykernel_22468\\3599747134.py:13: FutureWarning: In a future version, object-dtype columns with all-bool values will not be included in reductions with bool_only=True. Explicitly cast to bool dtype instead.\n",
      "  df_keywords = df_keywords.append(chunk[chunk['lang'] == 'et'],ignore_index=True)\n",
      "C:\\Users\\lisannal\\AppData\\Local\\Temp\\ipykernel_22468\\3599747134.py:13: FutureWarning: The frame.append method is deprecated and will be removed from pandas in a future version. Use pandas.concat instead.\n",
      "  df_keywords = df_keywords.append(chunk[chunk['lang'] == 'et'],ignore_index=True)\n",
      "C:\\Users\\lisannal\\AppData\\Local\\Temp\\ipykernel_22468\\3599747134.py:13: FutureWarning: In a future version, object-dtype columns with all-bool values will not be included in reductions with bool_only=True. Explicitly cast to bool dtype instead.\n",
      "  df_keywords = df_keywords.append(chunk[chunk['lang'] == 'et'],ignore_index=True)\n",
      "C:\\Users\\lisannal\\AppData\\Local\\Temp\\ipykernel_22468\\3599747134.py:13: FutureWarning: The frame.append method is deprecated and will be removed from pandas in a future version. Use pandas.concat instead.\n",
      "  df_keywords = df_keywords.append(chunk[chunk['lang'] == 'et'],ignore_index=True)\n",
      "C:\\Users\\lisannal\\AppData\\Local\\Temp\\ipykernel_22468\\3599747134.py:13: FutureWarning: In a future version, object-dtype columns with all-bool values will not be included in reductions with bool_only=True. Explicitly cast to bool dtype instead.\n",
      "  df_keywords = df_keywords.append(chunk[chunk['lang'] == 'et'],ignore_index=True)\n",
      "C:\\Users\\lisannal\\AppData\\Local\\Temp\\ipykernel_22468\\3599747134.py:13: FutureWarning: The frame.append method is deprecated and will be removed from pandas in a future version. Use pandas.concat instead.\n",
      "  df_keywords = df_keywords.append(chunk[chunk['lang'] == 'et'],ignore_index=True)\n",
      "C:\\Users\\lisannal\\AppData\\Local\\Temp\\ipykernel_22468\\3599747134.py:13: FutureWarning: In a future version, object-dtype columns with all-bool values will not be included in reductions with bool_only=True. Explicitly cast to bool dtype instead.\n",
      "  df_keywords = df_keywords.append(chunk[chunk['lang'] == 'et'],ignore_index=True)\n"
     ]
    },
    {
     "name": "stdout",
     "output_type": "stream",
     "text": [
      "../keywords_data\\tweet_keyword_sõda putin.csv\n",
      "../keywords_data\\tweet_keyword_sõda.csv\n"
     ]
    },
    {
     "name": "stderr",
     "output_type": "stream",
     "text": [
      "C:\\Users\\lisannal\\AppData\\Local\\Temp\\ipykernel_22468\\3599747134.py:13: FutureWarning: The frame.append method is deprecated and will be removed from pandas in a future version. Use pandas.concat instead.\n",
      "  df_keywords = df_keywords.append(chunk[chunk['lang'] == 'et'],ignore_index=True)\n",
      "C:\\Users\\lisannal\\AppData\\Local\\Temp\\ipykernel_22468\\3599747134.py:13: FutureWarning: In a future version, object-dtype columns with all-bool values will not be included in reductions with bool_only=True. Explicitly cast to bool dtype instead.\n",
      "  df_keywords = df_keywords.append(chunk[chunk['lang'] == 'et'],ignore_index=True)\n",
      "C:\\Users\\lisannal\\AppData\\Local\\Temp\\ipykernel_22468\\3599747134.py:13: FutureWarning: The frame.append method is deprecated and will be removed from pandas in a future version. Use pandas.concat instead.\n",
      "  df_keywords = df_keywords.append(chunk[chunk['lang'] == 'et'],ignore_index=True)\n",
      "C:\\Users\\lisannal\\AppData\\Local\\Temp\\ipykernel_22468\\3599747134.py:13: FutureWarning: In a future version, object-dtype columns with all-bool values will not be included in reductions with bool_only=True. Explicitly cast to bool dtype instead.\n",
      "  df_keywords = df_keywords.append(chunk[chunk['lang'] == 'et'],ignore_index=True)\n",
      "C:\\Users\\lisannal\\AppData\\Local\\Temp\\ipykernel_22468\\3599747134.py:13: FutureWarning: The frame.append method is deprecated and will be removed from pandas in a future version. Use pandas.concat instead.\n",
      "  df_keywords = df_keywords.append(chunk[chunk['lang'] == 'et'],ignore_index=True)\n",
      "C:\\Users\\lisannal\\AppData\\Local\\Temp\\ipykernel_22468\\3599747134.py:13: FutureWarning: In a future version, object-dtype columns with all-bool values will not be included in reductions with bool_only=True. Explicitly cast to bool dtype instead.\n",
      "  df_keywords = df_keywords.append(chunk[chunk['lang'] == 'et'],ignore_index=True)\n",
      "C:\\Users\\lisannal\\AppData\\Local\\Temp\\ipykernel_22468\\3599747134.py:13: FutureWarning: The frame.append method is deprecated and will be removed from pandas in a future version. Use pandas.concat instead.\n",
      "  df_keywords = df_keywords.append(chunk[chunk['lang'] == 'et'],ignore_index=True)\n",
      "C:\\Users\\lisannal\\AppData\\Local\\Temp\\ipykernel_22468\\3599747134.py:13: FutureWarning: In a future version, object-dtype columns with all-bool values will not be included in reductions with bool_only=True. Explicitly cast to bool dtype instead.\n",
      "  df_keywords = df_keywords.append(chunk[chunk['lang'] == 'et'],ignore_index=True)\n",
      "C:\\Users\\lisannal\\AppData\\Local\\Temp\\ipykernel_22468\\3599747134.py:13: FutureWarning: The frame.append method is deprecated and will be removed from pandas in a future version. Use pandas.concat instead.\n",
      "  df_keywords = df_keywords.append(chunk[chunk['lang'] == 'et'],ignore_index=True)\n",
      "C:\\Users\\lisannal\\AppData\\Local\\Temp\\ipykernel_22468\\3599747134.py:13: FutureWarning: In a future version, object-dtype columns with all-bool values will not be included in reductions with bool_only=True. Explicitly cast to bool dtype instead.\n",
      "  df_keywords = df_keywords.append(chunk[chunk['lang'] == 'et'],ignore_index=True)\n",
      "C:\\Users\\lisannal\\AppData\\Local\\Temp\\ipykernel_22468\\3599747134.py:13: FutureWarning: The frame.append method is deprecated and will be removed from pandas in a future version. Use pandas.concat instead.\n",
      "  df_keywords = df_keywords.append(chunk[chunk['lang'] == 'et'],ignore_index=True)\n",
      "C:\\Users\\lisannal\\AppData\\Local\\Temp\\ipykernel_22468\\3599747134.py:13: FutureWarning: In a future version, object-dtype columns with all-bool values will not be included in reductions with bool_only=True. Explicitly cast to bool dtype instead.\n",
      "  df_keywords = df_keywords.append(chunk[chunk['lang'] == 'et'],ignore_index=True)\n",
      "C:\\Users\\lisannal\\AppData\\Local\\Temp\\ipykernel_22468\\3599747134.py:13: FutureWarning: The frame.append method is deprecated and will be removed from pandas in a future version. Use pandas.concat instead.\n",
      "  df_keywords = df_keywords.append(chunk[chunk['lang'] == 'et'],ignore_index=True)\n",
      "C:\\Users\\lisannal\\AppData\\Local\\Temp\\ipykernel_22468\\3599747134.py:13: FutureWarning: In a future version, object-dtype columns with all-bool values will not be included in reductions with bool_only=True. Explicitly cast to bool dtype instead.\n",
      "  df_keywords = df_keywords.append(chunk[chunk['lang'] == 'et'],ignore_index=True)\n",
      "C:\\Users\\lisannal\\AppData\\Local\\Temp\\ipykernel_22468\\3599747134.py:13: FutureWarning: The frame.append method is deprecated and will be removed from pandas in a future version. Use pandas.concat instead.\n",
      "  df_keywords = df_keywords.append(chunk[chunk['lang'] == 'et'],ignore_index=True)\n",
      "C:\\Users\\lisannal\\AppData\\Local\\Temp\\ipykernel_22468\\3599747134.py:13: FutureWarning: In a future version, object-dtype columns with all-bool values will not be included in reductions with bool_only=True. Explicitly cast to bool dtype instead.\n",
      "  df_keywords = df_keywords.append(chunk[chunk['lang'] == 'et'],ignore_index=True)\n",
      "C:\\Users\\lisannal\\AppData\\Local\\Temp\\ipykernel_22468\\3599747134.py:13: FutureWarning: The frame.append method is deprecated and will be removed from pandas in a future version. Use pandas.concat instead.\n",
      "  df_keywords = df_keywords.append(chunk[chunk['lang'] == 'et'],ignore_index=True)\n",
      "C:\\Users\\lisannal\\AppData\\Local\\Temp\\ipykernel_22468\\3599747134.py:13: FutureWarning: In a future version, object-dtype columns with all-bool values will not be included in reductions with bool_only=True. Explicitly cast to bool dtype instead.\n",
      "  df_keywords = df_keywords.append(chunk[chunk['lang'] == 'et'],ignore_index=True)\n"
     ]
    },
    {
     "name": "stdout",
     "output_type": "stream",
     "text": [
      "../keywords_data\\tweet_keyword_sõjakuritegu.csv\n",
      "../keywords_data\\tweet_keyword_sõjakuriteod.csv\n",
      "../keywords_data\\tweet_keyword_sõjapõgenik.csv\n",
      "../keywords_data\\tweet_keyword_ukraina abi.csv\n",
      "../keywords_data\\tweet_keyword_ukraina aggressioon.csv\n",
      "../keywords_data\\tweet_keyword_ukraina agressor.csv\n",
      "../keywords_data\\tweet_keyword_ukraina elu eesti.csv\n",
      "../keywords_data\\tweet_keyword_ukraina erioperatsioon.csv\n"
     ]
    },
    {
     "name": "stderr",
     "output_type": "stream",
     "text": [
      "C:\\Users\\lisannal\\AppData\\Local\\Temp\\ipykernel_22468\\3599747134.py:13: FutureWarning: The frame.append method is deprecated and will be removed from pandas in a future version. Use pandas.concat instead.\n",
      "  df_keywords = df_keywords.append(chunk[chunk['lang'] == 'et'],ignore_index=True)\n",
      "C:\\Users\\lisannal\\AppData\\Local\\Temp\\ipykernel_22468\\3599747134.py:13: FutureWarning: In a future version, object-dtype columns with all-bool values will not be included in reductions with bool_only=True. Explicitly cast to bool dtype instead.\n",
      "  df_keywords = df_keywords.append(chunk[chunk['lang'] == 'et'],ignore_index=True)\n",
      "C:\\Users\\lisannal\\AppData\\Local\\Temp\\ipykernel_22468\\3599747134.py:13: FutureWarning: The frame.append method is deprecated and will be removed from pandas in a future version. Use pandas.concat instead.\n",
      "  df_keywords = df_keywords.append(chunk[chunk['lang'] == 'et'],ignore_index=True)\n",
      "C:\\Users\\lisannal\\AppData\\Local\\Temp\\ipykernel_22468\\3599747134.py:13: FutureWarning: In a future version, object-dtype columns with all-bool values will not be included in reductions with bool_only=True. Explicitly cast to bool dtype instead.\n",
      "  df_keywords = df_keywords.append(chunk[chunk['lang'] == 'et'],ignore_index=True)\n",
      "C:\\Users\\lisannal\\AppData\\Local\\Temp\\ipykernel_22468\\3599747134.py:13: FutureWarning: The frame.append method is deprecated and will be removed from pandas in a future version. Use pandas.concat instead.\n",
      "  df_keywords = df_keywords.append(chunk[chunk['lang'] == 'et'],ignore_index=True)\n",
      "C:\\Users\\lisannal\\AppData\\Local\\Temp\\ipykernel_22468\\3599747134.py:13: FutureWarning: In a future version, object-dtype columns with all-bool values will not be included in reductions with bool_only=True. Explicitly cast to bool dtype instead.\n",
      "  df_keywords = df_keywords.append(chunk[chunk['lang'] == 'et'],ignore_index=True)\n",
      "C:\\Users\\lisannal\\AppData\\Local\\Temp\\ipykernel_22468\\3599747134.py:13: FutureWarning: The frame.append method is deprecated and will be removed from pandas in a future version. Use pandas.concat instead.\n",
      "  df_keywords = df_keywords.append(chunk[chunk['lang'] == 'et'],ignore_index=True)\n",
      "C:\\Users\\lisannal\\AppData\\Local\\Temp\\ipykernel_22468\\3599747134.py:13: FutureWarning: In a future version, object-dtype columns with all-bool values will not be included in reductions with bool_only=True. Explicitly cast to bool dtype instead.\n",
      "  df_keywords = df_keywords.append(chunk[chunk['lang'] == 'et'],ignore_index=True)\n",
      "C:\\Users\\lisannal\\AppData\\Local\\Temp\\ipykernel_22468\\3599747134.py:13: FutureWarning: The frame.append method is deprecated and will be removed from pandas in a future version. Use pandas.concat instead.\n",
      "  df_keywords = df_keywords.append(chunk[chunk['lang'] == 'et'],ignore_index=True)\n",
      "C:\\Users\\lisannal\\AppData\\Local\\Temp\\ipykernel_22468\\3599747134.py:13: FutureWarning: In a future version, object-dtype columns with all-bool values will not be included in reductions with bool_only=True. Explicitly cast to bool dtype instead.\n",
      "  df_keywords = df_keywords.append(chunk[chunk['lang'] == 'et'],ignore_index=True)\n",
      "C:\\Users\\lisannal\\AppData\\Local\\Temp\\ipykernel_22468\\3599747134.py:13: FutureWarning: The frame.append method is deprecated and will be removed from pandas in a future version. Use pandas.concat instead.\n",
      "  df_keywords = df_keywords.append(chunk[chunk['lang'] == 'et'],ignore_index=True)\n",
      "C:\\Users\\lisannal\\AppData\\Local\\Temp\\ipykernel_22468\\3599747134.py:13: FutureWarning: In a future version, object-dtype columns with all-bool values will not be included in reductions with bool_only=True. Explicitly cast to bool dtype instead.\n",
      "  df_keywords = df_keywords.append(chunk[chunk['lang'] == 'et'],ignore_index=True)\n",
      "C:\\Users\\lisannal\\AppData\\Local\\Temp\\ipykernel_22468\\3599747134.py:13: FutureWarning: The frame.append method is deprecated and will be removed from pandas in a future version. Use pandas.concat instead.\n",
      "  df_keywords = df_keywords.append(chunk[chunk['lang'] == 'et'],ignore_index=True)\n",
      "C:\\Users\\lisannal\\AppData\\Local\\Temp\\ipykernel_22468\\3599747134.py:13: FutureWarning: In a future version, object-dtype columns with all-bool values will not be included in reductions with bool_only=True. Explicitly cast to bool dtype instead.\n",
      "  df_keywords = df_keywords.append(chunk[chunk['lang'] == 'et'],ignore_index=True)\n",
      "C:\\Users\\lisannal\\AppData\\Local\\Temp\\ipykernel_22468\\3599747134.py:13: FutureWarning: The frame.append method is deprecated and will be removed from pandas in a future version. Use pandas.concat instead.\n",
      "  df_keywords = df_keywords.append(chunk[chunk['lang'] == 'et'],ignore_index=True)\n",
      "C:\\Users\\lisannal\\AppData\\Local\\Temp\\ipykernel_22468\\3599747134.py:13: FutureWarning: In a future version, object-dtype columns with all-bool values will not be included in reductions with bool_only=True. Explicitly cast to bool dtype instead.\n",
      "  df_keywords = df_keywords.append(chunk[chunk['lang'] == 'et'],ignore_index=True)\n",
      "C:\\Users\\lisannal\\AppData\\Local\\Temp\\ipykernel_22468\\3599747134.py:13: FutureWarning: The frame.append method is deprecated and will be removed from pandas in a future version. Use pandas.concat instead.\n",
      "  df_keywords = df_keywords.append(chunk[chunk['lang'] == 'et'],ignore_index=True)\n",
      "C:\\Users\\lisannal\\AppData\\Local\\Temp\\ipykernel_22468\\3599747134.py:13: FutureWarning: In a future version, object-dtype columns with all-bool values will not be included in reductions with bool_only=True. Explicitly cast to bool dtype instead.\n",
      "  df_keywords = df_keywords.append(chunk[chunk['lang'] == 'et'],ignore_index=True)\n",
      "C:\\Users\\lisannal\\AppData\\Local\\Temp\\ipykernel_22468\\3599747134.py:13: FutureWarning: The frame.append method is deprecated and will be removed from pandas in a future version. Use pandas.concat instead.\n",
      "  df_keywords = df_keywords.append(chunk[chunk['lang'] == 'et'],ignore_index=True)\n",
      "C:\\Users\\lisannal\\AppData\\Local\\Temp\\ipykernel_22468\\3599747134.py:13: FutureWarning: In a future version, object-dtype columns with all-bool values will not be included in reductions with bool_only=True. Explicitly cast to bool dtype instead.\n",
      "  df_keywords = df_keywords.append(chunk[chunk['lang'] == 'et'],ignore_index=True)\n",
      "C:\\Users\\lisannal\\AppData\\Local\\Temp\\ipykernel_22468\\3599747134.py:13: FutureWarning: The frame.append method is deprecated and will be removed from pandas in a future version. Use pandas.concat instead.\n",
      "  df_keywords = df_keywords.append(chunk[chunk['lang'] == 'et'],ignore_index=True)\n",
      "C:\\Users\\lisannal\\AppData\\Local\\Temp\\ipykernel_22468\\3599747134.py:13: FutureWarning: In a future version, object-dtype columns with all-bool values will not be included in reductions with bool_only=True. Explicitly cast to bool dtype instead.\n",
      "  df_keywords = df_keywords.append(chunk[chunk['lang'] == 'et'],ignore_index=True)\n",
      "C:\\Users\\lisannal\\AppData\\Local\\Temp\\ipykernel_22468\\3599747134.py:13: FutureWarning: The frame.append method is deprecated and will be removed from pandas in a future version. Use pandas.concat instead.\n",
      "  df_keywords = df_keywords.append(chunk[chunk['lang'] == 'et'],ignore_index=True)\n",
      "C:\\Users\\lisannal\\AppData\\Local\\Temp\\ipykernel_22468\\3599747134.py:13: FutureWarning: In a future version, object-dtype columns with all-bool values will not be included in reductions with bool_only=True. Explicitly cast to bool dtype instead.\n",
      "  df_keywords = df_keywords.append(chunk[chunk['lang'] == 'et'],ignore_index=True)\n"
     ]
    },
    {
     "name": "stdout",
     "output_type": "stream",
     "text": [
      "../keywords_data\\tweet_keyword_ukraina inimene.csv\n",
      "../keywords_data\\tweet_keyword_ukraina inimese.csv\n",
      "../keywords_data\\tweet_keyword_ukraina inimesega.csv\n",
      "../keywords_data\\tweet_keyword_ukraina inimesele.csv\n",
      "../keywords_data\\tweet_keyword_ukraina inimesena.csv\n",
      "../keywords_data\\tweet_keyword_ukraina inimest.csv\n",
      "../keywords_data\\tweet_keyword_ukraina inimeste.csv\n",
      "../keywords_data\\tweet_keyword_ukraina inimestega.csv\n",
      "../keywords_data\\tweet_keyword_ukraina inimestel.csv\n",
      "../keywords_data\\tweet_keyword_ukraina inimestest.csv\n",
      "../keywords_data\\tweet_keyword_ukraina julgeolek.csv\n",
      "../keywords_data\\tweet_keyword_ukraina konflikt.csv\n"
     ]
    },
    {
     "name": "stderr",
     "output_type": "stream",
     "text": [
      "C:\\Users\\lisannal\\AppData\\Local\\Temp\\ipykernel_22468\\3599747134.py:13: FutureWarning: The frame.append method is deprecated and will be removed from pandas in a future version. Use pandas.concat instead.\n",
      "  df_keywords = df_keywords.append(chunk[chunk['lang'] == 'et'],ignore_index=True)\n",
      "C:\\Users\\lisannal\\AppData\\Local\\Temp\\ipykernel_22468\\3599747134.py:13: FutureWarning: In a future version, object-dtype columns with all-bool values will not be included in reductions with bool_only=True. Explicitly cast to bool dtype instead.\n",
      "  df_keywords = df_keywords.append(chunk[chunk['lang'] == 'et'],ignore_index=True)\n",
      "C:\\Users\\lisannal\\AppData\\Local\\Temp\\ipykernel_22468\\3599747134.py:13: FutureWarning: The frame.append method is deprecated and will be removed from pandas in a future version. Use pandas.concat instead.\n",
      "  df_keywords = df_keywords.append(chunk[chunk['lang'] == 'et'],ignore_index=True)\n",
      "C:\\Users\\lisannal\\AppData\\Local\\Temp\\ipykernel_22468\\3599747134.py:13: FutureWarning: In a future version, object-dtype columns with all-bool values will not be included in reductions with bool_only=True. Explicitly cast to bool dtype instead.\n",
      "  df_keywords = df_keywords.append(chunk[chunk['lang'] == 'et'],ignore_index=True)\n",
      "C:\\Users\\lisannal\\AppData\\Local\\Temp\\ipykernel_22468\\3599747134.py:13: FutureWarning: The frame.append method is deprecated and will be removed from pandas in a future version. Use pandas.concat instead.\n",
      "  df_keywords = df_keywords.append(chunk[chunk['lang'] == 'et'],ignore_index=True)\n",
      "C:\\Users\\lisannal\\AppData\\Local\\Temp\\ipykernel_22468\\3599747134.py:13: FutureWarning: In a future version, object-dtype columns with all-bool values will not be included in reductions with bool_only=True. Explicitly cast to bool dtype instead.\n",
      "  df_keywords = df_keywords.append(chunk[chunk['lang'] == 'et'],ignore_index=True)\n",
      "C:\\Users\\lisannal\\AppData\\Local\\Temp\\ipykernel_22468\\3599747134.py:13: FutureWarning: The frame.append method is deprecated and will be removed from pandas in a future version. Use pandas.concat instead.\n",
      "  df_keywords = df_keywords.append(chunk[chunk['lang'] == 'et'],ignore_index=True)\n",
      "C:\\Users\\lisannal\\AppData\\Local\\Temp\\ipykernel_22468\\3599747134.py:13: FutureWarning: In a future version, object-dtype columns with all-bool values will not be included in reductions with bool_only=True. Explicitly cast to bool dtype instead.\n",
      "  df_keywords = df_keywords.append(chunk[chunk['lang'] == 'et'],ignore_index=True)\n",
      "C:\\Users\\lisannal\\AppData\\Local\\Temp\\ipykernel_22468\\3599747134.py:13: FutureWarning: The frame.append method is deprecated and will be removed from pandas in a future version. Use pandas.concat instead.\n",
      "  df_keywords = df_keywords.append(chunk[chunk['lang'] == 'et'],ignore_index=True)\n",
      "C:\\Users\\lisannal\\AppData\\Local\\Temp\\ipykernel_22468\\3599747134.py:13: FutureWarning: In a future version, object-dtype columns with all-bool values will not be included in reductions with bool_only=True. Explicitly cast to bool dtype instead.\n",
      "  df_keywords = df_keywords.append(chunk[chunk['lang'] == 'et'],ignore_index=True)\n"
     ]
    },
    {
     "name": "stdout",
     "output_type": "stream",
     "text": [
      "../keywords_data\\tweet_keyword_ukraina koostöö.csv\n",
      "../keywords_data\\tweet_keyword_ukraina liitlane.csv\n",
      "../keywords_data\\tweet_keyword_ukraina migrant.csv\n",
      "../keywords_data\\tweet_keyword_ukraina pagulane.csv\n",
      "../keywords_data\\tweet_keyword_ukraina putin.csv\n"
     ]
    },
    {
     "name": "stderr",
     "output_type": "stream",
     "text": [
      "C:\\Users\\lisannal\\AppData\\Local\\Temp\\ipykernel_22468\\3599747134.py:13: FutureWarning: The frame.append method is deprecated and will be removed from pandas in a future version. Use pandas.concat instead.\n",
      "  df_keywords = df_keywords.append(chunk[chunk['lang'] == 'et'],ignore_index=True)\n",
      "C:\\Users\\lisannal\\AppData\\Local\\Temp\\ipykernel_22468\\3599747134.py:13: FutureWarning: In a future version, object-dtype columns with all-bool values will not be included in reductions with bool_only=True. Explicitly cast to bool dtype instead.\n",
      "  df_keywords = df_keywords.append(chunk[chunk['lang'] == 'et'],ignore_index=True)\n",
      "C:\\Users\\lisannal\\AppData\\Local\\Temp\\ipykernel_22468\\3599747134.py:13: FutureWarning: The frame.append method is deprecated and will be removed from pandas in a future version. Use pandas.concat instead.\n",
      "  df_keywords = df_keywords.append(chunk[chunk['lang'] == 'et'],ignore_index=True)\n",
      "C:\\Users\\lisannal\\AppData\\Local\\Temp\\ipykernel_22468\\3599747134.py:13: FutureWarning: In a future version, object-dtype columns with all-bool values will not be included in reductions with bool_only=True. Explicitly cast to bool dtype instead.\n",
      "  df_keywords = df_keywords.append(chunk[chunk['lang'] == 'et'],ignore_index=True)\n",
      "C:\\Users\\lisannal\\AppData\\Local\\Temp\\ipykernel_22468\\3599747134.py:13: FutureWarning: The frame.append method is deprecated and will be removed from pandas in a future version. Use pandas.concat instead.\n",
      "  df_keywords = df_keywords.append(chunk[chunk['lang'] == 'et'],ignore_index=True)\n",
      "C:\\Users\\lisannal\\AppData\\Local\\Temp\\ipykernel_22468\\3599747134.py:13: FutureWarning: In a future version, object-dtype columns with all-bool values will not be included in reductions with bool_only=True. Explicitly cast to bool dtype instead.\n",
      "  df_keywords = df_keywords.append(chunk[chunk['lang'] == 'et'],ignore_index=True)\n",
      "C:\\Users\\lisannal\\AppData\\Local\\Temp\\ipykernel_22468\\3599747134.py:13: FutureWarning: The frame.append method is deprecated and will be removed from pandas in a future version. Use pandas.concat instead.\n",
      "  df_keywords = df_keywords.append(chunk[chunk['lang'] == 'et'],ignore_index=True)\n",
      "C:\\Users\\lisannal\\AppData\\Local\\Temp\\ipykernel_22468\\3599747134.py:13: FutureWarning: In a future version, object-dtype columns with all-bool values will not be included in reductions with bool_only=True. Explicitly cast to bool dtype instead.\n",
      "  df_keywords = df_keywords.append(chunk[chunk['lang'] == 'et'],ignore_index=True)\n",
      "C:\\Users\\lisannal\\AppData\\Local\\Temp\\ipykernel_22468\\3599747134.py:13: FutureWarning: The frame.append method is deprecated and will be removed from pandas in a future version. Use pandas.concat instead.\n",
      "  df_keywords = df_keywords.append(chunk[chunk['lang'] == 'et'],ignore_index=True)\n",
      "C:\\Users\\lisannal\\AppData\\Local\\Temp\\ipykernel_22468\\3599747134.py:13: FutureWarning: In a future version, object-dtype columns with all-bool values will not be included in reductions with bool_only=True. Explicitly cast to bool dtype instead.\n",
      "  df_keywords = df_keywords.append(chunk[chunk['lang'] == 'et'],ignore_index=True)\n",
      "C:\\Users\\lisannal\\AppData\\Local\\Temp\\ipykernel_22468\\3599747134.py:13: FutureWarning: The frame.append method is deprecated and will be removed from pandas in a future version. Use pandas.concat instead.\n",
      "  df_keywords = df_keywords.append(chunk[chunk['lang'] == 'et'],ignore_index=True)\n",
      "C:\\Users\\lisannal\\AppData\\Local\\Temp\\ipykernel_22468\\3599747134.py:13: FutureWarning: In a future version, object-dtype columns with all-bool values will not be included in reductions with bool_only=True. Explicitly cast to bool dtype instead.\n",
      "  df_keywords = df_keywords.append(chunk[chunk['lang'] == 'et'],ignore_index=True)\n",
      "C:\\Users\\lisannal\\AppData\\Local\\Temp\\ipykernel_22468\\3599747134.py:13: FutureWarning: The frame.append method is deprecated and will be removed from pandas in a future version. Use pandas.concat instead.\n",
      "  df_keywords = df_keywords.append(chunk[chunk['lang'] == 'et'],ignore_index=True)\n",
      "C:\\Users\\lisannal\\AppData\\Local\\Temp\\ipykernel_22468\\3599747134.py:13: FutureWarning: In a future version, object-dtype columns with all-bool values will not be included in reductions with bool_only=True. Explicitly cast to bool dtype instead.\n",
      "  df_keywords = df_keywords.append(chunk[chunk['lang'] == 'et'],ignore_index=True)\n",
      "C:\\Users\\lisannal\\AppData\\Local\\Temp\\ipykernel_22468\\3599747134.py:13: FutureWarning: The frame.append method is deprecated and will be removed from pandas in a future version. Use pandas.concat instead.\n",
      "  df_keywords = df_keywords.append(chunk[chunk['lang'] == 'et'],ignore_index=True)\n",
      "C:\\Users\\lisannal\\AppData\\Local\\Temp\\ipykernel_22468\\3599747134.py:13: FutureWarning: In a future version, object-dtype columns with all-bool values will not be included in reductions with bool_only=True. Explicitly cast to bool dtype instead.\n",
      "  df_keywords = df_keywords.append(chunk[chunk['lang'] == 'et'],ignore_index=True)\n",
      "C:\\Users\\lisannal\\AppData\\Local\\Temp\\ipykernel_22468\\3599747134.py:13: FutureWarning: The frame.append method is deprecated and will be removed from pandas in a future version. Use pandas.concat instead.\n",
      "  df_keywords = df_keywords.append(chunk[chunk['lang'] == 'et'],ignore_index=True)\n",
      "C:\\Users\\lisannal\\AppData\\Local\\Temp\\ipykernel_22468\\3599747134.py:13: FutureWarning: In a future version, object-dtype columns with all-bool values will not be included in reductions with bool_only=True. Explicitly cast to bool dtype instead.\n",
      "  df_keywords = df_keywords.append(chunk[chunk['lang'] == 'et'],ignore_index=True)\n",
      "C:\\Users\\lisannal\\AppData\\Local\\Temp\\ipykernel_22468\\3599747134.py:13: FutureWarning: The frame.append method is deprecated and will be removed from pandas in a future version. Use pandas.concat instead.\n",
      "  df_keywords = df_keywords.append(chunk[chunk['lang'] == 'et'],ignore_index=True)\n",
      "C:\\Users\\lisannal\\AppData\\Local\\Temp\\ipykernel_22468\\3599747134.py:13: FutureWarning: In a future version, object-dtype columns with all-bool values will not be included in reductions with bool_only=True. Explicitly cast to bool dtype instead.\n",
      "  df_keywords = df_keywords.append(chunk[chunk['lang'] == 'et'],ignore_index=True)\n"
     ]
    },
    {
     "name": "stdout",
     "output_type": "stream",
     "text": [
      "../keywords_data\\tweet_keyword_ukraina putini.csv\n",
      "../keywords_data\\tweet_keyword_ukraina põgenik.csv\n",
      "../keywords_data\\tweet_keyword_ukraina põgenikku.csv\n",
      "../keywords_data\\tweet_keyword_ukraina põgeniku.csv\n",
      "../keywords_data\\tweet_keyword_ukraina põgenikuks.csv\n",
      "../keywords_data\\tweet_keyword_ukraina põgenikule.csv\n",
      "../keywords_data\\tweet_keyword_ukraina põgenikuna.csv\n",
      "../keywords_data\\tweet_keyword_ukraina põgenikust.csv\n",
      "../keywords_data\\tweet_keyword_ukraina ründama.csv\n",
      "../keywords_data\\tweet_keyword_ukraina ründas.csv\n"
     ]
    },
    {
     "name": "stderr",
     "output_type": "stream",
     "text": [
      "C:\\Users\\lisannal\\AppData\\Local\\Temp\\ipykernel_22468\\3599747134.py:13: FutureWarning: The frame.append method is deprecated and will be removed from pandas in a future version. Use pandas.concat instead.\n",
      "  df_keywords = df_keywords.append(chunk[chunk['lang'] == 'et'],ignore_index=True)\n",
      "C:\\Users\\lisannal\\AppData\\Local\\Temp\\ipykernel_22468\\3599747134.py:13: FutureWarning: In a future version, object-dtype columns with all-bool values will not be included in reductions with bool_only=True. Explicitly cast to bool dtype instead.\n",
      "  df_keywords = df_keywords.append(chunk[chunk['lang'] == 'et'],ignore_index=True)\n",
      "C:\\Users\\lisannal\\AppData\\Local\\Temp\\ipykernel_22468\\3599747134.py:13: FutureWarning: The frame.append method is deprecated and will be removed from pandas in a future version. Use pandas.concat instead.\n",
      "  df_keywords = df_keywords.append(chunk[chunk['lang'] == 'et'],ignore_index=True)\n",
      "C:\\Users\\lisannal\\AppData\\Local\\Temp\\ipykernel_22468\\3599747134.py:13: FutureWarning: In a future version, object-dtype columns with all-bool values will not be included in reductions with bool_only=True. Explicitly cast to bool dtype instead.\n",
      "  df_keywords = df_keywords.append(chunk[chunk['lang'] == 'et'],ignore_index=True)\n",
      "C:\\Users\\lisannal\\AppData\\Local\\Temp\\ipykernel_22468\\3599747134.py:13: FutureWarning: The frame.append method is deprecated and will be removed from pandas in a future version. Use pandas.concat instead.\n",
      "  df_keywords = df_keywords.append(chunk[chunk['lang'] == 'et'],ignore_index=True)\n",
      "C:\\Users\\lisannal\\AppData\\Local\\Temp\\ipykernel_22468\\3599747134.py:13: FutureWarning: In a future version, object-dtype columns with all-bool values will not be included in reductions with bool_only=True. Explicitly cast to bool dtype instead.\n",
      "  df_keywords = df_keywords.append(chunk[chunk['lang'] == 'et'],ignore_index=True)\n",
      "C:\\Users\\lisannal\\AppData\\Local\\Temp\\ipykernel_22468\\3599747134.py:13: FutureWarning: The frame.append method is deprecated and will be removed from pandas in a future version. Use pandas.concat instead.\n",
      "  df_keywords = df_keywords.append(chunk[chunk['lang'] == 'et'],ignore_index=True)\n",
      "C:\\Users\\lisannal\\AppData\\Local\\Temp\\ipykernel_22468\\3599747134.py:13: FutureWarning: In a future version, object-dtype columns with all-bool values will not be included in reductions with bool_only=True. Explicitly cast to bool dtype instead.\n",
      "  df_keywords = df_keywords.append(chunk[chunk['lang'] == 'et'],ignore_index=True)\n",
      "C:\\Users\\lisannal\\AppData\\Local\\Temp\\ipykernel_22468\\3599747134.py:13: FutureWarning: The frame.append method is deprecated and will be removed from pandas in a future version. Use pandas.concat instead.\n",
      "  df_keywords = df_keywords.append(chunk[chunk['lang'] == 'et'],ignore_index=True)\n",
      "C:\\Users\\lisannal\\AppData\\Local\\Temp\\ipykernel_22468\\3599747134.py:13: FutureWarning: In a future version, object-dtype columns with all-bool values will not be included in reductions with bool_only=True. Explicitly cast to bool dtype instead.\n",
      "  df_keywords = df_keywords.append(chunk[chunk['lang'] == 'et'],ignore_index=True)\n",
      "C:\\Users\\lisannal\\AppData\\Local\\Temp\\ipykernel_22468\\3599747134.py:13: FutureWarning: The frame.append method is deprecated and will be removed from pandas in a future version. Use pandas.concat instead.\n",
      "  df_keywords = df_keywords.append(chunk[chunk['lang'] == 'et'],ignore_index=True)\n",
      "C:\\Users\\lisannal\\AppData\\Local\\Temp\\ipykernel_22468\\3599747134.py:13: FutureWarning: In a future version, object-dtype columns with all-bool values will not be included in reductions with bool_only=True. Explicitly cast to bool dtype instead.\n",
      "  df_keywords = df_keywords.append(chunk[chunk['lang'] == 'et'],ignore_index=True)\n",
      "C:\\Users\\lisannal\\AppData\\Local\\Temp\\ipykernel_22468\\3599747134.py:13: FutureWarning: The frame.append method is deprecated and will be removed from pandas in a future version. Use pandas.concat instead.\n",
      "  df_keywords = df_keywords.append(chunk[chunk['lang'] == 'et'],ignore_index=True)\n",
      "C:\\Users\\lisannal\\AppData\\Local\\Temp\\ipykernel_22468\\3599747134.py:13: FutureWarning: In a future version, object-dtype columns with all-bool values will not be included in reductions with bool_only=True. Explicitly cast to bool dtype instead.\n",
      "  df_keywords = df_keywords.append(chunk[chunk['lang'] == 'et'],ignore_index=True)\n",
      "C:\\Users\\lisannal\\AppData\\Local\\Temp\\ipykernel_22468\\3599747134.py:13: FutureWarning: The frame.append method is deprecated and will be removed from pandas in a future version. Use pandas.concat instead.\n",
      "  df_keywords = df_keywords.append(chunk[chunk['lang'] == 'et'],ignore_index=True)\n",
      "C:\\Users\\lisannal\\AppData\\Local\\Temp\\ipykernel_22468\\3599747134.py:13: FutureWarning: In a future version, object-dtype columns with all-bool values will not be included in reductions with bool_only=True. Explicitly cast to bool dtype instead.\n",
      "  df_keywords = df_keywords.append(chunk[chunk['lang'] == 'et'],ignore_index=True)\n",
      "C:\\Users\\lisannal\\AppData\\Local\\Temp\\ipykernel_22468\\3599747134.py:13: FutureWarning: The frame.append method is deprecated and will be removed from pandas in a future version. Use pandas.concat instead.\n",
      "  df_keywords = df_keywords.append(chunk[chunk['lang'] == 'et'],ignore_index=True)\n",
      "C:\\Users\\lisannal\\AppData\\Local\\Temp\\ipykernel_22468\\3599747134.py:13: FutureWarning: In a future version, object-dtype columns with all-bool values will not be included in reductions with bool_only=True. Explicitly cast to bool dtype instead.\n",
      "  df_keywords = df_keywords.append(chunk[chunk['lang'] == 'et'],ignore_index=True)\n",
      "C:\\Users\\lisannal\\AppData\\Local\\Temp\\ipykernel_22468\\3599747134.py:13: FutureWarning: The frame.append method is deprecated and will be removed from pandas in a future version. Use pandas.concat instead.\n",
      "  df_keywords = df_keywords.append(chunk[chunk['lang'] == 'et'],ignore_index=True)\n",
      "C:\\Users\\lisannal\\AppData\\Local\\Temp\\ipykernel_22468\\3599747134.py:13: FutureWarning: In a future version, object-dtype columns with all-bool values will not be included in reductions with bool_only=True. Explicitly cast to bool dtype instead.\n",
      "  df_keywords = df_keywords.append(chunk[chunk['lang'] == 'et'],ignore_index=True)\n",
      "C:\\Users\\lisannal\\AppData\\Local\\Temp\\ipykernel_22468\\3599747134.py:13: FutureWarning: The frame.append method is deprecated and will be removed from pandas in a future version. Use pandas.concat instead.\n",
      "  df_keywords = df_keywords.append(chunk[chunk['lang'] == 'et'],ignore_index=True)\n",
      "C:\\Users\\lisannal\\AppData\\Local\\Temp\\ipykernel_22468\\3599747134.py:13: FutureWarning: In a future version, object-dtype columns with all-bool values will not be included in reductions with bool_only=True. Explicitly cast to bool dtype instead.\n",
      "  df_keywords = df_keywords.append(chunk[chunk['lang'] == 'et'],ignore_index=True)\n",
      "C:\\Users\\lisannal\\AppData\\Local\\Temp\\ipykernel_22468\\3599747134.py:13: FutureWarning: The frame.append method is deprecated and will be removed from pandas in a future version. Use pandas.concat instead.\n",
      "  df_keywords = df_keywords.append(chunk[chunk['lang'] == 'et'],ignore_index=True)\n",
      "C:\\Users\\lisannal\\AppData\\Local\\Temp\\ipykernel_22468\\3599747134.py:13: FutureWarning: In a future version, object-dtype columns with all-bool values will not be included in reductions with bool_only=True. Explicitly cast to bool dtype instead.\n",
      "  df_keywords = df_keywords.append(chunk[chunk['lang'] == 'et'],ignore_index=True)\n"
     ]
    },
    {
     "name": "stdout",
     "output_type": "stream",
     "text": [
      "../keywords_data\\tweet_keyword_ukraina rünnak.csv\n",
      "../keywords_data\\tweet_keyword_ukraina sanktsioon.csv\n",
      "../keywords_data\\tweet_keyword_ukraina sõda.csv\n",
      "../keywords_data\\tweet_keyword_ukraina sõja.csv\n",
      "../keywords_data\\tweet_keyword_ukraina sõjaga.csv\n",
      "../keywords_data\\tweet_keyword_ukraina sõjaks.csv\n",
      "../keywords_data\\tweet_keyword_ukraina sõjal.csv\n",
      "../keywords_data\\tweet_keyword_ukraina sõjale.csv\n",
      "../keywords_data\\tweet_keyword_ukraina sõjani.csv\n",
      "../keywords_data\\tweet_keyword_ukraina sõjapõgenik.csv\n",
      "../keywords_data\\tweet_keyword_ukraina sõjapõgeniku.csv\n",
      "../keywords_data\\tweet_keyword_ukraina sõjas.csv\n"
     ]
    },
    {
     "name": "stderr",
     "output_type": "stream",
     "text": [
      "C:\\Users\\lisannal\\AppData\\Local\\Temp\\ipykernel_22468\\3599747134.py:13: FutureWarning: The frame.append method is deprecated and will be removed from pandas in a future version. Use pandas.concat instead.\n",
      "  df_keywords = df_keywords.append(chunk[chunk['lang'] == 'et'],ignore_index=True)\n",
      "C:\\Users\\lisannal\\AppData\\Local\\Temp\\ipykernel_22468\\3599747134.py:13: FutureWarning: In a future version, object-dtype columns with all-bool values will not be included in reductions with bool_only=True. Explicitly cast to bool dtype instead.\n",
      "  df_keywords = df_keywords.append(chunk[chunk['lang'] == 'et'],ignore_index=True)\n",
      "C:\\Users\\lisannal\\AppData\\Local\\Temp\\ipykernel_22468\\3599747134.py:13: FutureWarning: The frame.append method is deprecated and will be removed from pandas in a future version. Use pandas.concat instead.\n",
      "  df_keywords = df_keywords.append(chunk[chunk['lang'] == 'et'],ignore_index=True)\n",
      "C:\\Users\\lisannal\\AppData\\Local\\Temp\\ipykernel_22468\\3599747134.py:13: FutureWarning: In a future version, object-dtype columns with all-bool values will not be included in reductions with bool_only=True. Explicitly cast to bool dtype instead.\n",
      "  df_keywords = df_keywords.append(chunk[chunk['lang'] == 'et'],ignore_index=True)\n",
      "C:\\Users\\lisannal\\AppData\\Local\\Temp\\ipykernel_22468\\3599747134.py:13: FutureWarning: The frame.append method is deprecated and will be removed from pandas in a future version. Use pandas.concat instead.\n",
      "  df_keywords = df_keywords.append(chunk[chunk['lang'] == 'et'],ignore_index=True)\n",
      "C:\\Users\\lisannal\\AppData\\Local\\Temp\\ipykernel_22468\\3599747134.py:13: FutureWarning: In a future version, object-dtype columns with all-bool values will not be included in reductions with bool_only=True. Explicitly cast to bool dtype instead.\n",
      "  df_keywords = df_keywords.append(chunk[chunk['lang'] == 'et'],ignore_index=True)\n",
      "C:\\Users\\lisannal\\AppData\\Local\\Temp\\ipykernel_22468\\3599747134.py:13: FutureWarning: The frame.append method is deprecated and will be removed from pandas in a future version. Use pandas.concat instead.\n",
      "  df_keywords = df_keywords.append(chunk[chunk['lang'] == 'et'],ignore_index=True)\n",
      "C:\\Users\\lisannal\\AppData\\Local\\Temp\\ipykernel_22468\\3599747134.py:13: FutureWarning: In a future version, object-dtype columns with all-bool values will not be included in reductions with bool_only=True. Explicitly cast to bool dtype instead.\n",
      "  df_keywords = df_keywords.append(chunk[chunk['lang'] == 'et'],ignore_index=True)\n",
      "C:\\Users\\lisannal\\AppData\\Local\\Temp\\ipykernel_22468\\3599747134.py:13: FutureWarning: The frame.append method is deprecated and will be removed from pandas in a future version. Use pandas.concat instead.\n",
      "  df_keywords = df_keywords.append(chunk[chunk['lang'] == 'et'],ignore_index=True)\n",
      "C:\\Users\\lisannal\\AppData\\Local\\Temp\\ipykernel_22468\\3599747134.py:13: FutureWarning: In a future version, object-dtype columns with all-bool values will not be included in reductions with bool_only=True. Explicitly cast to bool dtype instead.\n",
      "  df_keywords = df_keywords.append(chunk[chunk['lang'] == 'et'],ignore_index=True)\n",
      "C:\\Users\\lisannal\\AppData\\Local\\Temp\\ipykernel_22468\\3599747134.py:13: FutureWarning: The frame.append method is deprecated and will be removed from pandas in a future version. Use pandas.concat instead.\n",
      "  df_keywords = df_keywords.append(chunk[chunk['lang'] == 'et'],ignore_index=True)\n",
      "C:\\Users\\lisannal\\AppData\\Local\\Temp\\ipykernel_22468\\3599747134.py:13: FutureWarning: In a future version, object-dtype columns with all-bool values will not be included in reductions with bool_only=True. Explicitly cast to bool dtype instead.\n",
      "  df_keywords = df_keywords.append(chunk[chunk['lang'] == 'et'],ignore_index=True)\n",
      "C:\\Users\\lisannal\\AppData\\Local\\Temp\\ipykernel_22468\\3599747134.py:13: FutureWarning: The frame.append method is deprecated and will be removed from pandas in a future version. Use pandas.concat instead.\n",
      "  df_keywords = df_keywords.append(chunk[chunk['lang'] == 'et'],ignore_index=True)\n",
      "C:\\Users\\lisannal\\AppData\\Local\\Temp\\ipykernel_22468\\3599747134.py:13: FutureWarning: In a future version, object-dtype columns with all-bool values will not be included in reductions with bool_only=True. Explicitly cast to bool dtype instead.\n",
      "  df_keywords = df_keywords.append(chunk[chunk['lang'] == 'et'],ignore_index=True)\n"
     ]
    },
    {
     "name": "stdout",
     "output_type": "stream",
     "text": [
      "../keywords_data\\tweet_keyword_ukraina sõjast.csv\n",
      "../keywords_data\\tweet_keyword_ukraina toetamine.csv\n",
      "../keywords_data\\tweet_keyword_ukraina toetus.csv\n",
      "../keywords_data\\tweet_keyword_ukraina vaba.csv\n",
      "../keywords_data\\tweet_keyword_ukraina vabastamine.csv\n",
      "../keywords_data\\tweet_keyword_ukraina venemaa.csv\n",
      "../keywords_data\\tweet_keyword_ukraina.csv\n"
     ]
    },
    {
     "name": "stderr",
     "output_type": "stream",
     "text": [
      "C:\\Users\\lisannal\\AppData\\Local\\Temp\\ipykernel_22468\\3599747134.py:13: FutureWarning: The frame.append method is deprecated and will be removed from pandas in a future version. Use pandas.concat instead.\n",
      "  df_keywords = df_keywords.append(chunk[chunk['lang'] == 'et'],ignore_index=True)\n",
      "C:\\Users\\lisannal\\AppData\\Local\\Temp\\ipykernel_22468\\3599747134.py:13: FutureWarning: In a future version, object-dtype columns with all-bool values will not be included in reductions with bool_only=True. Explicitly cast to bool dtype instead.\n",
      "  df_keywords = df_keywords.append(chunk[chunk['lang'] == 'et'],ignore_index=True)\n",
      "C:\\Users\\lisannal\\AppData\\Local\\Temp\\ipykernel_22468\\3599747134.py:13: FutureWarning: The frame.append method is deprecated and will be removed from pandas in a future version. Use pandas.concat instead.\n",
      "  df_keywords = df_keywords.append(chunk[chunk['lang'] == 'et'],ignore_index=True)\n",
      "C:\\Users\\lisannal\\AppData\\Local\\Temp\\ipykernel_22468\\3599747134.py:13: FutureWarning: In a future version, object-dtype columns with all-bool values will not be included in reductions with bool_only=True. Explicitly cast to bool dtype instead.\n",
      "  df_keywords = df_keywords.append(chunk[chunk['lang'] == 'et'],ignore_index=True)\n",
      "C:\\Users\\lisannal\\AppData\\Local\\Temp\\ipykernel_22468\\3599747134.py:13: FutureWarning: The frame.append method is deprecated and will be removed from pandas in a future version. Use pandas.concat instead.\n",
      "  df_keywords = df_keywords.append(chunk[chunk['lang'] == 'et'],ignore_index=True)\n",
      "C:\\Users\\lisannal\\AppData\\Local\\Temp\\ipykernel_22468\\3599747134.py:13: FutureWarning: In a future version, object-dtype columns with all-bool values will not be included in reductions with bool_only=True. Explicitly cast to bool dtype instead.\n",
      "  df_keywords = df_keywords.append(chunk[chunk['lang'] == 'et'],ignore_index=True)\n",
      "C:\\Users\\lisannal\\AppData\\Local\\Temp\\ipykernel_22468\\3599747134.py:13: FutureWarning: The frame.append method is deprecated and will be removed from pandas in a future version. Use pandas.concat instead.\n",
      "  df_keywords = df_keywords.append(chunk[chunk['lang'] == 'et'],ignore_index=True)\n",
      "C:\\Users\\lisannal\\AppData\\Local\\Temp\\ipykernel_22468\\3599747134.py:13: FutureWarning: In a future version, object-dtype columns with all-bool values will not be included in reductions with bool_only=True. Explicitly cast to bool dtype instead.\n",
      "  df_keywords = df_keywords.append(chunk[chunk['lang'] == 'et'],ignore_index=True)\n",
      "C:\\Users\\lisannal\\AppData\\Local\\Temp\\ipykernel_22468\\3599747134.py:13: FutureWarning: The frame.append method is deprecated and will be removed from pandas in a future version. Use pandas.concat instead.\n",
      "  df_keywords = df_keywords.append(chunk[chunk['lang'] == 'et'],ignore_index=True)\n",
      "C:\\Users\\lisannal\\AppData\\Local\\Temp\\ipykernel_22468\\3599747134.py:13: FutureWarning: In a future version, object-dtype columns with all-bool values will not be included in reductions with bool_only=True. Explicitly cast to bool dtype instead.\n",
      "  df_keywords = df_keywords.append(chunk[chunk['lang'] == 'et'],ignore_index=True)\n",
      "C:\\Users\\lisannal\\AppData\\Local\\Temp\\ipykernel_22468\\3599747134.py:13: FutureWarning: The frame.append method is deprecated and will be removed from pandas in a future version. Use pandas.concat instead.\n",
      "  df_keywords = df_keywords.append(chunk[chunk['lang'] == 'et'],ignore_index=True)\n",
      "C:\\Users\\lisannal\\AppData\\Local\\Temp\\ipykernel_22468\\3599747134.py:13: FutureWarning: In a future version, object-dtype columns with all-bool values will not be included in reductions with bool_only=True. Explicitly cast to bool dtype instead.\n",
      "  df_keywords = df_keywords.append(chunk[chunk['lang'] == 'et'],ignore_index=True)\n",
      "C:\\Users\\lisannal\\AppData\\Local\\Temp\\ipykernel_22468\\3599747134.py:13: FutureWarning: The frame.append method is deprecated and will be removed from pandas in a future version. Use pandas.concat instead.\n",
      "  df_keywords = df_keywords.append(chunk[chunk['lang'] == 'et'],ignore_index=True)\n",
      "C:\\Users\\lisannal\\AppData\\Local\\Temp\\ipykernel_22468\\3599747134.py:13: FutureWarning: In a future version, object-dtype columns with all-bool values will not be included in reductions with bool_only=True. Explicitly cast to bool dtype instead.\n",
      "  df_keywords = df_keywords.append(chunk[chunk['lang'] == 'et'],ignore_index=True)\n",
      "C:\\Users\\lisannal\\AppData\\Local\\Temp\\ipykernel_22468\\3599747134.py:13: FutureWarning: The frame.append method is deprecated and will be removed from pandas in a future version. Use pandas.concat instead.\n",
      "  df_keywords = df_keywords.append(chunk[chunk['lang'] == 'et'],ignore_index=True)\n",
      "C:\\Users\\lisannal\\AppData\\Local\\Temp\\ipykernel_22468\\3599747134.py:13: FutureWarning: In a future version, object-dtype columns with all-bool values will not be included in reductions with bool_only=True. Explicitly cast to bool dtype instead.\n",
      "  df_keywords = df_keywords.append(chunk[chunk['lang'] == 'et'],ignore_index=True)\n",
      "C:\\Users\\lisannal\\AppData\\Local\\Temp\\ipykernel_22468\\3599747134.py:13: FutureWarning: The frame.append method is deprecated and will be removed from pandas in a future version. Use pandas.concat instead.\n",
      "  df_keywords = df_keywords.append(chunk[chunk['lang'] == 'et'],ignore_index=True)\n",
      "C:\\Users\\lisannal\\AppData\\Local\\Temp\\ipykernel_22468\\3599747134.py:13: FutureWarning: In a future version, object-dtype columns with all-bool values will not be included in reductions with bool_only=True. Explicitly cast to bool dtype instead.\n",
      "  df_keywords = df_keywords.append(chunk[chunk['lang'] == 'et'],ignore_index=True)\n",
      "C:\\Users\\lisannal\\AppData\\Local\\Temp\\ipykernel_22468\\3599747134.py:13: FutureWarning: The frame.append method is deprecated and will be removed from pandas in a future version. Use pandas.concat instead.\n",
      "  df_keywords = df_keywords.append(chunk[chunk['lang'] == 'et'],ignore_index=True)\n",
      "C:\\Users\\lisannal\\AppData\\Local\\Temp\\ipykernel_22468\\3599747134.py:13: FutureWarning: In a future version, object-dtype columns with all-bool values will not be included in reductions with bool_only=True. Explicitly cast to bool dtype instead.\n",
      "  df_keywords = df_keywords.append(chunk[chunk['lang'] == 'et'],ignore_index=True)\n",
      "C:\\Users\\lisannal\\AppData\\Local\\Temp\\ipykernel_22468\\3599747134.py:13: FutureWarning: The frame.append method is deprecated and will be removed from pandas in a future version. Use pandas.concat instead.\n",
      "  df_keywords = df_keywords.append(chunk[chunk['lang'] == 'et'],ignore_index=True)\n",
      "C:\\Users\\lisannal\\AppData\\Local\\Temp\\ipykernel_22468\\3599747134.py:13: FutureWarning: In a future version, object-dtype columns with all-bool values will not be included in reductions with bool_only=True. Explicitly cast to bool dtype instead.\n",
      "  df_keywords = df_keywords.append(chunk[chunk['lang'] == 'et'],ignore_index=True)\n",
      "C:\\Users\\lisannal\\AppData\\Local\\Temp\\ipykernel_22468\\3599747134.py:13: FutureWarning: The frame.append method is deprecated and will be removed from pandas in a future version. Use pandas.concat instead.\n",
      "  df_keywords = df_keywords.append(chunk[chunk['lang'] == 'et'],ignore_index=True)\n",
      "C:\\Users\\lisannal\\AppData\\Local\\Temp\\ipykernel_22468\\3599747134.py:13: FutureWarning: In a future version, object-dtype columns with all-bool values will not be included in reductions with bool_only=True. Explicitly cast to bool dtype instead.\n",
      "  df_keywords = df_keywords.append(chunk[chunk['lang'] == 'et'],ignore_index=True)\n",
      "C:\\Users\\lisannal\\AppData\\Local\\Temp\\ipykernel_22468\\3599747134.py:13: FutureWarning: The frame.append method is deprecated and will be removed from pandas in a future version. Use pandas.concat instead.\n",
      "  df_keywords = df_keywords.append(chunk[chunk['lang'] == 'et'],ignore_index=True)\n",
      "C:\\Users\\lisannal\\AppData\\Local\\Temp\\ipykernel_22468\\3599747134.py:13: FutureWarning: In a future version, object-dtype columns with all-bool values will not be included in reductions with bool_only=True. Explicitly cast to bool dtype instead.\n",
      "  df_keywords = df_keywords.append(chunk[chunk['lang'] == 'et'],ignore_index=True)\n",
      "C:\\Users\\lisannal\\AppData\\Local\\Temp\\ipykernel_22468\\3599747134.py:13: FutureWarning: The frame.append method is deprecated and will be removed from pandas in a future version. Use pandas.concat instead.\n",
      "  df_keywords = df_keywords.append(chunk[chunk['lang'] == 'et'],ignore_index=True)\n",
      "C:\\Users\\lisannal\\AppData\\Local\\Temp\\ipykernel_22468\\3599747134.py:13: FutureWarning: In a future version, object-dtype columns with all-bool values will not be included in reductions with bool_only=True. Explicitly cast to bool dtype instead.\n",
      "  df_keywords = df_keywords.append(chunk[chunk['lang'] == 'et'],ignore_index=True)\n",
      "C:\\Users\\lisannal\\AppData\\Local\\Temp\\ipykernel_22468\\3599747134.py:13: FutureWarning: The frame.append method is deprecated and will be removed from pandas in a future version. Use pandas.concat instead.\n",
      "  df_keywords = df_keywords.append(chunk[chunk['lang'] == 'et'],ignore_index=True)\n",
      "C:\\Users\\lisannal\\AppData\\Local\\Temp\\ipykernel_22468\\3599747134.py:13: FutureWarning: In a future version, object-dtype columns with all-bool values will not be included in reductions with bool_only=True. Explicitly cast to bool dtype instead.\n",
      "  df_keywords = df_keywords.append(chunk[chunk['lang'] == 'et'],ignore_index=True)\n"
     ]
    },
    {
     "name": "stdout",
     "output_type": "stream",
     "text": [
      "../keywords_data\\tweet_keyword_ukrainlane.csv\n",
      "../keywords_data\\tweet_keyword_varjupaiga ukraina.csv\n",
      "../keywords_data\\tweet_keyword_varjupaik ukraina.csv\n",
      "../keywords_data\\tweet_keyword_venemaa agressioon.csv\n",
      "../keywords_data\\tweet_keyword_venemaa agressiooni.csv\n",
      "../keywords_data\\tweet_keyword_venemaa agressor.csv\n",
      "../keywords_data\\tweet_keyword_venemaa erioperatsioon.csv\n",
      "../keywords_data\\tweet_keyword_venemaa konflikt.csv\n",
      "../keywords_data\\tweet_keyword_venemaa putin.csv\n"
     ]
    },
    {
     "name": "stderr",
     "output_type": "stream",
     "text": [
      "C:\\Users\\lisannal\\AppData\\Local\\Temp\\ipykernel_22468\\3599747134.py:13: FutureWarning: The frame.append method is deprecated and will be removed from pandas in a future version. Use pandas.concat instead.\n",
      "  df_keywords = df_keywords.append(chunk[chunk['lang'] == 'et'],ignore_index=True)\n",
      "C:\\Users\\lisannal\\AppData\\Local\\Temp\\ipykernel_22468\\3599747134.py:13: FutureWarning: In a future version, object-dtype columns with all-bool values will not be included in reductions with bool_only=True. Explicitly cast to bool dtype instead.\n",
      "  df_keywords = df_keywords.append(chunk[chunk['lang'] == 'et'],ignore_index=True)\n",
      "C:\\Users\\lisannal\\AppData\\Local\\Temp\\ipykernel_22468\\3599747134.py:13: FutureWarning: The frame.append method is deprecated and will be removed from pandas in a future version. Use pandas.concat instead.\n",
      "  df_keywords = df_keywords.append(chunk[chunk['lang'] == 'et'],ignore_index=True)\n",
      "C:\\Users\\lisannal\\AppData\\Local\\Temp\\ipykernel_22468\\3599747134.py:13: FutureWarning: In a future version, object-dtype columns with all-bool values will not be included in reductions with bool_only=True. Explicitly cast to bool dtype instead.\n",
      "  df_keywords = df_keywords.append(chunk[chunk['lang'] == 'et'],ignore_index=True)\n",
      "C:\\Users\\lisannal\\AppData\\Local\\Temp\\ipykernel_22468\\3599747134.py:13: FutureWarning: The frame.append method is deprecated and will be removed from pandas in a future version. Use pandas.concat instead.\n",
      "  df_keywords = df_keywords.append(chunk[chunk['lang'] == 'et'],ignore_index=True)\n",
      "C:\\Users\\lisannal\\AppData\\Local\\Temp\\ipykernel_22468\\3599747134.py:13: FutureWarning: In a future version, object-dtype columns with all-bool values will not be included in reductions with bool_only=True. Explicitly cast to bool dtype instead.\n",
      "  df_keywords = df_keywords.append(chunk[chunk['lang'] == 'et'],ignore_index=True)\n",
      "C:\\Users\\lisannal\\AppData\\Local\\Temp\\ipykernel_22468\\3599747134.py:13: FutureWarning: The frame.append method is deprecated and will be removed from pandas in a future version. Use pandas.concat instead.\n",
      "  df_keywords = df_keywords.append(chunk[chunk['lang'] == 'et'],ignore_index=True)\n",
      "C:\\Users\\lisannal\\AppData\\Local\\Temp\\ipykernel_22468\\3599747134.py:13: FutureWarning: In a future version, object-dtype columns with all-bool values will not be included in reductions with bool_only=True. Explicitly cast to bool dtype instead.\n",
      "  df_keywords = df_keywords.append(chunk[chunk['lang'] == 'et'],ignore_index=True)\n",
      "C:\\Users\\lisannal\\AppData\\Local\\Temp\\ipykernel_22468\\3599747134.py:13: FutureWarning: The frame.append method is deprecated and will be removed from pandas in a future version. Use pandas.concat instead.\n",
      "  df_keywords = df_keywords.append(chunk[chunk['lang'] == 'et'],ignore_index=True)\n",
      "C:\\Users\\lisannal\\AppData\\Local\\Temp\\ipykernel_22468\\3599747134.py:13: FutureWarning: In a future version, object-dtype columns with all-bool values will not be included in reductions with bool_only=True. Explicitly cast to bool dtype instead.\n",
      "  df_keywords = df_keywords.append(chunk[chunk['lang'] == 'et'],ignore_index=True)\n",
      "C:\\Users\\lisannal\\AppData\\Local\\Temp\\ipykernel_22468\\3599747134.py:13: FutureWarning: The frame.append method is deprecated and will be removed from pandas in a future version. Use pandas.concat instead.\n",
      "  df_keywords = df_keywords.append(chunk[chunk['lang'] == 'et'],ignore_index=True)\n",
      "C:\\Users\\lisannal\\AppData\\Local\\Temp\\ipykernel_22468\\3599747134.py:13: FutureWarning: In a future version, object-dtype columns with all-bool values will not be included in reductions with bool_only=True. Explicitly cast to bool dtype instead.\n",
      "  df_keywords = df_keywords.append(chunk[chunk['lang'] == 'et'],ignore_index=True)\n",
      "C:\\Users\\lisannal\\AppData\\Local\\Temp\\ipykernel_22468\\3599747134.py:13: FutureWarning: The frame.append method is deprecated and will be removed from pandas in a future version. Use pandas.concat instead.\n",
      "  df_keywords = df_keywords.append(chunk[chunk['lang'] == 'et'],ignore_index=True)\n",
      "C:\\Users\\lisannal\\AppData\\Local\\Temp\\ipykernel_22468\\3599747134.py:13: FutureWarning: In a future version, object-dtype columns with all-bool values will not be included in reductions with bool_only=True. Explicitly cast to bool dtype instead.\n",
      "  df_keywords = df_keywords.append(chunk[chunk['lang'] == 'et'],ignore_index=True)\n",
      "C:\\Users\\lisannal\\AppData\\Local\\Temp\\ipykernel_22468\\3599747134.py:13: FutureWarning: The frame.append method is deprecated and will be removed from pandas in a future version. Use pandas.concat instead.\n",
      "  df_keywords = df_keywords.append(chunk[chunk['lang'] == 'et'],ignore_index=True)\n",
      "C:\\Users\\lisannal\\AppData\\Local\\Temp\\ipykernel_22468\\3599747134.py:13: FutureWarning: In a future version, object-dtype columns with all-bool values will not be included in reductions with bool_only=True. Explicitly cast to bool dtype instead.\n",
      "  df_keywords = df_keywords.append(chunk[chunk['lang'] == 'et'],ignore_index=True)\n",
      "C:\\Users\\lisannal\\AppData\\Local\\Temp\\ipykernel_22468\\3599747134.py:13: FutureWarning: The frame.append method is deprecated and will be removed from pandas in a future version. Use pandas.concat instead.\n",
      "  df_keywords = df_keywords.append(chunk[chunk['lang'] == 'et'],ignore_index=True)\n",
      "C:\\Users\\lisannal\\AppData\\Local\\Temp\\ipykernel_22468\\3599747134.py:13: FutureWarning: In a future version, object-dtype columns with all-bool values will not be included in reductions with bool_only=True. Explicitly cast to bool dtype instead.\n",
      "  df_keywords = df_keywords.append(chunk[chunk['lang'] == 'et'],ignore_index=True)\n"
     ]
    },
    {
     "name": "stdout",
     "output_type": "stream",
     "text": [
      "../keywords_data\\tweet_keyword_venemaa putini.csv\n",
      "../keywords_data\\tweet_keyword_venemaa putinil.csv\n",
      "../keywords_data\\tweet_keyword_venemaa ründama.csv\n",
      "../keywords_data\\tweet_keyword_venemaa ründamine.csv\n",
      "../keywords_data\\tweet_keyword_venemaa ründas.csv\n",
      "../keywords_data\\tweet_keyword_venemaa rünnak.csv\n",
      "../keywords_data\\tweet_keyword_venemaa sanktsioon.csv\n",
      "../keywords_data\\tweet_keyword_venemaa sõda.csv\n",
      "../keywords_data\\tweet_keyword_venemaa.csv\n"
     ]
    },
    {
     "name": "stderr",
     "output_type": "stream",
     "text": [
      "C:\\Users\\lisannal\\AppData\\Local\\Temp\\ipykernel_22468\\3599747134.py:13: FutureWarning: The frame.append method is deprecated and will be removed from pandas in a future version. Use pandas.concat instead.\n",
      "  df_keywords = df_keywords.append(chunk[chunk['lang'] == 'et'],ignore_index=True)\n",
      "C:\\Users\\lisannal\\AppData\\Local\\Temp\\ipykernel_22468\\3599747134.py:13: FutureWarning: In a future version, object-dtype columns with all-bool values will not be included in reductions with bool_only=True. Explicitly cast to bool dtype instead.\n",
      "  df_keywords = df_keywords.append(chunk[chunk['lang'] == 'et'],ignore_index=True)\n"
     ]
    }
   ],
   "source": [
    "csv_files = glob.glob('../keywords_data/*.csv')\n",
    "column_names = ['tweetId', 'authorId', 'tweetText', 'lang', 'created_at', 'geo', 'isRetweet', 'retweetCount', 'replyCount', 'likeCount', 'quoteCount', 'impressionCount']\n",
    "df_keywords = pd.DataFrame([], columns=column_names)\n",
    "chunksize = 10 ** 6\n",
    "\n",
    "# import data from keywords search\n",
    "for f in csv_files:\n",
    "    if is_non_zero_file(f):\n",
    "        print(f)\n",
    "        # read the csv file\n",
    "        \n",
    "        for chunk in pd.read_csv(f, chunksize=chunksize, names=column_names):\n",
    "            df_keywords = df_keywords.append(chunk[chunk['lang'] == 'et'],ignore_index=True)\n",
    "        "
   ]
  },
  {
   "cell_type": "code",
   "execution_count": 38,
   "id": "40f91797",
   "metadata": {},
   "outputs": [
    {
     "data": {
      "text/plain": [
       "Index(['tweetId', 'authorId', 'tweetText', 'lang', 'created_at', 'geo',\n",
       "       'isRetweet', 'retweetCount', 'replyCount', 'likeCount', 'quoteCount',\n",
       "       'impressionCount'],\n",
       "      dtype='object')"
      ]
     },
     "execution_count": 38,
     "metadata": {},
     "output_type": "execute_result"
    }
   ],
   "source": [
    "df_keywords.columns"
   ]
  },
  {
   "cell_type": "code",
   "execution_count": 39,
   "id": "5f213f0e",
   "metadata": {},
   "outputs": [
    {
     "data": {
      "text/plain": [
       "array(['et'], dtype=object)"
      ]
     },
     "execution_count": 39,
     "metadata": {},
     "output_type": "execute_result"
    }
   ],
   "source": [
    "df_keywords['lang'].unique()"
   ]
  },
  {
   "cell_type": "code",
   "execution_count": 105,
   "id": "1a24dc4a",
   "metadata": {},
   "outputs": [
    {
     "name": "stdout",
     "output_type": "stream",
     "text": [
      "<class 'pandas.core.frame.DataFrame'>\n",
      "RangeIndex: 72465 entries, 0 to 72464\n",
      "Data columns (total 12 columns):\n",
      " #   Column           Non-Null Count  Dtype \n",
      "---  ------           --------------  ----- \n",
      " 0   tweetId          72465 non-null  int64 \n",
      " 1   authorId         72465 non-null  int64 \n",
      " 2   tweetText        72465 non-null  object\n",
      " 3   lang             72465 non-null  object\n",
      " 4   created_at       72465 non-null  object\n",
      " 5   geo              465 non-null    object\n",
      " 6   isRetweet        72465 non-null  bool  \n",
      " 7   retweetCount     72465 non-null  int64 \n",
      " 8   replyCount       72465 non-null  int64 \n",
      " 9   likeCount        72465 non-null  int64 \n",
      " 10  quoteCount       72465 non-null  int64 \n",
      " 11  impressionCount  72465 non-null  int64 \n",
      "dtypes: bool(1), int64(7), object(4)\n",
      "memory usage: 6.2+ MB\n"
     ]
    }
   ],
   "source": [
    "df_keywords.info()"
   ]
  },
  {
   "cell_type": "code",
   "execution_count": 41,
   "id": "b603245a",
   "metadata": {},
   "outputs": [],
   "source": [
    "# save to file\n",
    "df_keywords.to_csv('../FINALS/public_all_keywords_data.csv', index=False)"
   ]
  },
  {
   "cell_type": "markdown",
   "id": "7d110d41",
   "metadata": {},
   "source": [
    "## Get leaders userIds through Twitter API"
   ]
  },
  {
   "cell_type": "code",
   "execution_count": 43,
   "id": "9c28d370",
   "metadata": {
    "scrolled": true
   },
   "outputs": [
    {
     "name": "stderr",
     "output_type": "stream",
     "text": [
      "C:\\Users\\lisannal\\AppData\\Local\\Temp\\ipykernel_22468\\4269526101.py:1: DtypeWarning: Columns (11,15) have mixed types. Specify dtype option on import or set low_memory=False.\n",
      "  df_leaders = pd.read_csv('../FINALS/leaders_tweets_final.csv')\n"
     ]
    }
   ],
   "source": [
    "df_leaders = pd.read_csv('../FINALS/leaders_tweets_final.csv')"
   ]
  },
  {
   "cell_type": "code",
   "execution_count": 28,
   "id": "fe55ffae",
   "metadata": {},
   "outputs": [],
   "source": [
    "leaders_twitter_usernames = df_leaders.user.unique()"
   ]
  },
  {
   "cell_type": "code",
   "execution_count": null,
   "id": "dd532934",
   "metadata": {},
   "outputs": [],
   "source": [
    "import tweepy\n",
    "import configparser\n",
    "config = configparser.RawConfigParser()\n",
    "config.read('tweet.ini')\n",
    "api_key = config['twitter']['api_key']\n",
    "api_key_secret = config['twitter']['api_key_secret']\n",
    "bearer_token =  config['twitter']['bearer_token']\n",
    "\n",
    "client = tweepy.Client(bearer_token, wait_on_rate_limit = True)\n",
    "\n",
    "auth = tweepy.OAuth2BearerHandler(bearer_token)\n",
    "api = tweepy.API(auth, wait_on_rate_limit= True, retry_count=12, retry_delay=5, retry_errors=set([503, 500]))"
   ]
  },
  {
   "cell_type": "code",
   "execution_count": 30,
   "id": "276ad227",
   "metadata": {},
   "outputs": [
    {
     "data": {
      "text/plain": [
       "247"
      ]
     },
     "execution_count": 30,
     "metadata": {},
     "output_type": "execute_result"
    }
   ],
   "source": [
    "len(leaders_twitter_usernames)"
   ]
  },
  {
   "cell_type": "code",
   "execution_count": 37,
   "id": "2a67231e",
   "metadata": {},
   "outputs": [
    {
     "name": "stderr",
     "output_type": "stream",
     "text": [
      "Unexpected parameter: pagination_token\n",
      "Unexpected parameter: pagination_token\n",
      "Unexpected parameter: pagination_token\n",
      "Unexpected parameter: pagination_token\n",
      "Unexpected parameter: pagination_token\n",
      "Unexpected parameter: pagination_token\n",
      "Unexpected parameter: pagination_token\n",
      "Unexpected parameter: pagination_token\n",
      "Unexpected parameter: pagination_token\n",
      "Unexpected parameter: pagination_token\n",
      "Unexpected parameter: pagination_token\n",
      "Unexpected parameter: pagination_token\n",
      "Unexpected parameter: pagination_token\n",
      "Unexpected parameter: pagination_token\n",
      "Unexpected parameter: pagination_token\n",
      "Unexpected parameter: pagination_token\n",
      "Unexpected parameter: pagination_token\n",
      "Unexpected parameter: pagination_token\n",
      "Unexpected parameter: pagination_token\n",
      "Unexpected parameter: pagination_token\n",
      "Unexpected parameter: pagination_token\n",
      "Unexpected parameter: pagination_token\n",
      "Unexpected parameter: pagination_token\n",
      "Unexpected parameter: pagination_token\n",
      "Unexpected parameter: pagination_token\n",
      "Unexpected parameter: pagination_token\n",
      "Unexpected parameter: pagination_token\n",
      "Unexpected parameter: pagination_token\n",
      "Unexpected parameter: pagination_token\n",
      "Unexpected parameter: pagination_token\n",
      "Unexpected parameter: pagination_token\n",
      "Unexpected parameter: pagination_token\n",
      "Unexpected parameter: pagination_token\n",
      "Unexpected parameter: pagination_token\n",
      "Unexpected parameter: pagination_token\n",
      "Unexpected parameter: pagination_token\n",
      "Unexpected parameter: pagination_token\n",
      "Unexpected parameter: pagination_token\n",
      "Unexpected parameter: pagination_token\n",
      "Unexpected parameter: pagination_token\n",
      "Unexpected parameter: pagination_token\n",
      "Unexpected parameter: pagination_token\n",
      "Unexpected parameter: pagination_token\n",
      "Unexpected parameter: pagination_token\n",
      "Unexpected parameter: pagination_token\n",
      "Unexpected parameter: pagination_token\n",
      "Unexpected parameter: pagination_token\n",
      "Unexpected parameter: pagination_token\n",
      "Unexpected parameter: pagination_token\n",
      "Unexpected parameter: pagination_token\n",
      "Unexpected parameter: pagination_token\n",
      "Unexpected parameter: pagination_token\n",
      "Unexpected parameter: pagination_token\n",
      "Unexpected parameter: pagination_token\n",
      "Unexpected parameter: pagination_token\n",
      "Unexpected parameter: pagination_token\n",
      "Unexpected parameter: pagination_token\n",
      "Unexpected parameter: pagination_token\n",
      "Unexpected parameter: pagination_token\n",
      "Unexpected parameter: pagination_token\n",
      "Unexpected parameter: pagination_token\n",
      "Unexpected parameter: pagination_token\n",
      "Unexpected parameter: pagination_token\n",
      "Unexpected parameter: pagination_token\n",
      "Unexpected parameter: pagination_token\n",
      "Unexpected parameter: pagination_token\n",
      "Unexpected parameter: pagination_token\n",
      "Unexpected parameter: pagination_token\n",
      "Unexpected parameter: pagination_token\n",
      "Unexpected parameter: pagination_token\n",
      "Unexpected parameter: pagination_token\n",
      "Unexpected parameter: pagination_token\n",
      "Unexpected parameter: pagination_token\n",
      "Unexpected parameter: pagination_token\n",
      "Unexpected parameter: pagination_token\n",
      "Unexpected parameter: pagination_token\n",
      "Unexpected parameter: pagination_token\n",
      "Unexpected parameter: pagination_token\n",
      "Unexpected parameter: pagination_token\n",
      "Unexpected parameter: pagination_token\n",
      "Unexpected parameter: pagination_token\n",
      "Unexpected parameter: pagination_token\n",
      "Unexpected parameter: pagination_token\n",
      "Unexpected parameter: pagination_token\n",
      "Unexpected parameter: pagination_token\n",
      "Unexpected parameter: pagination_token\n",
      "Unexpected parameter: pagination_token\n",
      "Unexpected parameter: pagination_token\n",
      "Unexpected parameter: pagination_token\n",
      "Unexpected parameter: pagination_token\n",
      "Unexpected parameter: pagination_token\n",
      "Unexpected parameter: pagination_token\n",
      "Unexpected parameter: pagination_token\n",
      "Unexpected parameter: pagination_token\n",
      "Unexpected parameter: pagination_token\n",
      "Unexpected parameter: pagination_token\n",
      "Unexpected parameter: pagination_token\n",
      "Unexpected parameter: pagination_token\n",
      "Unexpected parameter: pagination_token\n",
      "Unexpected parameter: pagination_token\n",
      "Unexpected parameter: pagination_token\n",
      "Unexpected parameter: pagination_token\n",
      "Unexpected parameter: pagination_token\n",
      "Unexpected parameter: pagination_token\n",
      "Unexpected parameter: pagination_token\n",
      "Unexpected parameter: pagination_token\n",
      "Unexpected parameter: pagination_token\n",
      "Unexpected parameter: pagination_token\n",
      "Unexpected parameter: pagination_token\n",
      "Unexpected parameter: pagination_token\n",
      "Unexpected parameter: pagination_token\n",
      "Unexpected parameter: pagination_token\n",
      "Unexpected parameter: pagination_token\n",
      "Unexpected parameter: pagination_token\n",
      "Unexpected parameter: pagination_token\n",
      "Unexpected parameter: pagination_token\n",
      "Unexpected parameter: pagination_token\n",
      "Unexpected parameter: pagination_token\n",
      "Unexpected parameter: pagination_token\n",
      "Unexpected parameter: pagination_token\n",
      "Unexpected parameter: pagination_token\n",
      "Unexpected parameter: pagination_token\n",
      "Unexpected parameter: pagination_token\n",
      "Unexpected parameter: pagination_token\n",
      "Unexpected parameter: pagination_token\n",
      "Unexpected parameter: pagination_token\n",
      "Unexpected parameter: pagination_token\n",
      "Unexpected parameter: pagination_token\n",
      "Unexpected parameter: pagination_token\n",
      "Unexpected parameter: pagination_token\n",
      "Unexpected parameter: pagination_token\n",
      "Unexpected parameter: pagination_token\n",
      "Unexpected parameter: pagination_token\n",
      "Unexpected parameter: pagination_token\n",
      "Unexpected parameter: pagination_token\n",
      "Unexpected parameter: pagination_token\n",
      "Unexpected parameter: pagination_token\n",
      "Unexpected parameter: pagination_token\n",
      "Unexpected parameter: pagination_token\n",
      "Unexpected parameter: pagination_token\n",
      "Unexpected parameter: pagination_token\n",
      "Unexpected parameter: pagination_token\n",
      "Unexpected parameter: pagination_token\n",
      "Unexpected parameter: pagination_token\n",
      "Unexpected parameter: pagination_token\n",
      "Unexpected parameter: pagination_token\n",
      "Unexpected parameter: pagination_token\n",
      "Unexpected parameter: pagination_token\n",
      "Unexpected parameter: pagination_token\n",
      "Unexpected parameter: pagination_token\n",
      "Unexpected parameter: pagination_token\n",
      "Unexpected parameter: pagination_token\n",
      "Unexpected parameter: pagination_token\n",
      "Unexpected parameter: pagination_token\n",
      "Unexpected parameter: pagination_token\n",
      "Unexpected parameter: pagination_token\n",
      "Unexpected parameter: pagination_token\n",
      "Unexpected parameter: pagination_token\n",
      "Unexpected parameter: pagination_token\n",
      "Unexpected parameter: pagination_token\n",
      "Unexpected parameter: pagination_token\n",
      "Unexpected parameter: pagination_token\n",
      "Unexpected parameter: pagination_token\n",
      "Unexpected parameter: pagination_token\n",
      "Unexpected parameter: pagination_token\n",
      "Unexpected parameter: pagination_token\n",
      "Unexpected parameter: pagination_token\n",
      "Unexpected parameter: pagination_token\n",
      "Unexpected parameter: pagination_token\n",
      "Unexpected parameter: pagination_token\n",
      "Unexpected parameter: pagination_token\n",
      "Unexpected parameter: pagination_token\n",
      "Unexpected parameter: pagination_token\n",
      "Unexpected parameter: pagination_token\n",
      "Unexpected parameter: pagination_token\n",
      "Unexpected parameter: pagination_token\n",
      "Unexpected parameter: pagination_token\n",
      "Unexpected parameter: pagination_token\n",
      "Unexpected parameter: pagination_token\n",
      "Unexpected parameter: pagination_token\n",
      "Unexpected parameter: pagination_token\n",
      "Unexpected parameter: pagination_token\n",
      "Unexpected parameter: pagination_token\n",
      "Unexpected parameter: pagination_token\n",
      "Unexpected parameter: pagination_token\n",
      "Unexpected parameter: pagination_token\n",
      "Unexpected parameter: pagination_token\n",
      "Unexpected parameter: pagination_token\n",
      "Unexpected parameter: pagination_token\n",
      "Unexpected parameter: pagination_token\n",
      "Unexpected parameter: pagination_token\n",
      "Unexpected parameter: pagination_token\n",
      "Unexpected parameter: pagination_token\n",
      "Unexpected parameter: pagination_token\n",
      "Unexpected parameter: pagination_token\n",
      "Unexpected parameter: pagination_token\n",
      "Unexpected parameter: pagination_token\n",
      "Unexpected parameter: pagination_token\n",
      "Unexpected parameter: pagination_token\n",
      "Unexpected parameter: pagination_token\n",
      "Unexpected parameter: pagination_token\n",
      "Unexpected parameter: pagination_token\n",
      "Unexpected parameter: pagination_token\n",
      "Unexpected parameter: pagination_token\n",
      "Unexpected parameter: pagination_token\n",
      "Unexpected parameter: pagination_token\n",
      "Unexpected parameter: pagination_token\n",
      "Unexpected parameter: pagination_token\n",
      "Unexpected parameter: pagination_token\n",
      "Unexpected parameter: pagination_token\n",
      "Unexpected parameter: pagination_token\n"
     ]
    },
    {
     "name": "stderr",
     "output_type": "stream",
     "text": [
      "Unexpected parameter: pagination_token\n",
      "Unexpected parameter: pagination_token\n",
      "Unexpected parameter: pagination_token\n",
      "Unexpected parameter: pagination_token\n",
      "Unexpected parameter: pagination_token\n",
      "Unexpected parameter: pagination_token\n",
      "Unexpected parameter: pagination_token\n",
      "Unexpected parameter: pagination_token\n",
      "Unexpected parameter: pagination_token\n",
      "Unexpected parameter: pagination_token\n",
      "Unexpected parameter: pagination_token\n",
      "Unexpected parameter: pagination_token\n",
      "Unexpected parameter: pagination_token\n",
      "Unexpected parameter: pagination_token\n",
      "Unexpected parameter: pagination_token\n",
      "Unexpected parameter: pagination_token\n",
      "Unexpected parameter: pagination_token\n",
      "Unexpected parameter: pagination_token\n",
      "Unexpected parameter: pagination_token\n",
      "Unexpected parameter: pagination_token\n",
      "Unexpected parameter: pagination_token\n",
      "Unexpected parameter: pagination_token\n",
      "Unexpected parameter: pagination_token\n",
      "Unexpected parameter: pagination_token\n",
      "Unexpected parameter: pagination_token\n",
      "Unexpected parameter: pagination_token\n",
      "Unexpected parameter: pagination_token\n",
      "Unexpected parameter: pagination_token\n",
      "Unexpected parameter: pagination_token\n",
      "Unexpected parameter: pagination_token\n",
      "Unexpected parameter: pagination_token\n",
      "Unexpected parameter: pagination_token\n",
      "Unexpected parameter: pagination_token\n",
      "Unexpected parameter: pagination_token\n",
      "Unexpected parameter: pagination_token\n",
      "Unexpected parameter: pagination_token\n"
     ]
    }
   ],
   "source": [
    "results = {}\n",
    "for username in leaders_twitter_usernames:\n",
    "    for response in tweepy.Paginator(client.get_users,usernames=[username]):\n",
    "        if (response.data != None):\n",
    "            results[username] = response.data[0].id"
   ]
  },
  {
   "cell_type": "code",
   "execution_count": 47,
   "id": "23c3f773",
   "metadata": {},
   "outputs": [],
   "source": [
    "df_data = {'username': list(results.keys()), 'author_id': list(results.values())}\n",
    "new_leaders_id_df = pd.DataFrame(data=df_data)"
   ]
  },
  {
   "cell_type": "code",
   "execution_count": 79,
   "id": "fc705f85",
   "metadata": {},
   "outputs": [],
   "source": [
    "# save to file\n",
    "new_leaders_id_df.to_csv('./FINALS/leaders_username_userid.csv')"
   ]
  },
  {
   "cell_type": "markdown",
   "id": "a6f59bdb",
   "metadata": {},
   "source": [
    "## Filter leaders tweets out of public"
   ]
  },
  {
   "cell_type": "code",
   "execution_count": 457,
   "id": "dbc3d70d",
   "metadata": {},
   "outputs": [],
   "source": [
    "new_leaders_id_df = pd.read_csv('../FINALS/leaders_username_userid.csv')"
   ]
  },
  {
   "cell_type": "code",
   "execution_count": 91,
   "id": "f7b888ce",
   "metadata": {},
   "outputs": [],
   "source": [
    "# first we get an array of twitter usernames where the user has a media value (is a journalist)\n",
    "media_usernames = df_leaders[df_leaders['media'].notnull()]['twitter_usernames'].unique()\n",
    "\n",
    "# next we filter our leaders_id_df and remove media usernames from there \n",
    "# (we will use politicans only df to remove politican tweets from public tweets)\n",
    "politicians_only = new_leaders_id_df[~new_leaders_id_df.username.isin(media_usernames)]"
   ]
  },
  {
   "cell_type": "code",
   "execution_count": 47,
   "id": "8554135d",
   "metadata": {},
   "outputs": [],
   "source": [
    "# public tweets\n",
    "df_keywords = pd.read_csv('../FINALS/public_all_keywords_data.csv')"
   ]
  },
  {
   "cell_type": "code",
   "execution_count": 100,
   "id": "5ad10977",
   "metadata": {},
   "outputs": [],
   "source": [
    "politicians_only_ids = politicians_only.author_id"
   ]
  },
  {
   "cell_type": "code",
   "execution_count": 101,
   "id": "2b04bacb",
   "metadata": {},
   "outputs": [],
   "source": [
    "# ~df_keywords.authorId.isin the ~ character means that instead of isin, we have is not in\n",
    "public_tweets = df_keywords[~df_keywords.authorId.isin(politicians_only_ids)]"
   ]
  },
  {
   "cell_type": "code",
   "execution_count": 102,
   "id": "2ae58185",
   "metadata": {},
   "outputs": [
    {
     "name": "stdout",
     "output_type": "stream",
     "text": [
      "<class 'pandas.core.frame.DataFrame'>\n",
      "RangeIndex: 48805 entries, 0 to 48804\n",
      "Data columns (total 13 columns):\n",
      " #   Column           Non-Null Count  Dtype \n",
      "---  ------           --------------  ----- \n",
      " 0   index            48805 non-null  int64 \n",
      " 1   tweetId          48805 non-null  int64 \n",
      " 2   authorId         48805 non-null  int64 \n",
      " 3   tweetText        48805 non-null  object\n",
      " 4   lang             48805 non-null  object\n",
      " 5   created_at       48805 non-null  object\n",
      " 6   geo              324 non-null    object\n",
      " 7   isRetweet        48805 non-null  bool  \n",
      " 8   retweetCount     48805 non-null  int64 \n",
      " 9   replyCount       48805 non-null  int64 \n",
      " 10  likeCount        48805 non-null  int64 \n",
      " 11  quoteCount       48805 non-null  int64 \n",
      " 12  impressionCount  48805 non-null  int64 \n",
      "dtypes: bool(1), int64(8), object(4)\n",
      "memory usage: 4.5+ MB\n"
     ]
    }
   ],
   "source": [
    "public_tweets = public_tweets.drop_duplicates()\n",
    "public_tweets = public_tweets.reset_index()\n",
    "public_tweets.info()"
   ]
  },
  {
   "cell_type": "code",
   "execution_count": 106,
   "id": "c4d3172d",
   "metadata": {},
   "outputs": [],
   "source": [
    "# save to file\n",
    "public_tweets.to_csv('../FINALS/public_final.csv', index=False)"
   ]
  },
  {
   "cell_type": "markdown",
   "id": "486633d6",
   "metadata": {},
   "source": [
    "## Preprocess"
   ]
  },
  {
   "cell_type": "code",
   "execution_count": 868,
   "id": "aedda00d",
   "metadata": {},
   "outputs": [],
   "source": [
    "public_final = pd.read_csv('../FINALS/public_final.csv')"
   ]
  },
  {
   "cell_type": "code",
   "execution_count": 870,
   "id": "0214c0dd",
   "metadata": {
    "scrolled": true
   },
   "outputs": [
    {
     "name": "stdout",
     "output_type": "stream",
     "text": [
      "<class 'pandas.core.frame.DataFrame'>\n",
      "RangeIndex: 48805 entries, 0 to 48804\n",
      "Data columns (total 13 columns):\n",
      " #   Column           Non-Null Count  Dtype \n",
      "---  ------           --------------  ----- \n",
      " 0   index            48805 non-null  int64 \n",
      " 1   tweetId          48805 non-null  int64 \n",
      " 2   authorId         48805 non-null  int64 \n",
      " 3   tweetText        48805 non-null  object\n",
      " 4   lang             48805 non-null  object\n",
      " 5   created_at       48805 non-null  object\n",
      " 6   geo              324 non-null    object\n",
      " 7   isRetweet        48805 non-null  bool  \n",
      " 8   retweetCount     48805 non-null  int64 \n",
      " 9   replyCount       48805 non-null  int64 \n",
      " 10  likeCount        48805 non-null  int64 \n",
      " 11  quoteCount       48805 non-null  int64 \n",
      " 12  impressionCount  48805 non-null  int64 \n",
      "dtypes: bool(1), int64(8), object(4)\n",
      "memory usage: 4.5+ MB\n"
     ]
    }
   ],
   "source": [
    "public_final.info()"
   ]
  },
  {
   "cell_type": "code",
   "execution_count": 871,
   "id": "2c1225fb",
   "metadata": {
    "scrolled": true
   },
   "outputs": [
    {
     "data": {
      "text/plain": [
       "False    29326\n",
       "True     19479\n",
       "Name: isRetweet, dtype: int64"
      ]
     },
     "execution_count": 871,
     "metadata": {},
     "output_type": "execute_result"
    }
   ],
   "source": [
    "public_final['isRetweet'].value_counts()"
   ]
  },
  {
   "cell_type": "code",
   "execution_count": 872,
   "id": "1a0104cc",
   "metadata": {},
   "outputs": [
    {
     "data": {
      "text/plain": [
       "et    48805\n",
       "Name: lang, dtype: int64"
      ]
     },
     "execution_count": 872,
     "metadata": {},
     "output_type": "execute_result"
    }
   ],
   "source": [
    "public_final['lang'].value_counts() # lies!"
   ]
  },
  {
   "cell_type": "code",
   "execution_count": 873,
   "id": "7b8dc096",
   "metadata": {},
   "outputs": [],
   "source": [
    "# filter out rows where isRetweet = True\n",
    "public_final = public_final[public_final['isRetweet'] == False]"
   ]
  },
  {
   "cell_type": "code",
   "execution_count": 874,
   "id": "613afa93",
   "metadata": {},
   "outputs": [
    {
     "data": {
      "text/plain": [
       "29326"
      ]
     },
     "execution_count": 874,
     "metadata": {},
     "output_type": "execute_result"
    }
   ],
   "source": [
    "len(public_final)"
   ]
  },
  {
   "cell_type": "code",
   "execution_count": 875,
   "id": "7b1fb3ba",
   "metadata": {},
   "outputs": [],
   "source": [
    "public_final = public_final.reset_index()"
   ]
  },
  {
   "cell_type": "code",
   "execution_count": 876,
   "id": "ca13c90c",
   "metadata": {},
   "outputs": [],
   "source": [
    "# estonian stopwords: https://datadoi.ee/handle/33/78\n",
    "with open('../estonian-stopwords.txt', encoding='utf-8') as f:\n",
    "    stop_words_est = [word for line in f for word in line.split()]"
   ]
  },
  {
   "cell_type": "code",
   "execution_count": 877,
   "id": "8d8be42c",
   "metadata": {},
   "outputs": [],
   "source": [
    "# english words 1\n",
    "eng_words_nltk = set(nltk.corpus.words.words()) "
   ]
  },
  {
   "cell_type": "code",
   "execution_count": 878,
   "id": "78656a5e",
   "metadata": {},
   "outputs": [],
   "source": [
    "# english words 2: \n",
    "# SCOWL, http://wordlist.aspell.net/dicts/ --> https://sourceforge.net/projects/wordlist/files/speller/2020.12.07/\n",
    "with open('en_US-large.dic', encoding='utf-8') as f:\n",
    "    eng_words_scowl = [word for line in f for word in line.split()]\n",
    "    eng_words_scowl = [item.lower() for item in eng_words_scowl]\n",
    "    eng_words_scowl = [item.split('/') for item in eng_words_scowl]\n",
    "    eng_words_scowl = [item[0] for item in eng_words_scowl]"
   ]
  },
  {
   "cell_type": "code",
   "execution_count": 879,
   "id": "39713848",
   "metadata": {},
   "outputs": [],
   "source": [
    "# lemmas for ENG words (to easily remove them)\n",
    "lemmatizer = WordNetLemmatizer()\n",
    "\n",
    "def lemmatize_text(tweet):\n",
    "    empty = []\n",
    "    for word, tag in pos_tag(word_tokenize(tweet)):\n",
    "        word_tag = tag[0].lower()\n",
    "        #print(word, word_tag)\n",
    "        word_tag = word_tag if word_tag in ['a', 'r', 'n', 'v'] else None\n",
    "        if not word_tag:\n",
    "            lemma = word\n",
    "            empty.append(lemma)\n",
    "        else:\n",
    "            lemma = lemmatizer.lemmatize(word, word_tag)\n",
    "            empty.append(lemma)\n",
    "    return ' '.join(empty)"
   ]
  },
  {
   "cell_type": "code",
   "execution_count": 880,
   "id": "9632a07c",
   "metadata": {
    "scrolled": false
   },
   "outputs": [
    {
     "name": "stdout",
     "output_type": "stream",
     "text": [
      "CPU times: total: 15min 32s\n",
      "Wall time: 15min 34s\n"
     ]
    }
   ],
   "source": [
    "%%time\n",
    "\n",
    "# preprocessing function\n",
    "def text_preprocess_est(x):\n",
    "    x = x.lower() # lower casing\n",
    "    x = re.sub(r'[\\r\\n]+', '', x) # remove return and newline characters\n",
    "    x = re.sub(r'.*[\\u0E00-\\u0E7F].*', '', x) #remove thai characters\n",
    "    x = re.sub(r'.*[ëç].*', '', x) # remove albanian, containing character ë\n",
    "    x = re.sub(r'.*\\b(?!sõda)\\w*soda\\w*\\b.*','', x) # remove all text containing 'soda'\n",
    "    x = re.sub('.*[\\u0400-\\u04FF].*', '', x) # remove Cyrillic characters\n",
    "    x = re.sub(r'https*\\S+', ' ', x) # remove urls\n",
    "    x = re.sub(r'@\\S+', ' ', x) # remove mentions\n",
    "    x = re.sub('[0-9]+', '', x) # remove numbers\n",
    "    x = re.sub(r'[^\\w\\s]+', '', x) # remove punctuations\n",
    "    x = re.sub(r'\\s{2,}', ' ', x) # replace the over spaces\n",
    "    x = ' '.join([word for word in x.split(' ') if word not in stop_words_est]) # remove stop words\n",
    "\n",
    "    return x\n",
    "\n",
    "# remove ENG words from posts\n",
    "def remove_eng_words(x):\n",
    "    x = \" \".join(w for w in nltk.wordpunct_tokenize(x) if w not in eng_words_nltk)\n",
    "    x = \" \".join([w for w in x.split(' ') if w not in eng_words_scowl])\n",
    "    x = re.sub(r'\\s*([.,:;!?)])', r'\\1', x) # Remove spaces before punctuation marks\n",
    "    x = re.sub(r'([(])\\s*', r'\\1', x)\n",
    "    return x\n",
    "\n",
    "\n",
    "public_final['clean_text'] = public_final['tweetText'].apply(text_preprocess_est)\n",
    "public_final['clean_text'] = public_final['clean_text'].apply(lemmatize_text)\n",
    "public_final['clean_text'] = public_final['clean_text'].apply(remove_eng_words)\n",
    "\n",
    "\n",
    "#sub['clean_text'] = sub['tweetText'].apply(text_preprocess_est)\n",
    "#sub['clean_text'] = sub['clean_text'].apply(lemmatize_text)\n",
    "#sub['clean_text'] = sub['clean_text'].apply(remove_eng_words)"
   ]
  },
  {
   "cell_type": "code",
   "execution_count": 881,
   "id": "850aebe0",
   "metadata": {},
   "outputs": [
    {
     "data": {
      "text/plain": [
       "'Vene agressioon on reaalne oht meie riigile ja me peame olema valmis selleks, et kaitsta oma riiki, meie inimesi ja meie vabadusi. https://t.co/SbgwJn0bDE'"
      ]
     },
     "execution_count": 881,
     "metadata": {},
     "output_type": "execute_result"
    }
   ],
   "source": [
    "public_final['tweetText'].loc[7]"
   ]
  },
  {
   "cell_type": "code",
   "execution_count": 882,
   "id": "08534532",
   "metadata": {},
   "outputs": [
    {
     "data": {
      "text/plain": [
       "'vene agressioon reaalne oht riigile valmis kaitsta riiki inimesi vabadusi'"
      ]
     },
     "execution_count": 882,
     "metadata": {},
     "output_type": "execute_result"
    }
   ],
   "source": [
    "public_final['clean_text'].loc[7]"
   ]
  },
  {
   "cell_type": "code",
   "execution_count": 885,
   "id": "8d35a68a",
   "metadata": {},
   "outputs": [],
   "source": [
    "public_final = public_final[public_final['clean_text'] != '']"
   ]
  },
  {
   "cell_type": "code",
   "execution_count": 886,
   "id": "af868662",
   "metadata": {},
   "outputs": [
    {
     "data": {
      "text/plain": [
       "19207"
      ]
     },
     "execution_count": 886,
     "metadata": {},
     "output_type": "execute_result"
    }
   ],
   "source": [
    "len(public_final)"
   ]
  },
  {
   "cell_type": "code",
   "execution_count": 887,
   "id": "ca7f7cb0",
   "metadata": {},
   "outputs": [
    {
     "name": "stderr",
     "output_type": "stream",
     "text": [
      "<timed exec>:6: SettingWithCopyWarning: \n",
      "A value is trying to be set on a copy of a slice from a DataFrame.\n",
      "Try using .loc[row_indexer,col_indexer] = value instead\n",
      "\n",
      "See the caveats in the documentation: https://pandas.pydata.org/pandas-docs/stable/user_guide/indexing.html#returning-a-view-versus-a-copy\n"
     ]
    },
    {
     "name": "stdout",
     "output_type": "stream",
     "text": [
      "CPU times: total: 2min 8s\n",
      "Wall time: 2min 12s\n"
     ]
    },
    {
     "name": "stderr",
     "output_type": "stream",
     "text": [
      "<timed exec>:9: SettingWithCopyWarning: \n",
      "A value is trying to be set on a copy of a slice from a DataFrame.\n",
      "Try using .loc[row_indexer,col_indexer] = value instead\n",
      "\n",
      "See the caveats in the documentation: https://pandas.pydata.org/pandas-docs/stable/user_guide/indexing.html#returning-a-view-versus-a-copy\n"
     ]
    }
   ],
   "source": [
    "%%time\n",
    "\n",
    "# lemmatization EST\n",
    "def getLemmaSentence(sentence):\n",
    "    return ' '.join(map(lambda lemma_word: lemma_word[0], sentence.tag_layer().lemma))\n",
    "\n",
    "# create estnltk's text object \n",
    "public_final['estnltk_text'] = public_final['clean_text'].apply(Text)\n",
    "\n",
    "# add lemma sentences to df\n",
    "public_final['lemma_text'] = public_final['estnltk_text'].apply(getLemmaSentence)"
   ]
  },
  {
   "cell_type": "code",
   "execution_count": 888,
   "id": "47b14e20",
   "metadata": {
    "scrolled": true
   },
   "outputs": [
    {
     "data": {
      "text/plain": [
       "'vene agressioon reaalne oht riik valmis kaitsma riik inimene vabadus'"
      ]
     },
     "execution_count": 888,
     "metadata": {},
     "output_type": "execute_result"
    }
   ],
   "source": [
    "public_final['lemma_text'].loc[7]"
   ]
  },
  {
   "cell_type": "markdown",
   "id": "d680527e",
   "metadata": {},
   "source": [
    "## BERT preprocess"
   ]
  },
  {
   "cell_type": "code",
   "execution_count": 890,
   "id": "5ea2e730",
   "metadata": {
    "scrolled": false
   },
   "outputs": [
    {
     "name": "stderr",
     "output_type": "stream",
     "text": [
      "<timed exec>:15: SettingWithCopyWarning: \n",
      "A value is trying to be set on a copy of a slice from a DataFrame.\n",
      "Try using .loc[row_indexer,col_indexer] = value instead\n",
      "\n",
      "See the caveats in the documentation: https://pandas.pydata.org/pandas-docs/stable/user_guide/indexing.html#returning-a-view-versus-a-copy\n"
     ]
    },
    {
     "name": "stdout",
     "output_type": "stream",
     "text": [
      "CPU times: total: 24min 19s\n",
      "Wall time: 24min 20s\n"
     ]
    },
    {
     "name": "stderr",
     "output_type": "stream",
     "text": [
      "<timed exec>:16: SettingWithCopyWarning: \n",
      "A value is trying to be set on a copy of a slice from a DataFrame.\n",
      "Try using .loc[row_indexer,col_indexer] = value instead\n",
      "\n",
      "See the caveats in the documentation: https://pandas.pydata.org/pandas-docs/stable/user_guide/indexing.html#returning-a-view-versus-a-copy\n"
     ]
    }
   ],
   "source": [
    "%%time\n",
    "\n",
    "# preprocessing function\n",
    "# preprocessing function\n",
    "def text_preprocess_bert(x):\n",
    "    x = re.sub(r'[\\r\\n]+', '', x) # remove return and newline characters\n",
    "    x = re.sub(r'.*[\\u0E00-\\u0E7F].*', '', x) #remove thai characters\n",
    "    x = re.sub(r'.*[ëç].*', '', x) # remove albanian, containing character ë,ç\n",
    "    x = re.sub(r'.*\\b(?!sõda)\\w*soda\\w*\\b.*','', x) # remove all text containing 'soda'\n",
    "    x = re.sub('.*[\\u0400-\\u04FF].*', '', x) # remove Cyrillic characters\n",
    "    x = re.sub(r'https*\\S+', ' ', x) # remove urls\n",
    "    x = re.sub(r'@\\S+', ' ', x) # remove mentions\n",
    "    x = re.sub(r'\\s{2,}', ' ', x) # replace the over spaces\n",
    "    \n",
    "    return x\n",
    "\n",
    "public_final['bert_text'] = public_final['tweetText'].apply(text_preprocess_bert)\n",
    "public_final['bert_text'] = public_final['bert_text'].apply(remove_eng_words)\n",
    "\n",
    "#sub['bert_text'] = sub['tweetText'].apply(text_preprocess_bert)"
   ]
  },
  {
   "cell_type": "code",
   "execution_count": 891,
   "id": "0d23d9eb",
   "metadata": {},
   "outputs": [],
   "source": [
    "# save file\n",
    "public_final.to_excel('public_bert_not_final.xlsx', index = False)"
   ]
  },
  {
   "cell_type": "code",
   "execution_count": 957,
   "id": "011bba0c",
   "metadata": {},
   "outputs": [],
   "source": [
    "public_final = pd.read_excel('public_bert_not_final.xlsx')"
   ]
  },
  {
   "cell_type": "code",
   "execution_count": 958,
   "id": "5d4faedf",
   "metadata": {},
   "outputs": [
    {
     "data": {
      "text/plain": [
       "19207"
      ]
     },
     "execution_count": 958,
     "metadata": {},
     "output_type": "execute_result"
    }
   ],
   "source": [
    "len(public_final)"
   ]
  },
  {
   "cell_type": "code",
   "execution_count": 959,
   "id": "f8427d64",
   "metadata": {},
   "outputs": [],
   "source": [
    "public_final = public_final[~public_final['bert_text'].str.contains('aplikasi')]\n",
    "public_final = public_final[~public_final['bert_text'].str.contains('fiktio')]"
   ]
  },
  {
   "cell_type": "code",
   "execution_count": 960,
   "id": "90a1a804",
   "metadata": {},
   "outputs": [
    {
     "data": {
      "text/plain": [
       "19173"
      ]
     },
     "execution_count": 960,
     "metadata": {},
     "output_type": "execute_result"
    }
   ],
   "source": [
    "len(public_final)"
   ]
  },
  {
   "cell_type": "code",
   "execution_count": 961,
   "id": "b3d99017",
   "metadata": {},
   "outputs": [],
   "source": [
    "public_final = public_final[~public_final['bert_text'].str.contains('Cherson')]"
   ]
  },
  {
   "cell_type": "code",
   "execution_count": 962,
   "id": "9b161d66",
   "metadata": {},
   "outputs": [
    {
     "data": {
      "text/plain": [
       "19167"
      ]
     },
     "execution_count": 962,
     "metadata": {},
     "output_type": "execute_result"
    }
   ],
   "source": [
    "len(public_final)"
   ]
  },
  {
   "cell_type": "code",
   "execution_count": 963,
   "id": "d3059274",
   "metadata": {},
   "outputs": [],
   "source": [
    "public_final = public_final[~public_final['bert_text'].str.contains('Quo vadis')]"
   ]
  },
  {
   "cell_type": "code",
   "execution_count": 964,
   "id": "588f6f05",
   "metadata": {},
   "outputs": [
    {
     "data": {
      "text/plain": [
       "19158"
      ]
     },
     "execution_count": 964,
     "metadata": {},
     "output_type": "execute_result"
    }
   ],
   "source": [
    "len(public_final)"
   ]
  },
  {
   "cell_type": "code",
   "execution_count": 965,
   "id": "f3c40234",
   "metadata": {},
   "outputs": [],
   "source": [
    "public_final = public_final[~public_final['bert_text'].str.contains('Norberg')]"
   ]
  },
  {
   "cell_type": "code",
   "execution_count": 966,
   "id": "20eb661f",
   "metadata": {},
   "outputs": [
    {
     "data": {
      "text/plain": [
       "19152"
      ]
     },
     "execution_count": 966,
     "metadata": {},
     "output_type": "execute_result"
    }
   ],
   "source": [
    "len(public_final)"
   ]
  },
  {
   "cell_type": "code",
   "execution_count": 967,
   "id": "eb63fad0",
   "metadata": {
    "scrolled": true
   },
   "outputs": [],
   "source": [
    "public_final = public_final[~public_final['bert_text'].str.contains('krimea')] # 2\n",
    "public_final = public_final[~public_final['bert_text'].str.contains('türk')] # 17\n",
    "public_final = public_final[~public_final['bert_text'].str.contains('Crimea')] # 3\n",
    "public_final = public_final[~public_final['bert_text'].str.contains('Tse ')] # 2\n",
    "public_final = public_final[~public_final['bert_text'].str.contains(' är ')] # 24\n",
    "public_final = public_final[~public_final['bert_text'].str.contains('krim ')] # 4"
   ]
  },
  {
   "cell_type": "code",
   "execution_count": 968,
   "id": "9bd46d24",
   "metadata": {
    "scrolled": true
   },
   "outputs": [
    {
     "data": {
      "text/plain": [
       "19098"
      ]
     },
     "execution_count": 968,
     "metadata": {},
     "output_type": "execute_result"
    }
   ],
   "source": [
    "len(public_final)"
   ]
  },
  {
   "cell_type": "code",
   "execution_count": 969,
   "id": "fce681c6",
   "metadata": {},
   "outputs": [],
   "source": [
    "public_final = public_final[~public_final['bert_text'].str.contains('Slavamuie')] #7\n",
    "public_final = public_final[~public_final['bert_text'].str.contains(' näin ')] # 4\n",
    "public_final = public_final[~public_final['clean_text'].str.contains('polen')] # 4\n",
    "public_final = public_final[~public_final['clean_text'].str.contains(' ke u')] # 25\n",
    "public_final = public_final[~public_final['bert_text'].str.contains('qe ')] # 90\n",
    "public_final = public_final[~public_final['bert_text'].str.contains('miksi')] # 2\n",
    "public_final = public_final[~public_final['bert_text'].str.contains(' bej')] # 3\n",
    "public_final = public_final[~public_final['bert_text'].str.contains('dajjal')] # 1\n",
    "public_final = public_final[~public_final['bert_text'].str.contains('dhe')] # 101\n",
    "public_final = public_final[~public_final['bert_text'].str.contains('tilannekatsaus')] # 18\n",
    "public_final = public_final[~public_final['clean_text'].str.contains('vittorio')] # 7\n",
    "public_final = public_final[~public_final['clean_text'].str.contains('sieg')] # 7\n",
    "public_final = public_final[~public_final['clean_text'].str.contains('fratelli')] # 6\n",
    "public_final = public_final[~public_final['clean_text'].str.contains('matteo')] # 5\n",
    "public_final = public_final[~public_final['clean_text'].str.contains('igapäevuussona')] # 12\n",
    "public_final = public_final[~public_final['clean_text'].str.contains('riihisoft')] # 2\n",
    "public_final = public_final[~public_final['clean_text'].str.contains('cirkus')] # 4\n",
    "public_final = public_final[~public_final['clean_text'].str.contains('irgc')] # 172"
   ]
  },
  {
   "cell_type": "code",
   "execution_count": 970,
   "id": "f5287e52",
   "metadata": {
    "scrolled": false
   },
   "outputs": [
    {
     "data": {
      "text/plain": [
       "18433"
      ]
     },
     "execution_count": 970,
     "metadata": {},
     "output_type": "execute_result"
    }
   ],
   "source": [
    "len(public_final)"
   ]
  },
  {
   "cell_type": "code",
   "execution_count": 971,
   "id": "1734b372",
   "metadata": {},
   "outputs": [],
   "source": [
    "public_final = public_final[~public_final['clean_text'].str.contains('natoon')] # 18\n",
    "public_final = public_final[~public_final['clean_text'].str.contains(' nuk ')] # 13\n",
    "public_final = public_final[~public_final['clean_text'].str.contains('natossa')] # 6\n",
    "public_final = public_final[~public_final['clean_text'].str.contains('kosoven')] # 3\n",
    "public_final = public_final[~public_final['clean_text'].str.contains('ismagilov')] # 17\n",
    "public_final = public_final[~public_final['clean_text'].str.contains('mufti')] #1\n",
    "public_final = public_final[~public_final['clean_text'].str.contains('pesan')]\n",
    "public_final = public_final[~public_final['clean_text'].str.contains(' filmiki ')] # 15\n",
    "public_final = public_final[~public_final['clean_text'].str.contains(' rosja ')] # 1\n",
    "public_final = public_final[~public_final['clean_text'].str.contains(' fanart ')] # 1\n",
    "public_final = public_final[~public_final['clean_text'].str.contains('street')] # 6\n",
    "public_final = public_final[~public_final['clean_text'].str.contains(' versi ')] # 7\n",
    "public_final = public_final[~public_final['clean_text'].str.contains('tni ')] # 6\n",
    "public_final = public_final[~public_final['clean_text'].str.contains('verry')]  # 4\n",
    "public_final = public_final[~public_final['clean_text'].str.contains('gabanelli')]  # 4\n",
    "public_final = public_final[~public_final['clean_text'].str.contains('näin ')]  # 16"
   ]
  },
  {
   "cell_type": "code",
   "execution_count": 972,
   "id": "c243e78f",
   "metadata": {},
   "outputs": [
    {
     "data": {
      "text/plain": [
       "18309"
      ]
     },
     "execution_count": 972,
     "metadata": {},
     "output_type": "execute_result"
    }
   ],
   "source": [
    "len(public_final)"
   ]
  },
  {
   "cell_type": "code",
   "execution_count": 973,
   "id": "c9431571",
   "metadata": {},
   "outputs": [],
   "source": [
    "public_final = public_final[~public_final['clean_text'].str.contains('jadi')] # 7\n",
    "public_final = public_final[~public_final['clean_text'].str.contains(' vann ')] # 8\n",
    "public_final = public_final[~public_final['clean_text'].str.contains('sõjalaul')] # 6"
   ]
  },
  {
   "cell_type": "code",
   "execution_count": 974,
   "id": "f3fa3632",
   "metadata": {},
   "outputs": [
    {
     "data": {
      "text/plain": [
       "18288"
      ]
     },
     "execution_count": 974,
     "metadata": {},
     "output_type": "execute_result"
    }
   ],
   "source": [
    "len(public_final)"
   ]
  },
  {
   "cell_type": "code",
   "execution_count": 975,
   "id": "5b2e17b5",
   "metadata": {},
   "outputs": [
    {
     "data": {
      "text/plain": [
       "17208"
      ]
     },
     "execution_count": 975,
     "metadata": {},
     "output_type": "execute_result"
    }
   ],
   "source": [
    "public_final = public_final.drop_duplicates(subset = 'clean_text')\n",
    "len(public_final)"
   ]
  },
  {
   "cell_type": "code",
   "execution_count": 976,
   "id": "44aeb725",
   "metadata": {},
   "outputs": [],
   "source": [
    "public_final = public_final[~public_final['clean_text'].str.contains('veinide')] # 4"
   ]
  },
  {
   "cell_type": "code",
   "execution_count": 977,
   "id": "6fe552ff",
   "metadata": {},
   "outputs": [
    {
     "data": {
      "text/plain": [
       "17204"
      ]
     },
     "execution_count": 977,
     "metadata": {},
     "output_type": "execute_result"
    }
   ],
   "source": [
    "len(public_final)"
   ]
  },
  {
   "cell_type": "code",
   "execution_count": 978,
   "id": "850cfa14",
   "metadata": {},
   "outputs": [],
   "source": [
    "public_final = public_final[~public_final['clean_text'].str.contains(' merr ')] # 3"
   ]
  },
  {
   "cell_type": "code",
   "execution_count": 979,
   "id": "d0b55728",
   "metadata": {},
   "outputs": [
    {
     "data": {
      "text/plain": [
       "17201"
      ]
     },
     "execution_count": 979,
     "metadata": {},
     "output_type": "execute_result"
    }
   ],
   "source": [
    "len(public_final)"
   ]
  },
  {
   "cell_type": "code",
   "execution_count": 983,
   "id": "c3830d4d",
   "metadata": {},
   "outputs": [],
   "source": [
    "tweets_delete = pd.read_excel('filter_out.xlsx')\n",
    "tweets_delete = tweets_delete[tweets_delete['bert_topic_id'] == 'tags']\n",
    "tweets_delete = tweets_delete['index'].unique()"
   ]
  },
  {
   "cell_type": "code",
   "execution_count": 986,
   "id": "9f11c862",
   "metadata": {},
   "outputs": [],
   "source": [
    "public_final = public_final[~public_final['index'].isin(tweets_delete)]"
   ]
  },
  {
   "cell_type": "code",
   "execution_count": 987,
   "id": "a8486f74",
   "metadata": {},
   "outputs": [
    {
     "data": {
      "text/plain": [
       "16927"
      ]
     },
     "execution_count": 987,
     "metadata": {},
     "output_type": "execute_result"
    }
   ],
   "source": [
    "len(public_final) "
   ]
  },
  {
   "cell_type": "code",
   "execution_count": 588,
   "id": "226e5dd6",
   "metadata": {},
   "outputs": [],
   "source": [
    "#from datetime import datetime, timezone\n",
    "#public_final['created_at'] = public_final['created_at'].dt.tz_localize(None)"
   ]
  },
  {
   "cell_type": "code",
   "execution_count": 988,
   "id": "9e0e3284",
   "metadata": {},
   "outputs": [],
   "source": [
    "# save file\n",
    "public_final.to_excel('public_bert.xlsx', index = False)"
   ]
  },
  {
   "cell_type": "markdown",
   "id": "5912858a",
   "metadata": {},
   "source": [
    "## Describe df"
   ]
  },
  {
   "cell_type": "code",
   "execution_count": 590,
   "id": "e1741894",
   "metadata": {},
   "outputs": [
    {
     "data": {
      "text/plain": [
       "created_at\n",
       "January       196\n",
       "February     1977\n",
       "March        3839\n",
       "April        2066\n",
       "May          1715\n",
       "June          847\n",
       "July          781\n",
       "August       1027\n",
       "September    1174\n",
       "October      1304\n",
       "November      938\n",
       "December     1248\n",
       "January      1651\n",
       "dtype: int64"
      ]
     },
     "execution_count": 590,
     "metadata": {},
     "output_type": "execute_result"
    }
   ],
   "source": [
    "# get nr of posts per month\n",
    "\n",
    "public_final['created_at'] = public_final['created_at'].apply(pd.to_datetime) \n",
    "\n",
    "placeholder = public_final[['created_at']]\n",
    "placeholder = placeholder.groupby(pd.Grouper(key='created_at', freq='1M')).size() # groupby each 1 month\n",
    "placeholder.index = placeholder.index.strftime('%B')\n",
    "placeholder"
   ]
  }
 ],
 "metadata": {
  "kernelspec": {
   "display_name": "Python 3 (ipykernel)",
   "language": "python",
   "name": "python3"
  },
  "language_info": {
   "codemirror_mode": {
    "name": "ipython",
    "version": 3
   },
   "file_extension": ".py",
   "mimetype": "text/x-python",
   "name": "python",
   "nbconvert_exporter": "python",
   "pygments_lexer": "ipython3",
   "version": "3.8.8"
  }
 },
 "nbformat": 4,
 "nbformat_minor": 5
}
