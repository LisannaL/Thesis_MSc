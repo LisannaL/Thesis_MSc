{
 "cells": [
  {
   "cell_type": "code",
   "execution_count": 2,
   "id": "fd051433",
   "metadata": {},
   "outputs": [],
   "source": [
    "import pandas as pd\n",
    "import numpy as np\n",
    "#import re\n",
    "import regex as re \n",
    "import matplotlib.pyplot as plt\n",
    "import seaborn as sns\n",
    "\n",
    "import nltk\n",
    "from nltk.stem import WordNetLemmatizer\n",
    "from nltk import pos_tag, word_tokenize\n",
    "from estnltk import Text\n",
    "\n",
    "import time"
   ]
  },
  {
   "cell_type": "code",
   "execution_count": 356,
   "id": "06b0054f",
   "metadata": {},
   "outputs": [],
   "source": [
    "#!pip install bertopic\n",
    "#!pip install joblib\n",
    "#nltk.download('omw-1.4')"
   ]
  },
  {
   "cell_type": "code",
   "execution_count": 4,
   "id": "ea2805b0",
   "metadata": {
    "scrolled": true
   },
   "outputs": [
    {
     "data": {
      "text/html": [
       "<div>\n",
       "<style scoped>\n",
       "    .dataframe tbody tr th:only-of-type {\n",
       "        vertical-align: middle;\n",
       "    }\n",
       "\n",
       "    .dataframe tbody tr th {\n",
       "        vertical-align: top;\n",
       "    }\n",
       "\n",
       "    .dataframe thead th {\n",
       "        text-align: right;\n",
       "    }\n",
       "</style>\n",
       "<table border=\"1\" class=\"dataframe\">\n",
       "  <thead>\n",
       "    <tr style=\"text-align: right;\">\n",
       "      <th></th>\n",
       "      <th>nimi</th>\n",
       "      <th>erakond</th>\n",
       "      <th>kuupäev</th>\n",
       "      <th>postitus</th>\n",
       "    </tr>\n",
       "  </thead>\n",
       "  <tbody>\n",
       "    <tr>\n",
       "      <th>0</th>\n",
       "      <td>E200</td>\n",
       "      <td>E200</td>\n",
       "      <td>2023-03-28 19:11:46</td>\n",
       "      <td>Täna andsime pressikonverentsi, milles teatasime läbirääkimiste hetkeseisust.👀\\nEesti 200 toetab jätkuvalt abieluvõrdsust, kuid põhjalik arutelu seisab tõepoolest veel ees. Oleme saanud ette ka pildi, milline on riigi rahaline seis. Lauri Hussari sõnul on olukord seotud varasemate valitsuste kulutustega. \"Aastatel 2018 kuni 2021 on riigi rahandusele lähenetud pehmelt öeldes loominguliselt. See on suuresti tinginud selle, et eelarvemiinus on märkimisväärne ja peame leidma lahendusi, kuidas eelarvemiinust kärpida,\" ütles ta.</td>\n",
       "    </tr>\n",
       "    <tr>\n",
       "      <th>1</th>\n",
       "      <td>E200</td>\n",
       "      <td>E200</td>\n",
       "      <td>2023-03-27 17:05:40</td>\n",
       "      <td>Palju õnne sünnipäevaks, president Karis!🎈\\nTäna käisime ja soovisime õnne härra presidendile. Vastselt Riigikogusse valitud Eesti 200 esindajad Kadri Tali ja Toomas Uibo ning erakonna tegevjuht Kadri Napritson-Acuña kinkisid Alar Karisele meie poolt omapärase kingituse. Anna kommentaarides teada, mis see olla võis. Võitjate vahel loosime välja vihmavarju. ☂️</td>\n",
       "    </tr>\n",
       "    <tr>\n",
       "      <th>2</th>\n",
       "      <td>E200</td>\n",
       "      <td>E200</td>\n",
       "      <td>2023-03-25 08:51:45</td>\n",
       "      <td>Meeleolukas lugemine laupäeva... 👋🏼</td>\n",
       "    </tr>\n",
       "    <tr>\n",
       "      <th>3</th>\n",
       "      <td>E200</td>\n",
       "      <td>E200</td>\n",
       "      <td>2023-03-24 14:41:20</td>\n",
       "      <td>Võtame erakondade rahastuse luubi alla!💰\\n💶Tugevdame erakondade järelevalvet, et rahastusmudel oleks läbipaistvam.\\n💶Suurendame liikmemaksude osakaalu.\\n💶Illegaalse annetuse puhul tagastatakse annetus riigikassasse, mitte sellele, kes annetuse tegi - kui annetad illegaalselt, siis ei saa raha tagasi!</td>\n",
       "    </tr>\n",
       "    <tr>\n",
       "      <th>4</th>\n",
       "      <td>E200</td>\n",
       "      <td>E200</td>\n",
       "      <td>2023-03-24 10:31:31</td>\n",
       "      <td>Kui praegu kehtib koolikohustus 17-aastaseks või põhikooli lõpudiplomi saamiseni, siis loodav koalitsioon kavatseb seda tõsta 18-aastaseks saamiseni või kuni kutse omandamiseni. Kas toetame seda plaani? Milliseid meetmeid tuleks õpilaste koolidest väljalangemise vähendamiseks veel kaaluda?🤔\\nVastab Liisa Pakosta:\\n\"Vähemalt 2400 alaealist noort ei õpi ega tööta. Sellel on suuresti kaks põhjust: pole erivajadusi arvestavat õppekohta või on noore püüdlused pere või senise kooli poolt juba maha tambitud. Mõlema murekoha vastu aitab õppimiskohustuse pikendamine täisealiseks saamiseni või kui keegi jõuab kutse omandamiseni enne seda, siis selleni.\\nÕppimiskohustus tähendab seda, et enne põhikooli lõpetamist vaadatakse koos noorega tema edasine tee läbi - kas ta jätkab gümnaasiumis, kutsekoolis või saab vajaliku väljaõppe näiteks töökohal. Kõik see eeldab nii senisest paindlikumaid õppimisvõimalusi kui ka erivajadustega noorte edasiõppimise täiesti loomulikuks pidamist.\\nÕppimiskohustus peab kaasa tooma ka põhikoolijärgse hariduse omandamise kulude vähenemise. Madalast enesehinnangust ja pere toetuse puudumisest tulenev lootusetusetunne väheneb õppimiskohustuse sisseviimisel samuti - kui põhikooli järel on ühel või teisel moel edasi õppimine lapseealistele kohustuslik, siis ei saa pere ega senine kool enam öelda, et sa niikuinii ei saa millegagi hakkama. Muutus, mida tahame, on iga noore väärtustamine ja igale noorele võimaluste andmine.\"</td>\n",
       "    </tr>\n",
       "  </tbody>\n",
       "</table>\n",
       "</div>"
      ],
      "text/plain": [
       "   nimi erakond             kuupäev  \\\n",
       "0  E200    E200 2023-03-28 19:11:46   \n",
       "1  E200    E200 2023-03-27 17:05:40   \n",
       "2  E200    E200 2023-03-25 08:51:45   \n",
       "3  E200    E200 2023-03-24 14:41:20   \n",
       "4  E200    E200 2023-03-24 10:31:31   \n",
       "\n",
       "                                                                                                                                                                                                                                                                                                                                                                                                                                                                                                                                                                                                                                                                                                                                                                                                                                                                                                                                                                                                                                                                                                                                                                                                                                                                                                                                                                                                                                                                                                           postitus  \n",
       "0                                                                                                                                                                                                                                                                                                                                                                                                                                                                                                                                                                                                                                                                                                                                                                                                                                                                                                                                                                  Täna andsime pressikonverentsi, milles teatasime läbirääkimiste hetkeseisust.👀\\nEesti 200 toetab jätkuvalt abieluvõrdsust, kuid põhjalik arutelu seisab tõepoolest veel ees. Oleme saanud ette ka pildi, milline on riigi rahaline seis. Lauri Hussari sõnul on olukord seotud varasemate valitsuste kulutustega. \"Aastatel 2018 kuni 2021 on riigi rahandusele lähenetud pehmelt öeldes loominguliselt. See on suuresti tinginud selle, et eelarvemiinus on märkimisväärne ja peame leidma lahendusi, kuidas eelarvemiinust kärpida,\" ütles ta.  \n",
       "1                                                                                                                                                                                                                                                                                                                                                                                                                                                                                                                                                                                                                                                                                                                                                                                                                                                                                                                                                                                                                                                                                                                                         Palju õnne sünnipäevaks, president Karis!🎈\\nTäna käisime ja soovisime õnne härra presidendile. Vastselt Riigikogusse valitud Eesti 200 esindajad Kadri Tali ja Toomas Uibo ning erakonna tegevjuht Kadri Napritson-Acuña kinkisid Alar Karisele meie poolt omapärase kingituse. Anna kommentaarides teada, mis see olla võis. Võitjate vahel loosime välja vihmavarju. ☂️  \n",
       "2                                                                                                                                                                                                                                                                                                                                                                                                                                                                                                                                                                                                                                                                                                                                                                                                                                                                                                                                                                                                                                                                                                                                                                                                                                                                                                                                                                                                                                                                               Meeleolukas lugemine laupäeva... 👋🏼  \n",
       "3                                                                                                                                                                                                                                                                                                                                                                                                                                                                                                                                                                                                                                                                                                                                                                                                                                                                                                                                                                                                                                                                                                                                                                                                     Võtame erakondade rahastuse luubi alla!💰\\n💶Tugevdame erakondade järelevalvet, et rahastusmudel oleks läbipaistvam.\\n💶Suurendame liikmemaksude osakaalu.\\n💶Illegaalse annetuse puhul tagastatakse annetus riigikassasse, mitte sellele, kes annetuse tegi - kui annetad illegaalselt, siis ei saa raha tagasi!  \n",
       "4  Kui praegu kehtib koolikohustus 17-aastaseks või põhikooli lõpudiplomi saamiseni, siis loodav koalitsioon kavatseb seda tõsta 18-aastaseks saamiseni või kuni kutse omandamiseni. Kas toetame seda plaani? Milliseid meetmeid tuleks õpilaste koolidest väljalangemise vähendamiseks veel kaaluda?🤔\\nVastab Liisa Pakosta:\\n\"Vähemalt 2400 alaealist noort ei õpi ega tööta. Sellel on suuresti kaks põhjust: pole erivajadusi arvestavat õppekohta või on noore püüdlused pere või senise kooli poolt juba maha tambitud. Mõlema murekoha vastu aitab õppimiskohustuse pikendamine täisealiseks saamiseni või kui keegi jõuab kutse omandamiseni enne seda, siis selleni.\\nÕppimiskohustus tähendab seda, et enne põhikooli lõpetamist vaadatakse koos noorega tema edasine tee läbi - kas ta jätkab gümnaasiumis, kutsekoolis või saab vajaliku väljaõppe näiteks töökohal. Kõik see eeldab nii senisest paindlikumaid õppimisvõimalusi kui ka erivajadustega noorte edasiõppimise täiesti loomulikuks pidamist.\\nÕppimiskohustus peab kaasa tooma ka põhikoolijärgse hariduse omandamise kulude vähenemise. Madalast enesehinnangust ja pere toetuse puudumisest tulenev lootusetusetunne väheneb õppimiskohustuse sisseviimisel samuti - kui põhikooli järel on ühel või teisel moel edasi õppimine lapseealistele kohustuslik, siis ei saa pere ega senine kool enam öelda, et sa niikuinii ei saa millegagi hakkama. Muutus, mida tahame, on iga noore väärtustamine ja igale noorele võimaluste andmine.\"  "
      ]
     },
     "execution_count": 4,
     "metadata": {},
     "output_type": "execute_result"
    }
   ],
   "source": [
    "df = pd.read_excel('../fb_data_clean/fb_df_2.xlsx')\n",
    "df.head()"
   ]
  },
  {
   "cell_type": "code",
   "execution_count": 358,
   "id": "6e13a1da",
   "metadata": {},
   "outputs": [
    {
     "name": "stdout",
     "output_type": "stream",
     "text": [
      "<class 'pandas.core.frame.DataFrame'>\n",
      "RangeIndex: 14829 entries, 0 to 14828\n",
      "Data columns (total 4 columns):\n",
      " #   Column    Non-Null Count  Dtype         \n",
      "---  ------    --------------  -----         \n",
      " 0   nimi      14829 non-null  object        \n",
      " 1   erakond   14829 non-null  object        \n",
      " 2   kuupäev   14829 non-null  datetime64[ns]\n",
      " 3   postitus  14829 non-null  object        \n",
      "dtypes: datetime64[ns](1), object(3)\n",
      "memory usage: 463.5+ KB\n"
     ]
    }
   ],
   "source": [
    "df.info()"
   ]
  },
  {
   "cell_type": "code",
   "execution_count": 13,
   "id": "1b050868",
   "metadata": {},
   "outputs": [
    {
     "data": {
      "image/png": "[encoded data removed]",
      "text/plain": [
       "<Figure size 640x480 with 1 Axes>"
      ]
     },
     "metadata": {},
     "output_type": "display_data"
    }
   ],
   "source": [
    "party_palette = ['#ffdd00', '#e10600', '#007557', '#009ae2', '#2061a6', '#2f2a95']\n",
    "ax = sns.countplot(x=df[\"erakond\"], order = df['erakond'].value_counts().index, \n",
    "                   palette=party_palette)\n",
    "#ax.set(title='Posts per party, before pre-processing')\n",
    "plt.xlabel('Political party')\n",
    "plt.ylabel('Count')\n",
    "ax.bar_label(ax.containers[0])\n",
    "\n",
    "plt.savefig('parties_before_preprocessing')\n",
    "\n",
    "plt.show()"
   ]
  },
  {
   "cell_type": "markdown",
   "id": "6885026c",
   "metadata": {},
   "source": [
    "# Preprocess"
   ]
  },
  {
   "cell_type": "code",
   "execution_count": 360,
   "id": "10782448",
   "metadata": {},
   "outputs": [
    {
     "name": "stdout",
     "output_type": "stream",
     "text": [
      "<class 'pandas.core.frame.DataFrame'>\n",
      "Int64Index: 14401 entries, 0 to 14828\n",
      "Data columns (total 4 columns):\n",
      " #   Column    Non-Null Count  Dtype         \n",
      "---  ------    --------------  -----         \n",
      " 0   nimi      14401 non-null  object        \n",
      " 1   erakond   14401 non-null  object        \n",
      " 2   kuupäev   14401 non-null  datetime64[ns]\n",
      " 3   postitus  14401 non-null  object        \n",
      "dtypes: datetime64[ns](1), object(3)\n",
      "memory usage: 562.5+ KB\n"
     ]
    }
   ],
   "source": [
    "df_preprocess = df.copy()\n",
    "\n",
    "df_preprocess = df_preprocess[df_preprocess['postitus'] != False]\n",
    "df_preprocess = df_preprocess[df_preprocess['postitus'].notna()]\n",
    "\n",
    "df_preprocess.info()"
   ]
  },
  {
   "cell_type": "code",
   "execution_count": 361,
   "id": "da3dece5",
   "metadata": {},
   "outputs": [],
   "source": [
    "# estonian stopwords: https://datadoi.ee/handle/33/78\n",
    "with open('../estonian-stopwords.txt', encoding='utf-8') as f:\n",
    "    stop_words_est = [word for line in f for word in line.split()]"
   ]
  },
  {
   "cell_type": "code",
   "execution_count": 362,
   "id": "cd7efa60",
   "metadata": {},
   "outputs": [],
   "source": [
    "# english words 1\n",
    "eng_words_nltk = set(nltk.corpus.words.words()) "
   ]
  },
  {
   "cell_type": "code",
   "execution_count": 363,
   "id": "697cf005",
   "metadata": {},
   "outputs": [],
   "source": [
    "# english words 2: \n",
    "# SCOWL, http://wordlist.aspell.net/dicts/ --> https://sourceforge.net/projects/wordlist/files/speller/2020.12.07/\n",
    "with open('en_US-large.dic', encoding='utf-8') as f:\n",
    "    eng_words_scowl = [word for line in f for word in line.split()]\n",
    "    eng_words_scowl = [item.lower() for item in eng_words_scowl]\n",
    "    eng_words_scowl = [item.split('/') for item in eng_words_scowl]\n",
    "    eng_words_scowl = [item[0] for item in eng_words_scowl]"
   ]
  },
  {
   "cell_type": "code",
   "execution_count": 364,
   "id": "58d32b56",
   "metadata": {},
   "outputs": [
    {
     "name": "stdout",
     "output_type": "stream",
     "text": [
      "is there\n"
     ]
    }
   ],
   "source": [
    "# check if word in word list \n",
    "if any(\"ukrainian\" in word for word in eng_words_scowl):\n",
    "    print('is there')\n",
    "else:\n",
    "    print(' is not')"
   ]
  },
  {
   "cell_type": "code",
   "execution_count": 365,
   "id": "7f984670",
   "metadata": {},
   "outputs": [],
   "source": [
    "# lemmas for ENG words (to easily remove them)\n",
    "lemmatizer = WordNetLemmatizer()\n",
    "\n",
    "def lemmatize_text(tweet):\n",
    "    empty = []\n",
    "    for word, tag in pos_tag(word_tokenize(tweet)):\n",
    "        word_tag = tag[0].lower()\n",
    "        #print(word, word_tag)\n",
    "        word_tag = word_tag if word_tag in ['a', 'r', 'n', 'v'] else None\n",
    "        if not word_tag:\n",
    "            lemma = word\n",
    "            empty.append(lemma)\n",
    "        else:\n",
    "            lemma = lemmatizer.lemmatize(word, word_tag)\n",
    "            empty.append(lemma)\n",
    "    return ' '.join(empty)"
   ]
  },
  {
   "cell_type": "code",
   "execution_count": null,
   "id": "44cf9f3c",
   "metadata": {},
   "outputs": [],
   "source": [
    "%%time\n",
    "\n",
    "# preprocessing function\n",
    "def text_preprocess_est(x):\n",
    "    x = re.sub(r'https*\\S+', ' ', x) # remove urls\n",
    "    x = x.replace(\"EST/RUS\", \"\") # remove 'EST/RUS'\n",
    "    x = x.lower() # lower casing\n",
    "    x = re.sub('[0-9]+', '', x) # remove numbers\n",
    "    x = re.sub(r'\\p{Cyrillic}','', x) # remove text in russian/ukrainian\n",
    "    x = re.sub(r'[^\\w\\s]', '', x) # remove punctuations\n",
    "    x = re.sub(r'\\s{2,}', ' ', x) # replace the over spaces\n",
    "    x = ' '.join([word for word in x.split(' ') if word not in stop_words_est]) # remove stop words\n",
    "\n",
    "    return x\n",
    "\n",
    "# remove ENG words from posts\n",
    "def remove_eng_words(x):\n",
    "    x = \" \".join(w for w in nltk.wordpunct_tokenize(x) if w not in eng_words_nltk)\n",
    "    x = \" \".join([w for w in x.split(' ') if w not in eng_words_scowl])\n",
    "    x = re.sub(r'\\s*([.,:;!?)])', r'\\1', x) # Remove spaces before punctuation marks\n",
    "    x = re.sub(r'([(])\\s*', r'\\1', x)\n",
    "    return x\n",
    "\n",
    "\n",
    "\n",
    "df_preprocess['clean_text'] = df_preprocess['postitus'].apply(text_preprocess_est)\n",
    "df_preprocess['clean_text'] = df_preprocess['clean_text'].apply(lemmatize_text)\n",
    "df_preprocess['clean_text'] = df_preprocess['clean_text'].apply(remove_eng_words)\n",
    "df_preprocess"
   ]
  },
  {
   "cell_type": "code",
   "execution_count": 367,
   "id": "eb60bc13",
   "metadata": {},
   "outputs": [
    {
     "data": {
      "text/plain": [
       "'Nädala algul arutati koalitsioonikõnelustel tervishoiu, transpordi ja energeetika küsimusi. Ühe suurema asjana otsustati, et vaadatakse üle ühistranspordisüsteem. Esimees Lauri Hussar oli Terevisioonis ja rääkis asjast.👇🏼'"
      ]
     },
     "execution_count": 367,
     "metadata": {},
     "output_type": "execute_result"
    }
   ],
   "source": [
    "df_preprocess['postitus'].loc[5]"
   ]
  },
  {
   "cell_type": "code",
   "execution_count": 368,
   "id": "9a3b9a51",
   "metadata": {},
   "outputs": [
    {
     "data": {
      "text/plain": [
       "'nädala arutati koalitsioonikõnelustel tervishoiu transpordi energeetika küsimusi suurema asjana otsustati vaadatakse ühistranspordisüsteem esimees terevisioonis rääkis asjast'"
      ]
     },
     "execution_count": 368,
     "metadata": {},
     "output_type": "execute_result"
    }
   ],
   "source": [
    "df_preprocess['clean_text'].loc[5]"
   ]
  },
  {
   "cell_type": "code",
   "execution_count": 369,
   "id": "6858aaa9",
   "metadata": {},
   "outputs": [
    {
     "name": "stdout",
     "output_type": "stream",
     "text": [
      "CPU times: total: 5min 25s\n",
      "Wall time: 5min 26s\n"
     ]
    }
   ],
   "source": [
    "%%time\n",
    "\n",
    "# lemmatization EST\n",
    "def getLemmaSentence(sentence):\n",
    "    return ' '.join(map(lambda lemma_word: lemma_word[0], sentence.tag_layer().lemma))\n",
    "\n",
    "# create estnltk's text object \n",
    "df_preprocess['estnltk_text'] = df_preprocess['clean_text'].apply(Text)\n",
    "\n",
    "# add lemma sentences to df\n",
    "df_preprocess['lemma_text'] = df_preprocess['estnltk_text'].apply(getLemmaSentence)"
   ]
  },
  {
   "cell_type": "code",
   "execution_count": 370,
   "id": "55b4a2f1",
   "metadata": {},
   "outputs": [
    {
     "data": {
      "text/plain": [
       "'nädal arutama koalitsioonikõnelus tervishoid transport energeetika küsimus suurem asi otsustama vaatama ühistranspordisüsteem esimees terevisioon rääkima asi'"
      ]
     },
     "execution_count": 370,
     "metadata": {},
     "output_type": "execute_result"
    }
   ],
   "source": [
    "df_preprocess.iloc[5]['lemma_text']"
   ]
  },
  {
   "cell_type": "code",
   "execution_count": null,
   "id": "34e348a5",
   "metadata": {},
   "outputs": [],
   "source": [
    "ax = sns.countplot(x = df_preprocess[\"erakond\"], order = df_preprocess['erakond'].value_counts().index)\n",
    "ax.set(title='posts per party, after pre-processing')\n",
    "ax.bar_label(ax.containers[0])\n",
    "plt.show()"
   ]
  },
  {
   "cell_type": "code",
   "execution_count": 372,
   "id": "703c4480",
   "metadata": {},
   "outputs": [],
   "source": [
    "# filter df based on keywords --> get posts related to the UKR war\n",
    "\n",
    "keywords = ['ukraina', 'ukrainlane', 'põgenik', 'sõjapõgenik', 'pagulane', 'migrant',\n",
    "            'sõda', 'konflikt', 'lääs', 'lääneriigid', 'nato', 'agressioon', 'agressor',\n",
    "            'venemaa', 'venelane', 'putin', 'erioperatsioon',\n",
    "            'sanktsioon', 'sõjakuritegu']\n",
    "\n",
    "pattern = '|'.join(keywords)\n",
    "\n",
    "df_filtered = df_preprocess[df_preprocess['lemma_text'].str.contains(pattern)]"
   ]
  },
  {
   "cell_type": "code",
   "execution_count": 373,
   "id": "e0c235b7",
   "metadata": {},
   "outputs": [
    {
     "data": {
      "text/plain": [
       "REF       995\n",
       "ISAMAA    769\n",
       "EKRE      539\n",
       "SDE       465\n",
       "KESK      262\n",
       "E200      230\n",
       "Name: erakond, dtype: int64"
      ]
     },
     "execution_count": 373,
     "metadata": {},
     "output_type": "execute_result"
    }
   ],
   "source": [
    "df_filtered.erakond.value_counts()"
   ]
  },
  {
   "cell_type": "code",
   "execution_count": null,
   "id": "e65ac91e",
   "metadata": {},
   "outputs": [],
   "source": [
    "# filter by date, get posts starting from 01.2022\n",
    "        \n",
    "value_to_check = pd.Timestamp('2022-01-01 00:00:00')\n",
    "filter_mask = df_filtered['kuupäev'] >= value_to_check\n",
    "\n",
    "df_filtered2 = df_filtered[filter_mask]\n",
    "df_filtered2"
   ]
  },
  {
   "cell_type": "code",
   "execution_count": 17,
   "id": "1d2d8a8c",
   "metadata": {},
   "outputs": [],
   "source": [
    "df_filtered2 = pd.read_excel('leaders_preprocessed_filtered.xlsx')"
   ]
  },
  {
   "cell_type": "code",
   "execution_count": 24,
   "id": "2b9fa686",
   "metadata": {},
   "outputs": [],
   "source": [
    "# the\n",
    "# df_filtered2[df_filtered2['postitus'].str.contains('the')]"
   ]
  },
  {
   "cell_type": "markdown",
   "id": "527033ed",
   "metadata": {},
   "source": [
    "## Describe df"
   ]
  },
  {
   "cell_type": "code",
   "execution_count": 65,
   "id": "23a85646",
   "metadata": {
    "scrolled": true
   },
   "outputs": [
    {
     "data": {
      "text/plain": [
       "kuupäev\n",
       "January       78\n",
       "February     255\n",
       "March        483\n",
       "April        364\n",
       "May          271\n",
       "June         163\n",
       "July          92\n",
       "August       171\n",
       "September    226\n",
       "October      235\n",
       "November     198\n",
       "December     159\n",
       "January      193\n",
       "February     225\n",
       "March        102\n",
       "April          8\n",
       "dtype: int64"
      ]
     },
     "execution_count": 65,
     "metadata": {},
     "output_type": "execute_result"
    }
   ],
   "source": [
    "# get nr of posts per month\n",
    "\n",
    "df_filtered2['kuupäev'] = df_filtered2['kuupäev'].apply(pd.to_datetime) \n",
    "\n",
    "placeholder = df_filtered2[['kuupäev']]\n",
    "placeholder = placeholder.groupby(pd.Grouper(key='kuupäev', freq='1M')).size() # groupby each 1 month\n",
    "placeholder.index = placeholder.index.strftime('%B')\n",
    "placeholder"
   ]
  },
  {
   "cell_type": "code",
   "execution_count": 21,
   "id": "87bd6a29",
   "metadata": {},
   "outputs": [
    {
     "data": {
      "image/png": "[encoded data removed]",
      "text/plain": [
       "<Figure size 640x480 with 1 Axes>"
      ]
     },
     "metadata": {},
     "output_type": "display_data"
    }
   ],
   "source": [
    "ax = sns.countplot(x = df_filtered2[\"erakond\"], order = df_filtered2['erakond'].value_counts().index,\n",
    "                  palette = [party_palette[0], party_palette[3], party_palette[4], party_palette[1],\n",
    "                            party_palette[2], party_palette[5]])\n",
    "#ax.set(title='Posts per party, before pre-processing')\n",
    "plt.xlabel('Political party')\n",
    "plt.ylabel('Count')\n",
    "ax.bar_label(ax.containers[0])\n",
    "\n",
    "plt.savefig('parties_after_preprocessing')\n",
    "\n",
    "plt.show()"
   ]
  },
  {
   "cell_type": "code",
   "execution_count": 377,
   "id": "d8b8f85a",
   "metadata": {
    "scrolled": true
   },
   "outputs": [
    {
     "data": {
      "text/html": [
       "<div>\n",
       "<style scoped>\n",
       "    .dataframe tbody tr th:only-of-type {\n",
       "        vertical-align: middle;\n",
       "    }\n",
       "\n",
       "    .dataframe tbody tr th {\n",
       "        vertical-align: top;\n",
       "    }\n",
       "\n",
       "    .dataframe thead th {\n",
       "        text-align: right;\n",
       "    }\n",
       "</style>\n",
       "<table border=\"1\" class=\"dataframe\">\n",
       "  <thead>\n",
       "    <tr style=\"text-align: right;\">\n",
       "      <th></th>\n",
       "      <th>unique posters per party</th>\n",
       "      <th>posts count per party</th>\n",
       "    </tr>\n",
       "    <tr>\n",
       "      <th>erakond</th>\n",
       "      <th></th>\n",
       "      <th></th>\n",
       "    </tr>\n",
       "  </thead>\n",
       "  <tbody>\n",
       "    <tr>\n",
       "      <th>REF</th>\n",
       "      <td>10</td>\n",
       "      <td>987</td>\n",
       "    </tr>\n",
       "    <tr>\n",
       "      <th>ISAMAA</th>\n",
       "      <td>10</td>\n",
       "      <td>762</td>\n",
       "    </tr>\n",
       "    <tr>\n",
       "      <th>EKRE</th>\n",
       "      <td>9</td>\n",
       "      <td>529</td>\n",
       "    </tr>\n",
       "    <tr>\n",
       "      <th>SDE</th>\n",
       "      <td>10</td>\n",
       "      <td>456</td>\n",
       "    </tr>\n",
       "    <tr>\n",
       "      <th>KESK</th>\n",
       "      <td>9</td>\n",
       "      <td>262</td>\n",
       "    </tr>\n",
       "    <tr>\n",
       "      <th>E200</th>\n",
       "      <td>9</td>\n",
       "      <td>227</td>\n",
       "    </tr>\n",
       "  </tbody>\n",
       "</table>\n",
       "</div>"
      ],
      "text/plain": [
       "         unique posters per party  posts count per party\n",
       "erakond                                                 \n",
       "REF                            10                    987\n",
       "ISAMAA                         10                    762\n",
       "EKRE                            9                    529\n",
       "SDE                            10                    456\n",
       "KESK                            9                    262\n",
       "E200                            9                    227"
      ]
     },
     "execution_count": 377,
     "metadata": {},
     "output_type": "execute_result"
    }
   ],
   "source": [
    "posters_df.to_frame().join(post_count_df).rename(columns = {'nimi': 'unique posters per party', 'erakond':'posts count per party'}).sort_values('posts count per party', ascending = False)"
   ]
  },
  {
   "cell_type": "code",
   "execution_count": null,
   "id": "cf7bb9d2",
   "metadata": {},
   "outputs": [],
   "source": [
    "# Calculate total number of posts for each group\n",
    "group_person_counts = df_filtered2.groupby(['erakond', 'nimi']).size().reset_index(name='counts')\n",
    "\n",
    "group_totals = group_person_counts.groupby('erakond')['counts'].sum().reset_index()\n",
    "group_totals.columns = ['erakond', 'Total Posts per party']\n",
    "\n",
    "group_person_counts = pd.merge(group_person_counts, group_totals, on='erakond')\n",
    "group_person_counts['Percentage'] = round(group_person_counts['counts'] / group_person_counts['Total Posts per party'], 3) * 100\n",
    "\n",
    "\n",
    "group_person_counts = group_person_counts.sort_values(['erakond', 'Percentage'], ascending=[True, False])\n",
    "group_person_counts"
   ]
  },
  {
   "cell_type": "code",
   "execution_count": 38,
   "id": "bde95371",
   "metadata": {
    "scrolled": true
   },
   "outputs": [
    {
     "data": {
      "text/html": [
       "<div>\n",
       "<style scoped>\n",
       "    .dataframe tbody tr th:only-of-type {\n",
       "        vertical-align: middle;\n",
       "    }\n",
       "\n",
       "    .dataframe tbody tr th {\n",
       "        vertical-align: top;\n",
       "    }\n",
       "\n",
       "    .dataframe thead th {\n",
       "        text-align: right;\n",
       "    }\n",
       "</style>\n",
       "<table border=\"1\" class=\"dataframe\">\n",
       "  <thead>\n",
       "    <tr style=\"text-align: right;\">\n",
       "      <th></th>\n",
       "      <th>erakond</th>\n",
       "      <th>counts</th>\n",
       "      <th>new_name</th>\n",
       "    </tr>\n",
       "  </thead>\n",
       "  <tbody>\n",
       "    <tr>\n",
       "      <th>0</th>\n",
       "      <td>E200</td>\n",
       "      <td>93</td>\n",
       "      <td>E200</td>\n",
       "    </tr>\n",
       "    <tr>\n",
       "      <th>4</th>\n",
       "      <td>E200</td>\n",
       "      <td>49</td>\n",
       "      <td>politician2</td>\n",
       "    </tr>\n",
       "    <tr>\n",
       "      <th>5</th>\n",
       "      <td>E200</td>\n",
       "      <td>33</td>\n",
       "      <td>politician3</td>\n",
       "    </tr>\n",
       "    <tr>\n",
       "      <th>8</th>\n",
       "      <td>E200</td>\n",
       "      <td>33</td>\n",
       "      <td>politician4</td>\n",
       "    </tr>\n",
       "    <tr>\n",
       "      <th>7</th>\n",
       "      <td>E200</td>\n",
       "      <td>6</td>\n",
       "      <td>politician5</td>\n",
       "    </tr>\n",
       "    <tr>\n",
       "      <th>2</th>\n",
       "      <td>E200</td>\n",
       "      <td>5</td>\n",
       "      <td>politician6</td>\n",
       "    </tr>\n",
       "    <tr>\n",
       "      <th>3</th>\n",
       "      <td>E200</td>\n",
       "      <td>3</td>\n",
       "      <td>politician7</td>\n",
       "    </tr>\n",
       "    <tr>\n",
       "      <th>6</th>\n",
       "      <td>E200</td>\n",
       "      <td>3</td>\n",
       "      <td>politician8</td>\n",
       "    </tr>\n",
       "    <tr>\n",
       "      <th>1</th>\n",
       "      <td>E200</td>\n",
       "      <td>2</td>\n",
       "      <td>politician9</td>\n",
       "    </tr>\n",
       "    <tr>\n",
       "      <th>13</th>\n",
       "      <td>EKRE</td>\n",
       "      <td>120</td>\n",
       "      <td>politician1</td>\n",
       "    </tr>\n",
       "    <tr>\n",
       "      <th>15</th>\n",
       "      <td>EKRE</td>\n",
       "      <td>111</td>\n",
       "      <td>politician2</td>\n",
       "    </tr>\n",
       "    <tr>\n",
       "      <th>9</th>\n",
       "      <td>EKRE</td>\n",
       "      <td>104</td>\n",
       "      <td>Ekre</td>\n",
       "    </tr>\n",
       "    <tr>\n",
       "      <th>10</th>\n",
       "      <td>EKRE</td>\n",
       "      <td>57</td>\n",
       "      <td>politician4</td>\n",
       "    </tr>\n",
       "    <tr>\n",
       "      <th>17</th>\n",
       "      <td>EKRE</td>\n",
       "      <td>46</td>\n",
       "      <td>politician5</td>\n",
       "    </tr>\n",
       "    <tr>\n",
       "      <th>16</th>\n",
       "      <td>EKRE</td>\n",
       "      <td>41</td>\n",
       "      <td>politician6</td>\n",
       "    </tr>\n",
       "    <tr>\n",
       "      <th>12</th>\n",
       "      <td>EKRE</td>\n",
       "      <td>36</td>\n",
       "      <td>politician7</td>\n",
       "    </tr>\n",
       "    <tr>\n",
       "      <th>11</th>\n",
       "      <td>EKRE</td>\n",
       "      <td>7</td>\n",
       "      <td>politician8</td>\n",
       "    </tr>\n",
       "    <tr>\n",
       "      <th>14</th>\n",
       "      <td>EKRE</td>\n",
       "      <td>7</td>\n",
       "      <td>politician9</td>\n",
       "    </tr>\n",
       "    <tr>\n",
       "      <th>18</th>\n",
       "      <td>ISAMAA</td>\n",
       "      <td>202</td>\n",
       "      <td>Isamaa</td>\n",
       "    </tr>\n",
       "    <tr>\n",
       "      <th>27</th>\n",
       "      <td>ISAMAA</td>\n",
       "      <td>195</td>\n",
       "      <td>politician2</td>\n",
       "    </tr>\n",
       "    <tr>\n",
       "      <th>21</th>\n",
       "      <td>ISAMAA</td>\n",
       "      <td>101</td>\n",
       "      <td>politician3</td>\n",
       "    </tr>\n",
       "    <tr>\n",
       "      <th>25</th>\n",
       "      <td>ISAMAA</td>\n",
       "      <td>90</td>\n",
       "      <td>politician4</td>\n",
       "    </tr>\n",
       "    <tr>\n",
       "      <th>26</th>\n",
       "      <td>ISAMAA</td>\n",
       "      <td>78</td>\n",
       "      <td>politician5</td>\n",
       "    </tr>\n",
       "    <tr>\n",
       "      <th>23</th>\n",
       "      <td>ISAMAA</td>\n",
       "      <td>44</td>\n",
       "      <td>politician6</td>\n",
       "    </tr>\n",
       "    <tr>\n",
       "      <th>20</th>\n",
       "      <td>ISAMAA</td>\n",
       "      <td>27</td>\n",
       "      <td>politician7</td>\n",
       "    </tr>\n",
       "    <tr>\n",
       "      <th>24</th>\n",
       "      <td>ISAMAA</td>\n",
       "      <td>15</td>\n",
       "      <td>politician8</td>\n",
       "    </tr>\n",
       "    <tr>\n",
       "      <th>22</th>\n",
       "      <td>ISAMAA</td>\n",
       "      <td>7</td>\n",
       "      <td>politician9</td>\n",
       "    </tr>\n",
       "    <tr>\n",
       "      <th>19</th>\n",
       "      <td>ISAMAA</td>\n",
       "      <td>3</td>\n",
       "      <td>politician10</td>\n",
       "    </tr>\n",
       "    <tr>\n",
       "      <th>35</th>\n",
       "      <td>KESK</td>\n",
       "      <td>67</td>\n",
       "      <td>politician1</td>\n",
       "    </tr>\n",
       "    <tr>\n",
       "      <th>30</th>\n",
       "      <td>KESK</td>\n",
       "      <td>55</td>\n",
       "      <td>Keskerakond</td>\n",
       "    </tr>\n",
       "    <tr>\n",
       "      <th>31</th>\n",
       "      <td>KESK</td>\n",
       "      <td>55</td>\n",
       "      <td>politician3</td>\n",
       "    </tr>\n",
       "    <tr>\n",
       "      <th>36</th>\n",
       "      <td>KESK</td>\n",
       "      <td>33</td>\n",
       "      <td>politician4</td>\n",
       "    </tr>\n",
       "    <tr>\n",
       "      <th>34</th>\n",
       "      <td>KESK</td>\n",
       "      <td>14</td>\n",
       "      <td>politician5</td>\n",
       "    </tr>\n",
       "    <tr>\n",
       "      <th>28</th>\n",
       "      <td>KESK</td>\n",
       "      <td>12</td>\n",
       "      <td>politician6</td>\n",
       "    </tr>\n",
       "    <tr>\n",
       "      <th>32</th>\n",
       "      <td>KESK</td>\n",
       "      <td>12</td>\n",
       "      <td>politician7</td>\n",
       "    </tr>\n",
       "    <tr>\n",
       "      <th>29</th>\n",
       "      <td>KESK</td>\n",
       "      <td>9</td>\n",
       "      <td>politician8</td>\n",
       "    </tr>\n",
       "    <tr>\n",
       "      <th>33</th>\n",
       "      <td>KESK</td>\n",
       "      <td>5</td>\n",
       "      <td>politician9</td>\n",
       "    </tr>\n",
       "    <tr>\n",
       "      <th>46</th>\n",
       "      <td>REF</td>\n",
       "      <td>276</td>\n",
       "      <td>politician1</td>\n",
       "    </tr>\n",
       "    <tr>\n",
       "      <th>41</th>\n",
       "      <td>REF</td>\n",
       "      <td>267</td>\n",
       "      <td>Reformierakond</td>\n",
       "    </tr>\n",
       "    <tr>\n",
       "      <th>38</th>\n",
       "      <td>REF</td>\n",
       "      <td>195</td>\n",
       "      <td>politician3</td>\n",
       "    </tr>\n",
       "    <tr>\n",
       "      <th>39</th>\n",
       "      <td>REF</td>\n",
       "      <td>90</td>\n",
       "      <td>politician4</td>\n",
       "    </tr>\n",
       "    <tr>\n",
       "      <th>37</th>\n",
       "      <td>REF</td>\n",
       "      <td>53</td>\n",
       "      <td>politician5</td>\n",
       "    </tr>\n",
       "    <tr>\n",
       "      <th>42</th>\n",
       "      <td>REF</td>\n",
       "      <td>37</td>\n",
       "      <td>politician6</td>\n",
       "    </tr>\n",
       "    <tr>\n",
       "      <th>40</th>\n",
       "      <td>REF</td>\n",
       "      <td>31</td>\n",
       "      <td>politician7</td>\n",
       "    </tr>\n",
       "    <tr>\n",
       "      <th>43</th>\n",
       "      <td>REF</td>\n",
       "      <td>19</td>\n",
       "      <td>politician8</td>\n",
       "    </tr>\n",
       "    <tr>\n",
       "      <th>44</th>\n",
       "      <td>REF</td>\n",
       "      <td>16</td>\n",
       "      <td>politician9</td>\n",
       "    </tr>\n",
       "    <tr>\n",
       "      <th>45</th>\n",
       "      <td>REF</td>\n",
       "      <td>3</td>\n",
       "      <td>politician10</td>\n",
       "    </tr>\n",
       "    <tr>\n",
       "      <th>56</th>\n",
       "      <td>SDE</td>\n",
       "      <td>128</td>\n",
       "      <td>Sotsid</td>\n",
       "    </tr>\n",
       "    <tr>\n",
       "      <th>51</th>\n",
       "      <td>SDE</td>\n",
       "      <td>108</td>\n",
       "      <td>politician2</td>\n",
       "    </tr>\n",
       "    <tr>\n",
       "      <th>49</th>\n",
       "      <td>SDE</td>\n",
       "      <td>87</td>\n",
       "      <td>politician3</td>\n",
       "    </tr>\n",
       "    <tr>\n",
       "      <th>47</th>\n",
       "      <td>SDE</td>\n",
       "      <td>45</td>\n",
       "      <td>politician4</td>\n",
       "    </tr>\n",
       "    <tr>\n",
       "      <th>53</th>\n",
       "      <td>SDE</td>\n",
       "      <td>29</td>\n",
       "      <td>politician5</td>\n",
       "    </tr>\n",
       "    <tr>\n",
       "      <th>55</th>\n",
       "      <td>SDE</td>\n",
       "      <td>23</td>\n",
       "      <td>politician6</td>\n",
       "    </tr>\n",
       "    <tr>\n",
       "      <th>54</th>\n",
       "      <td>SDE</td>\n",
       "      <td>12</td>\n",
       "      <td>politician7</td>\n",
       "    </tr>\n",
       "    <tr>\n",
       "      <th>48</th>\n",
       "      <td>SDE</td>\n",
       "      <td>11</td>\n",
       "      <td>politician8</td>\n",
       "    </tr>\n",
       "    <tr>\n",
       "      <th>50</th>\n",
       "      <td>SDE</td>\n",
       "      <td>8</td>\n",
       "      <td>politician9</td>\n",
       "    </tr>\n",
       "    <tr>\n",
       "      <th>52</th>\n",
       "      <td>SDE</td>\n",
       "      <td>5</td>\n",
       "      <td>politician10</td>\n",
       "    </tr>\n",
       "  </tbody>\n",
       "</table>\n",
       "</div>"
      ],
      "text/plain": [
       "   erakond  counts        new_name\n",
       "0     E200      93            E200\n",
       "4     E200      49     politician2\n",
       "5     E200      33     politician3\n",
       "8     E200      33     politician4\n",
       "7     E200       6     politician5\n",
       "2     E200       5     politician6\n",
       "3     E200       3     politician7\n",
       "6     E200       3     politician8\n",
       "1     E200       2     politician9\n",
       "13    EKRE     120     politician1\n",
       "15    EKRE     111     politician2\n",
       "9     EKRE     104            Ekre\n",
       "10    EKRE      57     politician4\n",
       "17    EKRE      46     politician5\n",
       "16    EKRE      41     politician6\n",
       "12    EKRE      36     politician7\n",
       "11    EKRE       7     politician8\n",
       "14    EKRE       7     politician9\n",
       "18  ISAMAA     202          Isamaa\n",
       "27  ISAMAA     195     politician2\n",
       "21  ISAMAA     101     politician3\n",
       "25  ISAMAA      90     politician4\n",
       "26  ISAMAA      78     politician5\n",
       "23  ISAMAA      44     politician6\n",
       "20  ISAMAA      27     politician7\n",
       "24  ISAMAA      15     politician8\n",
       "22  ISAMAA       7     politician9\n",
       "19  ISAMAA       3    politician10\n",
       "35    KESK      67     politician1\n",
       "30    KESK      55     Keskerakond\n",
       "31    KESK      55     politician3\n",
       "36    KESK      33     politician4\n",
       "34    KESK      14     politician5\n",
       "28    KESK      12     politician6\n",
       "32    KESK      12     politician7\n",
       "29    KESK       9     politician8\n",
       "33    KESK       5     politician9\n",
       "46     REF     276     politician1\n",
       "41     REF     267  Reformierakond\n",
       "38     REF     195     politician3\n",
       "39     REF      90     politician4\n",
       "37     REF      53     politician5\n",
       "42     REF      37     politician6\n",
       "40     REF      31     politician7\n",
       "43     REF      19     politician8\n",
       "44     REF      16     politician9\n",
       "45     REF       3    politician10\n",
       "56     SDE     128          Sotsid\n",
       "51     SDE     108     politician2\n",
       "49     SDE      87     politician3\n",
       "47     SDE      45     politician4\n",
       "53     SDE      29     politician5\n",
       "55     SDE      23     politician6\n",
       "54     SDE      12     politician7\n",
       "48     SDE      11     politician8\n",
       "50     SDE       8     politician9\n",
       "52     SDE       5    politician10"
      ]
     },
     "execution_count": 38,
     "metadata": {},
     "output_type": "execute_result"
    }
   ],
   "source": [
    "parties = [ 'E200', 'Ekre', 'Isamaa', 'Keskerakond', 'Reformierakond', 'Sotsid']\n",
    "\n",
    "# add new column with the modified names\n",
    "group_person_counts['new_name'] = group_person_counts.apply(lambda x: x['nimi'] if x['nimi'] in parties else f\"politician{group_person_counts[group_person_counts['erakond'] == x['erakond']]['nimi'].tolist().index(x['nimi']) + 1}\", axis=1)\n",
    "\n",
    "# remove name column\n",
    "group_person_counts = group_person_counts[['erakond', 'counts', 'new_name']]\n",
    "\n",
    "group_person_counts"
   ]
  },
  {
   "cell_type": "code",
   "execution_count": 114,
   "id": "b6909aef",
   "metadata": {},
   "outputs": [
    {
     "data": {
      "image/png": "[encoded data removed]",
      "text/plain": [
       "<Figure size 640x480 with 1 Axes>"
      ]
     },
     "metadata": {},
     "output_type": "display_data"
    }
   ],
   "source": [
    "palette = ['#cccccc' for i in range(43)]\n",
    "hist = sns.histplot(group_person_counts, x=\"erakond\", hue=\"counts\", weights='counts', palette=palette,\n",
    "                    stat=\"percent\", \n",
    "                    discrete=True,\n",
    "                    multiple='fill', \n",
    "                    shrink=0.65, \n",
    "                    legend=False,\n",
    "                   color='black')\n",
    "\n",
    "\n",
    "#sns.move_legend(hist, \"upper left\", bbox_to_anchor=(1, 1))\n",
    "\n",
    "plt.xticks(rotation=50)\n",
    "plt.xlabel(\"Political Party\")\n",
    "\n",
    "labelMap = {\n",
    "    10: 'E200',\n",
    "    8: 'EKRE',\n",
    "    2: 'ISAMAA',\n",
    "    16: 'KESK',\n",
    "    1: 'REF',\n",
    "    4: 'SDE'\n",
    "}\n",
    "\n",
    "i = 0\n",
    "\n",
    "\n",
    "for box in hist.containers:\n",
    "    labels = [v.get_height() if v.get_height() > 0.15 else '' for v in box]\n",
    "    if (i in labelMap):\n",
    "        labels = [labelMap[i] if label != '' else '' for label in labels]\n",
    "    labels = ['' if isinstance(label, float) else label for label in labels]\n",
    "    \n",
    "    hist.bar_label(box, labels=labels, label_type='center')\n",
    "    i += 1\n",
    "    \n",
    "\n",
    "\n",
    "#plt.ylabel(\"Count\")\n",
    "\n",
    "plt.savefig('posts_dist_per_politician')\n",
    "plt.show()\n",
    "\n",
    "# https://seaborn.pydata.org/generated/seaborn.histplot.html"
   ]
  },
  {
   "cell_type": "code",
   "execution_count": 379,
   "id": "a5f260e1",
   "metadata": {},
   "outputs": [],
   "source": [
    "# save preprocessd+filtered file\n",
    "df_filtered2.to_excel('leaders_preprocessed_filtered.xlsx', index = False)"
   ]
  },
  {
   "cell_type": "markdown",
   "id": "738540b1",
   "metadata": {},
   "source": [
    "## BERT preprocess"
   ]
  },
  {
   "cell_type": "code",
   "execution_count": 380,
   "id": "573d36b4",
   "metadata": {
    "scrolled": false
   },
   "outputs": [
    {
     "name": "stderr",
     "output_type": "stream",
     "text": [
      "<timed exec>:31: SettingWithCopyWarning: \n",
      "A value is trying to be set on a copy of a slice from a DataFrame.\n",
      "Try using .loc[row_indexer,col_indexer] = value instead\n",
      "\n",
      "See the caveats in the documentation: https://pandas.pydata.org/pandas-docs/stable/user_guide/indexing.html#returning-a-view-versus-a-copy\n"
     ]
    },
    {
     "name": "stdout",
     "output_type": "stream",
     "text": [
      "CPU times: total: 19min 38s\n",
      "Wall time: 19min 47s\n"
     ]
    },
    {
     "name": "stderr",
     "output_type": "stream",
     "text": [
      "<timed exec>:32: SettingWithCopyWarning: \n",
      "A value is trying to be set on a copy of a slice from a DataFrame.\n",
      "Try using .loc[row_indexer,col_indexer] = value instead\n",
      "\n",
      "See the caveats in the documentation: https://pandas.pydata.org/pandas-docs/stable/user_guide/indexing.html#returning-a-view-versus-a-copy\n"
     ]
    }
   ],
   "source": [
    "%%time\n",
    "\n",
    "# remove emojis regex patterns\n",
    "# https://gist.github.com/asl0007/9682f9f0795913b7d04522504e4f1093\n",
    "\n",
    "emoji_pattern = re.compile(\"[\"\n",
    "         u\"\\U0001F600-\\U0001F64F\"  # emoticons\n",
    "         u\"\\U0001F300-\\U0001F5FF\"  # symbols & pictographs\n",
    "         u\"\\U0001F680-\\U0001F6FF\"  # transport & map symbols\n",
    "         u\"\\U0001F1E0-\\U0001F1FF\"  # flags (iOS)\n",
    "         u\"\\U00002702-\\U000027B0\"\n",
    "         u\"\\U000024C2-\\U0001F251\"\n",
    "         \"]+\", flags=re.UNICODE)\n",
    "\n",
    "pattern = r\"\\s+(?=[\\U0001F300-\\U0001F64F])\"\n",
    "pattern2 = re.compile(\"[\\U0001F600-\\U0001F64F\\u263A-\\u27FF]+\\s+\")\n",
    "\n",
    "# preprocessing function\n",
    "def text_preprocess_bert(x):\n",
    "    x = x.lower() # lower casing\n",
    "    x = pattern2.sub(lambda m: m.group().replace(\" \", \"\"), x) # remove spaces after emojis\n",
    "    x = re.sub(pattern, \"\", x) # remove spaces before emojis\n",
    "    x = emoji_pattern.sub(r'', x) # remove emojis\n",
    "    x = re.sub(r'https*\\S+', '', x) # remove urls\n",
    "    x = x.replace(\"EST/RUS\", \"\") # remove 'EST/RUS'\n",
    "    x = re.sub(r'\\p{Cyrillic}','', x) # remove text in russian/ukrainian\n",
    "    x = re.sub(r'\\n+', '', x) # remove \\n\n",
    "    x = re.sub(r'\\s*([.,:;!?()])', r'\\1', x) # Remove spaces before punctuation marks\n",
    "\n",
    "\n",
    "    return x\n",
    "\n",
    "df_filtered2['bert_text'] = df_filtered2['postitus'].apply(text_preprocess_bert)\n",
    "df_filtered2['bert_text'] = df_filtered2['bert_text'].apply(remove_eng_words)\n",
    "\n",
    "#subset['bertopic_text2'] = subset['postitus'].apply(text_preprocess_bertopic)\n",
    "#subset['bertopic_text2'] = subset['bertopic_text2'].apply(remove_eng_words)\n"
   ]
  },
  {
   "cell_type": "code",
   "execution_count": 385,
   "id": "f1c8c9c8",
   "metadata": {},
   "outputs": [],
   "source": [
    "# save file\n",
    "df_filtered2.to_excel('leaders_bert.xlsx', index = False)"
   ]
  },
  {
   "cell_type": "code",
   "execution_count": null,
   "id": "085af83d",
   "metadata": {},
   "outputs": [],
   "source": []
  },
  {
   "cell_type": "code",
   "execution_count": null,
   "id": "042fc45b",
   "metadata": {},
   "outputs": [],
   "source": []
  },
  {
   "cell_type": "markdown",
   "id": "48545d0c",
   "metadata": {},
   "source": [
    "## "
   ]
  }
 ],
 "metadata": {
  "kernelspec": {
   "display_name": "Python 3 (ipykernel)",
   "language": "python",
   "name": "python3"
  },
  "language_info": {
   "codemirror_mode": {
    "name": "ipython",
    "version": 3
   },
   "file_extension": ".py",
   "mimetype": "text/x-python",
   "name": "python",
   "nbconvert_exporter": "python",
   "pygments_lexer": "ipython3",
   "version": "3.8.8"
  }
 },
 "nbformat": 4,
 "nbformat_minor": 5
}
